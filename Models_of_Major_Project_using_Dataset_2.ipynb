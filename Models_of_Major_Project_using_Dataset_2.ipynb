{
  "cells": [
    {
      "cell_type": "markdown",
      "metadata": {
        "id": "view-in-github",
        "colab_type": "text"
      },
      "source": [
        "<a href=\"https://colab.research.google.com/github/Harman1107/Major_Project_Parkinson/blob/DevHarman/Models_of_Major_Project_using_Dataset_2.ipynb\" target=\"_parent\"><img src=\"https://colab.research.google.com/assets/colab-badge.svg\" alt=\"Open In Colab\"/></a>"
      ]
    },
    {
      "cell_type": "markdown",
      "metadata": {
        "id": "9B5Zl1UOBMAJ"
      },
      "source": [
        "Importing the Dependencies"
      ]
    },
    {
      "cell_type": "code",
      "execution_count": 1,
      "metadata": {
        "id": "YOCpZ1Vm6cfW"
      },
      "outputs": [],
      "source": [
        "import numpy as np\n",
        "import pandas as pd\n",
        "from sklearn.model_selection import train_test_split\n",
        "from sklearn.preprocessing import StandardScaler\n",
        "from sklearn.ensemble import RandomForestClassifier\n",
        "from sklearn.naive_bayes import GaussianNB\n",
        "import xgboost as xgb\n",
        "from sklearn import svm\n",
        "import seaborn as sns\n",
        "from sklearn import metrics\n",
        "import matplotlib.pyplot as plt\n",
        "from sklearn.metrics import accuracy_score"
      ]
    },
    {
      "cell_type": "markdown",
      "metadata": {
        "id": "PZm-USrtB_q4"
      },
      "source": [
        "Data Collection & Analysis"
      ]
    },
    {
      "cell_type": "code",
      "execution_count": 2,
      "metadata": {
        "id": "5YC2lGuVBiZA"
      },
      "outputs": [],
      "source": [
        "# loading the data from csv file to a Pandas DataFrame\n",
        "parkinsons_data = pd.read_csv('./eeg_dataset(2).csv')"
      ]
    },
    {
      "cell_type": "code",
      "execution_count": 3,
      "metadata": {
        "colab": {
          "base_uri": "https://localhost:8080/",
          "height": 299
        },
        "id": "Iw8z6w60Djd2",
        "outputId": "f25f8f96-480f-49e5-d09b-8be9e162cfd6"
      },
      "outputs": [
        {
          "output_type": "execute_result",
          "data": {
            "text/plain": [
              "        Fp1       AF3        F7        F3       FC1       FC5        T7  \\\n",
              "0 -0.018572 -0.016547 -0.012220 -0.026548 -0.015249 -0.012315 -0.005031   \n",
              "1 -0.015544 -0.007960 -0.009142 -0.004414  0.002998 -0.005721 -0.001822   \n",
              "2 -0.013005 -0.014493 -0.005920 -0.007964 -0.004377 -0.002638 -0.010482   \n",
              "3 -0.009478 -0.013750 -0.005022 -0.013594 -0.005313 -0.007160 -0.002833   \n",
              "4 -0.002619 -0.006864 -0.006059 -0.013748 -0.001356 -0.009366 -0.009207   \n",
              "\n",
              "         C3       CP1       CP5  ...        T8      FC6       FC2        F4  \\\n",
              "0 -0.014535 -0.012051 -0.009093  ... -0.011194 -0.01085 -0.009106 -0.014477   \n",
              "1  0.005940 -0.007404  0.002348  ... -0.001600  0.00008 -0.002471 -0.003974   \n",
              "2 -0.003170 -0.000205 -0.001762  ... -0.008962 -0.00519 -0.004611 -0.013489   \n",
              "3 -0.003069 -0.001594  0.001301  ... -0.002374 -0.00158 -0.007699 -0.011463   \n",
              "4  0.001396 -0.001500 -0.002128  ... -0.004904 -0.00636 -0.004691 -0.008551   \n",
              "\n",
              "         F8       AF4       Fp2        Fz        Cz  Status  \n",
              "0 -0.010789 -0.008840 -0.010232 -0.007059 -0.009808       0  \n",
              "1 -0.014098 -0.005188 -0.014829 -0.000739 -0.002891       0  \n",
              "2 -0.006619 -0.014944 -0.010761 -0.004509  0.004039       1  \n",
              "3 -0.005926 -0.008118 -0.002620 -0.007471 -0.003515       0  \n",
              "4 -0.005941 -0.002934  0.007832  0.000120 -0.004394       1  \n",
              "\n",
              "[5 rows x 33 columns]"
            ],
            "text/html": [
              "\n",
              "  <div id=\"df-7d2a8702-edba-4c77-a81c-ef2e9bfbde3b\">\n",
              "    <div class=\"colab-df-container\">\n",
              "      <div>\n",
              "<style scoped>\n",
              "    .dataframe tbody tr th:only-of-type {\n",
              "        vertical-align: middle;\n",
              "    }\n",
              "\n",
              "    .dataframe tbody tr th {\n",
              "        vertical-align: top;\n",
              "    }\n",
              "\n",
              "    .dataframe thead th {\n",
              "        text-align: right;\n",
              "    }\n",
              "</style>\n",
              "<table border=\"1\" class=\"dataframe\">\n",
              "  <thead>\n",
              "    <tr style=\"text-align: right;\">\n",
              "      <th></th>\n",
              "      <th>Fp1</th>\n",
              "      <th>AF3</th>\n",
              "      <th>F7</th>\n",
              "      <th>F3</th>\n",
              "      <th>FC1</th>\n",
              "      <th>FC5</th>\n",
              "      <th>T7</th>\n",
              "      <th>C3</th>\n",
              "      <th>CP1</th>\n",
              "      <th>CP5</th>\n",
              "      <th>...</th>\n",
              "      <th>T8</th>\n",
              "      <th>FC6</th>\n",
              "      <th>FC2</th>\n",
              "      <th>F4</th>\n",
              "      <th>F8</th>\n",
              "      <th>AF4</th>\n",
              "      <th>Fp2</th>\n",
              "      <th>Fz</th>\n",
              "      <th>Cz</th>\n",
              "      <th>Status</th>\n",
              "    </tr>\n",
              "  </thead>\n",
              "  <tbody>\n",
              "    <tr>\n",
              "      <th>0</th>\n",
              "      <td>-0.018572</td>\n",
              "      <td>-0.016547</td>\n",
              "      <td>-0.012220</td>\n",
              "      <td>-0.026548</td>\n",
              "      <td>-0.015249</td>\n",
              "      <td>-0.012315</td>\n",
              "      <td>-0.005031</td>\n",
              "      <td>-0.014535</td>\n",
              "      <td>-0.012051</td>\n",
              "      <td>-0.009093</td>\n",
              "      <td>...</td>\n",
              "      <td>-0.011194</td>\n",
              "      <td>-0.01085</td>\n",
              "      <td>-0.009106</td>\n",
              "      <td>-0.014477</td>\n",
              "      <td>-0.010789</td>\n",
              "      <td>-0.008840</td>\n",
              "      <td>-0.010232</td>\n",
              "      <td>-0.007059</td>\n",
              "      <td>-0.009808</td>\n",
              "      <td>0</td>\n",
              "    </tr>\n",
              "    <tr>\n",
              "      <th>1</th>\n",
              "      <td>-0.015544</td>\n",
              "      <td>-0.007960</td>\n",
              "      <td>-0.009142</td>\n",
              "      <td>-0.004414</td>\n",
              "      <td>0.002998</td>\n",
              "      <td>-0.005721</td>\n",
              "      <td>-0.001822</td>\n",
              "      <td>0.005940</td>\n",
              "      <td>-0.007404</td>\n",
              "      <td>0.002348</td>\n",
              "      <td>...</td>\n",
              "      <td>-0.001600</td>\n",
              "      <td>0.00008</td>\n",
              "      <td>-0.002471</td>\n",
              "      <td>-0.003974</td>\n",
              "      <td>-0.014098</td>\n",
              "      <td>-0.005188</td>\n",
              "      <td>-0.014829</td>\n",
              "      <td>-0.000739</td>\n",
              "      <td>-0.002891</td>\n",
              "      <td>0</td>\n",
              "    </tr>\n",
              "    <tr>\n",
              "      <th>2</th>\n",
              "      <td>-0.013005</td>\n",
              "      <td>-0.014493</td>\n",
              "      <td>-0.005920</td>\n",
              "      <td>-0.007964</td>\n",
              "      <td>-0.004377</td>\n",
              "      <td>-0.002638</td>\n",
              "      <td>-0.010482</td>\n",
              "      <td>-0.003170</td>\n",
              "      <td>-0.000205</td>\n",
              "      <td>-0.001762</td>\n",
              "      <td>...</td>\n",
              "      <td>-0.008962</td>\n",
              "      <td>-0.00519</td>\n",
              "      <td>-0.004611</td>\n",
              "      <td>-0.013489</td>\n",
              "      <td>-0.006619</td>\n",
              "      <td>-0.014944</td>\n",
              "      <td>-0.010761</td>\n",
              "      <td>-0.004509</td>\n",
              "      <td>0.004039</td>\n",
              "      <td>1</td>\n",
              "    </tr>\n",
              "    <tr>\n",
              "      <th>3</th>\n",
              "      <td>-0.009478</td>\n",
              "      <td>-0.013750</td>\n",
              "      <td>-0.005022</td>\n",
              "      <td>-0.013594</td>\n",
              "      <td>-0.005313</td>\n",
              "      <td>-0.007160</td>\n",
              "      <td>-0.002833</td>\n",
              "      <td>-0.003069</td>\n",
              "      <td>-0.001594</td>\n",
              "      <td>0.001301</td>\n",
              "      <td>...</td>\n",
              "      <td>-0.002374</td>\n",
              "      <td>-0.00158</td>\n",
              "      <td>-0.007699</td>\n",
              "      <td>-0.011463</td>\n",
              "      <td>-0.005926</td>\n",
              "      <td>-0.008118</td>\n",
              "      <td>-0.002620</td>\n",
              "      <td>-0.007471</td>\n",
              "      <td>-0.003515</td>\n",
              "      <td>0</td>\n",
              "    </tr>\n",
              "    <tr>\n",
              "      <th>4</th>\n",
              "      <td>-0.002619</td>\n",
              "      <td>-0.006864</td>\n",
              "      <td>-0.006059</td>\n",
              "      <td>-0.013748</td>\n",
              "      <td>-0.001356</td>\n",
              "      <td>-0.009366</td>\n",
              "      <td>-0.009207</td>\n",
              "      <td>0.001396</td>\n",
              "      <td>-0.001500</td>\n",
              "      <td>-0.002128</td>\n",
              "      <td>...</td>\n",
              "      <td>-0.004904</td>\n",
              "      <td>-0.00636</td>\n",
              "      <td>-0.004691</td>\n",
              "      <td>-0.008551</td>\n",
              "      <td>-0.005941</td>\n",
              "      <td>-0.002934</td>\n",
              "      <td>0.007832</td>\n",
              "      <td>0.000120</td>\n",
              "      <td>-0.004394</td>\n",
              "      <td>1</td>\n",
              "    </tr>\n",
              "  </tbody>\n",
              "</table>\n",
              "<p>5 rows × 33 columns</p>\n",
              "</div>\n",
              "      <button class=\"colab-df-convert\" onclick=\"convertToInteractive('df-7d2a8702-edba-4c77-a81c-ef2e9bfbde3b')\"\n",
              "              title=\"Convert this dataframe to an interactive table.\"\n",
              "              style=\"display:none;\">\n",
              "        \n",
              "  <svg xmlns=\"http://www.w3.org/2000/svg\" height=\"24px\"viewBox=\"0 0 24 24\"\n",
              "       width=\"24px\">\n",
              "    <path d=\"M0 0h24v24H0V0z\" fill=\"none\"/>\n",
              "    <path d=\"M18.56 5.44l.94 2.06.94-2.06 2.06-.94-2.06-.94-.94-2.06-.94 2.06-2.06.94zm-11 1L8.5 8.5l.94-2.06 2.06-.94-2.06-.94L8.5 2.5l-.94 2.06-2.06.94zm10 10l.94 2.06.94-2.06 2.06-.94-2.06-.94-.94-2.06-.94 2.06-2.06.94z\"/><path d=\"M17.41 7.96l-1.37-1.37c-.4-.4-.92-.59-1.43-.59-.52 0-1.04.2-1.43.59L10.3 9.45l-7.72 7.72c-.78.78-.78 2.05 0 2.83L4 21.41c.39.39.9.59 1.41.59.51 0 1.02-.2 1.41-.59l7.78-7.78 2.81-2.81c.8-.78.8-2.07 0-2.86zM5.41 20L4 18.59l7.72-7.72 1.47 1.35L5.41 20z\"/>\n",
              "  </svg>\n",
              "      </button>\n",
              "      \n",
              "  <style>\n",
              "    .colab-df-container {\n",
              "      display:flex;\n",
              "      flex-wrap:wrap;\n",
              "      gap: 12px;\n",
              "    }\n",
              "\n",
              "    .colab-df-convert {\n",
              "      background-color: #E8F0FE;\n",
              "      border: none;\n",
              "      border-radius: 50%;\n",
              "      cursor: pointer;\n",
              "      display: none;\n",
              "      fill: #1967D2;\n",
              "      height: 32px;\n",
              "      padding: 0 0 0 0;\n",
              "      width: 32px;\n",
              "    }\n",
              "\n",
              "    .colab-df-convert:hover {\n",
              "      background-color: #E2EBFA;\n",
              "      box-shadow: 0px 1px 2px rgba(60, 64, 67, 0.3), 0px 1px 3px 1px rgba(60, 64, 67, 0.15);\n",
              "      fill: #174EA6;\n",
              "    }\n",
              "\n",
              "    [theme=dark] .colab-df-convert {\n",
              "      background-color: #3B4455;\n",
              "      fill: #D2E3FC;\n",
              "    }\n",
              "\n",
              "    [theme=dark] .colab-df-convert:hover {\n",
              "      background-color: #434B5C;\n",
              "      box-shadow: 0px 1px 3px 1px rgba(0, 0, 0, 0.15);\n",
              "      filter: drop-shadow(0px 1px 2px rgba(0, 0, 0, 0.3));\n",
              "      fill: #FFFFFF;\n",
              "    }\n",
              "  </style>\n",
              "\n",
              "      <script>\n",
              "        const buttonEl =\n",
              "          document.querySelector('#df-7d2a8702-edba-4c77-a81c-ef2e9bfbde3b button.colab-df-convert');\n",
              "        buttonEl.style.display =\n",
              "          google.colab.kernel.accessAllowed ? 'block' : 'none';\n",
              "\n",
              "        async function convertToInteractive(key) {\n",
              "          const element = document.querySelector('#df-7d2a8702-edba-4c77-a81c-ef2e9bfbde3b');\n",
              "          const dataTable =\n",
              "            await google.colab.kernel.invokeFunction('convertToInteractive',\n",
              "                                                     [key], {});\n",
              "          if (!dataTable) return;\n",
              "\n",
              "          const docLinkHtml = 'Like what you see? Visit the ' +\n",
              "            '<a target=\"_blank\" href=https://colab.research.google.com/notebooks/data_table.ipynb>data table notebook</a>'\n",
              "            + ' to learn more about interactive tables.';\n",
              "          element.innerHTML = '';\n",
              "          dataTable['output_type'] = 'display_data';\n",
              "          await google.colab.output.renderOutput(dataTable, element);\n",
              "          const docLink = document.createElement('div');\n",
              "          docLink.innerHTML = docLinkHtml;\n",
              "          element.appendChild(docLink);\n",
              "        }\n",
              "      </script>\n",
              "    </div>\n",
              "  </div>\n",
              "  "
            ]
          },
          "metadata": {},
          "execution_count": 3
        }
      ],
      "source": [
        "# printing the first 5 rows of the dataframe\n",
        "parkinsons_data.head()"
      ]
    },
    {
      "cell_type": "code",
      "execution_count": 4,
      "metadata": {
        "colab": {
          "base_uri": "https://localhost:8080/"
        },
        "id": "cK7L_o2TDuZb",
        "outputId": "d7b94d54-ca58-435c-e522-863c736ba526"
      },
      "outputs": [
        {
          "output_type": "execute_result",
          "data": {
            "text/plain": [
              "(31, 33)"
            ]
          },
          "metadata": {},
          "execution_count": 4
        }
      ],
      "source": [
        "# number of rows and columns in the dataframe\n",
        "parkinsons_data.shape"
      ]
    },
    {
      "cell_type": "code",
      "execution_count": 5,
      "metadata": {
        "id": "_4ObWgmt_25W"
      },
      "outputs": [],
      "source": [
        "for column in parkinsons_data.columns:\n",
        "    if parkinsons_data[column].dtype == 'object':\n",
        "        parkinsons_data = parkinsons_data.drop(column, axis=1)"
      ]
    },
    {
      "cell_type": "code",
      "execution_count": 6,
      "metadata": {
        "colab": {
          "base_uri": "https://localhost:8080/"
        },
        "id": "NLmzHIgnEGi4",
        "outputId": "a0618f15-fc00-4b99-d723-154936296680"
      },
      "outputs": [
        {
          "output_type": "stream",
          "name": "stdout",
          "text": [
            "<class 'pandas.core.frame.DataFrame'>\n",
            "RangeIndex: 31 entries, 0 to 30\n",
            "Data columns (total 33 columns):\n",
            " #   Column  Non-Null Count  Dtype  \n",
            "---  ------  --------------  -----  \n",
            " 0   Fp1     31 non-null     float64\n",
            " 1   AF3     31 non-null     float64\n",
            " 2   F7      31 non-null     float64\n",
            " 3   F3      31 non-null     float64\n",
            " 4   FC1     31 non-null     float64\n",
            " 5   FC5     31 non-null     float64\n",
            " 6   T7      31 non-null     float64\n",
            " 7   C3      31 non-null     float64\n",
            " 8   CP1     31 non-null     float64\n",
            " 9   CP5     31 non-null     float64\n",
            " 10  P7      31 non-null     float64\n",
            " 11  P3      31 non-null     float64\n",
            " 12  Pz      31 non-null     float64\n",
            " 13  PO3     31 non-null     float64\n",
            " 14  O1      31 non-null     float64\n",
            " 15  Oz      31 non-null     float64\n",
            " 16  O2      31 non-null     float64\n",
            " 17  PO4     31 non-null     float64\n",
            " 18  P4      31 non-null     float64\n",
            " 19  P8      31 non-null     float64\n",
            " 20  CP6     31 non-null     float64\n",
            " 21  CP2     31 non-null     float64\n",
            " 22  C4      31 non-null     float64\n",
            " 23  T8      31 non-null     float64\n",
            " 24  FC6     31 non-null     float64\n",
            " 25  FC2     31 non-null     float64\n",
            " 26  F4      31 non-null     float64\n",
            " 27  F8      31 non-null     float64\n",
            " 28  AF4     31 non-null     float64\n",
            " 29  Fp2     31 non-null     float64\n",
            " 30  Fz      31 non-null     float64\n",
            " 31  Cz      31 non-null     float64\n",
            " 32  Status  31 non-null     int64  \n",
            "dtypes: float64(32), int64(1)\n",
            "memory usage: 8.1 KB\n"
          ]
        }
      ],
      "source": [
        "# getting more information about the dataset\n",
        "parkinsons_data.info()"
      ]
    },
    {
      "cell_type": "code",
      "execution_count": 7,
      "metadata": {
        "id": "mj8QYLHc1hJh",
        "outputId": "3171d6c6-c84c-4cc9-da8e-b452ea7dad6c",
        "colab": {
          "base_uri": "https://localhost:8080/",
          "height": 430
        }
      },
      "outputs": [
        {
          "output_type": "display_data",
          "data": {
            "text/plain": [
              "<Figure size 640x480 with 1 Axes>"
            ],
            "image/png": "[encoded data removed]"
          },
          "metadata": {}
        }
      ],
      "source": [
        "plt.plot(parkinsons_data)\n",
        "plt.show()\n",
        "    "
      ]
    },
    {
      "cell_type": "code",
      "execution_count": 8,
      "metadata": {
        "colab": {
          "base_uri": "https://localhost:8080/"
        },
        "id": "70rgu_k4ET9F",
        "outputId": "fd36ba0f-67b7-44d8-d1b5-f559d249784d"
      },
      "outputs": [
        {
          "output_type": "execute_result",
          "data": {
            "text/plain": [
              "Fp1       0\n",
              "AF3       0\n",
              "F7        0\n",
              "F3        0\n",
              "FC1       0\n",
              "FC5       0\n",
              "T7        0\n",
              "C3        0\n",
              "CP1       0\n",
              "CP5       0\n",
              "P7        0\n",
              "P3        0\n",
              "Pz        0\n",
              "PO3       0\n",
              "O1        0\n",
              "Oz        0\n",
              "O2        0\n",
              "PO4       0\n",
              "P4        0\n",
              "P8        0\n",
              "CP6       0\n",
              "CP2       0\n",
              "C4        0\n",
              "T8        0\n",
              "FC6       0\n",
              "FC2       0\n",
              "F4        0\n",
              "F8        0\n",
              "AF4       0\n",
              "Fp2       0\n",
              "Fz        0\n",
              "Cz        0\n",
              "Status    0\n",
              "dtype: int64"
            ]
          },
          "metadata": {},
          "execution_count": 8
        }
      ],
      "source": [
        "# checking for missing values in each column\n",
        "parkinsons_data.isnull().sum()"
      ]
    },
    {
      "cell_type": "code",
      "execution_count": 9,
      "metadata": {
        "colab": {
          "base_uri": "https://localhost:8080/",
          "height": 394
        },
        "id": "1AxFu0-nEhSA",
        "outputId": "7936305b-1b85-4204-81d9-52088841bd55"
      },
      "outputs": [
        {
          "output_type": "execute_result",
          "data": {
            "text/plain": [
              "             Fp1        AF3         F7         F3        FC1        FC5  \\\n",
              "count  31.000000  31.000000  31.000000  31.000000  31.000000  31.000000   \n",
              "mean   -0.004972  -0.003752  -0.002855  -0.003112  -0.001860  -0.002367   \n",
              "std     0.008525   0.008086   0.007269   0.009014   0.006272   0.006635   \n",
              "min    -0.020594  -0.016670  -0.013366  -0.026548  -0.015249  -0.014222   \n",
              "25%    -0.009959  -0.009553  -0.007550  -0.007763  -0.005167  -0.007148   \n",
              "50%    -0.004315  -0.004331  -0.004093  -0.004414  -0.002649  -0.002654   \n",
              "75%    -0.000590   0.001483   0.001318   0.001623   0.000619   0.002300   \n",
              "max     0.018389   0.016121   0.021652   0.017025   0.021726   0.010559   \n",
              "\n",
              "              T7         C3        CP1        CP5  ...         T8        FC6  \\\n",
              "count  31.000000  31.000000  31.000000  31.000000  ...  31.000000  31.000000   \n",
              "mean   -0.001743   0.000777  -0.000098   0.000423  ...  -0.003956  -0.000573   \n",
              "std     0.006895   0.006835   0.005694   0.005803  ...   0.006210   0.007083   \n",
              "min    -0.012017  -0.014535  -0.012051  -0.014933  ...  -0.019470  -0.012326   \n",
              "25%    -0.005121  -0.003119  -0.003186  -0.002127  ...  -0.007644  -0.005809   \n",
              "50%    -0.002432   0.001060  -0.000205   0.000732  ...  -0.004904  -0.001568   \n",
              "75%    -0.000783   0.004567   0.003832   0.003813  ...  -0.001164   0.003117   \n",
              "max     0.024101   0.023857   0.012009   0.011203  ...   0.007445   0.018850   \n",
              "\n",
              "             FC2         F4         F8        AF4        Fp2         Fz  \\\n",
              "count  31.000000  31.000000  31.000000  31.000000  31.000000  31.000000   \n",
              "mean   -0.003004  -0.005555  -0.002910  -0.002747  -0.004318  -0.000653   \n",
              "std     0.006375   0.007420   0.007966   0.008597   0.008142   0.009012   \n",
              "min    -0.015042  -0.014477  -0.014098  -0.020858  -0.021175  -0.014712   \n",
              "25%    -0.007507  -0.010382  -0.007291  -0.007765  -0.009516  -0.007021   \n",
              "50%    -0.004175  -0.007997  -0.005895  -0.002934  -0.003664  -0.001961   \n",
              "75%     0.000959  -0.002652   0.000653   0.000853  -0.000059   0.002029   \n",
              "max     0.013796   0.017983   0.018864   0.018009   0.011572   0.023451   \n",
              "\n",
              "              Cz     Status  \n",
              "count  31.000000  31.000000  \n",
              "mean   -0.000057   0.483871  \n",
              "std     0.006144   0.508001  \n",
              "min    -0.016635   0.000000  \n",
              "25%    -0.004137   0.000000  \n",
              "50%    -0.000799   0.000000  \n",
              "75%     0.004483   1.000000  \n",
              "max     0.012831   1.000000  \n",
              "\n",
              "[8 rows x 33 columns]"
            ],
            "text/html": [
              "\n",
              "  <div id=\"df-c82d20b1-548f-443d-baec-a26c77639c16\">\n",
              "    <div class=\"colab-df-container\">\n",
              "      <div>\n",
              "<style scoped>\n",
              "    .dataframe tbody tr th:only-of-type {\n",
              "        vertical-align: middle;\n",
              "    }\n",
              "\n",
              "    .dataframe tbody tr th {\n",
              "        vertical-align: top;\n",
              "    }\n",
              "\n",
              "    .dataframe thead th {\n",
              "        text-align: right;\n",
              "    }\n",
              "</style>\n",
              "<table border=\"1\" class=\"dataframe\">\n",
              "  <thead>\n",
              "    <tr style=\"text-align: right;\">\n",
              "      <th></th>\n",
              "      <th>Fp1</th>\n",
              "      <th>AF3</th>\n",
              "      <th>F7</th>\n",
              "      <th>F3</th>\n",
              "      <th>FC1</th>\n",
              "      <th>FC5</th>\n",
              "      <th>T7</th>\n",
              "      <th>C3</th>\n",
              "      <th>CP1</th>\n",
              "      <th>CP5</th>\n",
              "      <th>...</th>\n",
              "      <th>T8</th>\n",
              "      <th>FC6</th>\n",
              "      <th>FC2</th>\n",
              "      <th>F4</th>\n",
              "      <th>F8</th>\n",
              "      <th>AF4</th>\n",
              "      <th>Fp2</th>\n",
              "      <th>Fz</th>\n",
              "      <th>Cz</th>\n",
              "      <th>Status</th>\n",
              "    </tr>\n",
              "  </thead>\n",
              "  <tbody>\n",
              "    <tr>\n",
              "      <th>count</th>\n",
              "      <td>31.000000</td>\n",
              "      <td>31.000000</td>\n",
              "      <td>31.000000</td>\n",
              "      <td>31.000000</td>\n",
              "      <td>31.000000</td>\n",
              "      <td>31.000000</td>\n",
              "      <td>31.000000</td>\n",
              "      <td>31.000000</td>\n",
              "      <td>31.000000</td>\n",
              "      <td>31.000000</td>\n",
              "      <td>...</td>\n",
              "      <td>31.000000</td>\n",
              "      <td>31.000000</td>\n",
              "      <td>31.000000</td>\n",
              "      <td>31.000000</td>\n",
              "      <td>31.000000</td>\n",
              "      <td>31.000000</td>\n",
              "      <td>31.000000</td>\n",
              "      <td>31.000000</td>\n",
              "      <td>31.000000</td>\n",
              "      <td>31.000000</td>\n",
              "    </tr>\n",
              "    <tr>\n",
              "      <th>mean</th>\n",
              "      <td>-0.004972</td>\n",
              "      <td>-0.003752</td>\n",
              "      <td>-0.002855</td>\n",
              "      <td>-0.003112</td>\n",
              "      <td>-0.001860</td>\n",
              "      <td>-0.002367</td>\n",
              "      <td>-0.001743</td>\n",
              "      <td>0.000777</td>\n",
              "      <td>-0.000098</td>\n",
              "      <td>0.000423</td>\n",
              "      <td>...</td>\n",
              "      <td>-0.003956</td>\n",
              "      <td>-0.000573</td>\n",
              "      <td>-0.003004</td>\n",
              "      <td>-0.005555</td>\n",
              "      <td>-0.002910</td>\n",
              "      <td>-0.002747</td>\n",
              "      <td>-0.004318</td>\n",
              "      <td>-0.000653</td>\n",
              "      <td>-0.000057</td>\n",
              "      <td>0.483871</td>\n",
              "    </tr>\n",
              "    <tr>\n",
              "      <th>std</th>\n",
              "      <td>0.008525</td>\n",
              "      <td>0.008086</td>\n",
              "      <td>0.007269</td>\n",
              "      <td>0.009014</td>\n",
              "      <td>0.006272</td>\n",
              "      <td>0.006635</td>\n",
              "      <td>0.006895</td>\n",
              "      <td>0.006835</td>\n",
              "      <td>0.005694</td>\n",
              "      <td>0.005803</td>\n",
              "      <td>...</td>\n",
              "      <td>0.006210</td>\n",
              "      <td>0.007083</td>\n",
              "      <td>0.006375</td>\n",
              "      <td>0.007420</td>\n",
              "      <td>0.007966</td>\n",
              "      <td>0.008597</td>\n",
              "      <td>0.008142</td>\n",
              "      <td>0.009012</td>\n",
              "      <td>0.006144</td>\n",
              "      <td>0.508001</td>\n",
              "    </tr>\n",
              "    <tr>\n",
              "      <th>min</th>\n",
              "      <td>-0.020594</td>\n",
              "      <td>-0.016670</td>\n",
              "      <td>-0.013366</td>\n",
              "      <td>-0.026548</td>\n",
              "      <td>-0.015249</td>\n",
              "      <td>-0.014222</td>\n",
              "      <td>-0.012017</td>\n",
              "      <td>-0.014535</td>\n",
              "      <td>-0.012051</td>\n",
              "      <td>-0.014933</td>\n",
              "      <td>...</td>\n",
              "      <td>-0.019470</td>\n",
              "      <td>-0.012326</td>\n",
              "      <td>-0.015042</td>\n",
              "      <td>-0.014477</td>\n",
              "      <td>-0.014098</td>\n",
              "      <td>-0.020858</td>\n",
              "      <td>-0.021175</td>\n",
              "      <td>-0.014712</td>\n",
              "      <td>-0.016635</td>\n",
              "      <td>0.000000</td>\n",
              "    </tr>\n",
              "    <tr>\n",
              "      <th>25%</th>\n",
              "      <td>-0.009959</td>\n",
              "      <td>-0.009553</td>\n",
              "      <td>-0.007550</td>\n",
              "      <td>-0.007763</td>\n",
              "      <td>-0.005167</td>\n",
              "      <td>-0.007148</td>\n",
              "      <td>-0.005121</td>\n",
              "      <td>-0.003119</td>\n",
              "      <td>-0.003186</td>\n",
              "      <td>-0.002127</td>\n",
              "      <td>...</td>\n",
              "      <td>-0.007644</td>\n",
              "      <td>-0.005809</td>\n",
              "      <td>-0.007507</td>\n",
              "      <td>-0.010382</td>\n",
              "      <td>-0.007291</td>\n",
              "      <td>-0.007765</td>\n",
              "      <td>-0.009516</td>\n",
              "      <td>-0.007021</td>\n",
              "      <td>-0.004137</td>\n",
              "      <td>0.000000</td>\n",
              "    </tr>\n",
              "    <tr>\n",
              "      <th>50%</th>\n",
              "      <td>-0.004315</td>\n",
              "      <td>-0.004331</td>\n",
              "      <td>-0.004093</td>\n",
              "      <td>-0.004414</td>\n",
              "      <td>-0.002649</td>\n",
              "      <td>-0.002654</td>\n",
              "      <td>-0.002432</td>\n",
              "      <td>0.001060</td>\n",
              "      <td>-0.000205</td>\n",
              "      <td>0.000732</td>\n",
              "      <td>...</td>\n",
              "      <td>-0.004904</td>\n",
              "      <td>-0.001568</td>\n",
              "      <td>-0.004175</td>\n",
              "      <td>-0.007997</td>\n",
              "      <td>-0.005895</td>\n",
              "      <td>-0.002934</td>\n",
              "      <td>-0.003664</td>\n",
              "      <td>-0.001961</td>\n",
              "      <td>-0.000799</td>\n",
              "      <td>0.000000</td>\n",
              "    </tr>\n",
              "    <tr>\n",
              "      <th>75%</th>\n",
              "      <td>-0.000590</td>\n",
              "      <td>0.001483</td>\n",
              "      <td>0.001318</td>\n",
              "      <td>0.001623</td>\n",
              "      <td>0.000619</td>\n",
              "      <td>0.002300</td>\n",
              "      <td>-0.000783</td>\n",
              "      <td>0.004567</td>\n",
              "      <td>0.003832</td>\n",
              "      <td>0.003813</td>\n",
              "      <td>...</td>\n",
              "      <td>-0.001164</td>\n",
              "      <td>0.003117</td>\n",
              "      <td>0.000959</td>\n",
              "      <td>-0.002652</td>\n",
              "      <td>0.000653</td>\n",
              "      <td>0.000853</td>\n",
              "      <td>-0.000059</td>\n",
              "      <td>0.002029</td>\n",
              "      <td>0.004483</td>\n",
              "      <td>1.000000</td>\n",
              "    </tr>\n",
              "    <tr>\n",
              "      <th>max</th>\n",
              "      <td>0.018389</td>\n",
              "      <td>0.016121</td>\n",
              "      <td>0.021652</td>\n",
              "      <td>0.017025</td>\n",
              "      <td>0.021726</td>\n",
              "      <td>0.010559</td>\n",
              "      <td>0.024101</td>\n",
              "      <td>0.023857</td>\n",
              "      <td>0.012009</td>\n",
              "      <td>0.011203</td>\n",
              "      <td>...</td>\n",
              "      <td>0.007445</td>\n",
              "      <td>0.018850</td>\n",
              "      <td>0.013796</td>\n",
              "      <td>0.017983</td>\n",
              "      <td>0.018864</td>\n",
              "      <td>0.018009</td>\n",
              "      <td>0.011572</td>\n",
              "      <td>0.023451</td>\n",
              "      <td>0.012831</td>\n",
              "      <td>1.000000</td>\n",
              "    </tr>\n",
              "  </tbody>\n",
              "</table>\n",
              "<p>8 rows × 33 columns</p>\n",
              "</div>\n",
              "      <button class=\"colab-df-convert\" onclick=\"convertToInteractive('df-c82d20b1-548f-443d-baec-a26c77639c16')\"\n",
              "              title=\"Convert this dataframe to an interactive table.\"\n",
              "              style=\"display:none;\">\n",
              "        \n",
              "  <svg xmlns=\"http://www.w3.org/2000/svg\" height=\"24px\"viewBox=\"0 0 24 24\"\n",
              "       width=\"24px\">\n",
              "    <path d=\"M0 0h24v24H0V0z\" fill=\"none\"/>\n",
              "    <path d=\"M18.56 5.44l.94 2.06.94-2.06 2.06-.94-2.06-.94-.94-2.06-.94 2.06-2.06.94zm-11 1L8.5 8.5l.94-2.06 2.06-.94-2.06-.94L8.5 2.5l-.94 2.06-2.06.94zm10 10l.94 2.06.94-2.06 2.06-.94-2.06-.94-.94-2.06-.94 2.06-2.06.94z\"/><path d=\"M17.41 7.96l-1.37-1.37c-.4-.4-.92-.59-1.43-.59-.52 0-1.04.2-1.43.59L10.3 9.45l-7.72 7.72c-.78.78-.78 2.05 0 2.83L4 21.41c.39.39.9.59 1.41.59.51 0 1.02-.2 1.41-.59l7.78-7.78 2.81-2.81c.8-.78.8-2.07 0-2.86zM5.41 20L4 18.59l7.72-7.72 1.47 1.35L5.41 20z\"/>\n",
              "  </svg>\n",
              "      </button>\n",
              "      \n",
              "  <style>\n",
              "    .colab-df-container {\n",
              "      display:flex;\n",
              "      flex-wrap:wrap;\n",
              "      gap: 12px;\n",
              "    }\n",
              "\n",
              "    .colab-df-convert {\n",
              "      background-color: #E8F0FE;\n",
              "      border: none;\n",
              "      border-radius: 50%;\n",
              "      cursor: pointer;\n",
              "      display: none;\n",
              "      fill: #1967D2;\n",
              "      height: 32px;\n",
              "      padding: 0 0 0 0;\n",
              "      width: 32px;\n",
              "    }\n",
              "\n",
              "    .colab-df-convert:hover {\n",
              "      background-color: #E2EBFA;\n",
              "      box-shadow: 0px 1px 2px rgba(60, 64, 67, 0.3), 0px 1px 3px 1px rgba(60, 64, 67, 0.15);\n",
              "      fill: #174EA6;\n",
              "    }\n",
              "\n",
              "    [theme=dark] .colab-df-convert {\n",
              "      background-color: #3B4455;\n",
              "      fill: #D2E3FC;\n",
              "    }\n",
              "\n",
              "    [theme=dark] .colab-df-convert:hover {\n",
              "      background-color: #434B5C;\n",
              "      box-shadow: 0px 1px 3px 1px rgba(0, 0, 0, 0.15);\n",
              "      filter: drop-shadow(0px 1px 2px rgba(0, 0, 0, 0.3));\n",
              "      fill: #FFFFFF;\n",
              "    }\n",
              "  </style>\n",
              "\n",
              "      <script>\n",
              "        const buttonEl =\n",
              "          document.querySelector('#df-c82d20b1-548f-443d-baec-a26c77639c16 button.colab-df-convert');\n",
              "        buttonEl.style.display =\n",
              "          google.colab.kernel.accessAllowed ? 'block' : 'none';\n",
              "\n",
              "        async function convertToInteractive(key) {\n",
              "          const element = document.querySelector('#df-c82d20b1-548f-443d-baec-a26c77639c16');\n",
              "          const dataTable =\n",
              "            await google.colab.kernel.invokeFunction('convertToInteractive',\n",
              "                                                     [key], {});\n",
              "          if (!dataTable) return;\n",
              "\n",
              "          const docLinkHtml = 'Like what you see? Visit the ' +\n",
              "            '<a target=\"_blank\" href=https://colab.research.google.com/notebooks/data_table.ipynb>data table notebook</a>'\n",
              "            + ' to learn more about interactive tables.';\n",
              "          element.innerHTML = '';\n",
              "          dataTable['output_type'] = 'display_data';\n",
              "          await google.colab.output.renderOutput(dataTable, element);\n",
              "          const docLink = document.createElement('div');\n",
              "          docLink.innerHTML = docLinkHtml;\n",
              "          element.appendChild(docLink);\n",
              "        }\n",
              "      </script>\n",
              "    </div>\n",
              "  </div>\n",
              "  "
            ]
          },
          "metadata": {},
          "execution_count": 9
        }
      ],
      "source": [
        "# getting some statistical measures about the data\n",
        "parkinsons_data.describe()"
      ]
    },
    {
      "cell_type": "code",
      "execution_count": 11,
      "metadata": {
        "colab": {
          "base_uri": "https://localhost:8080/"
        },
        "id": "3O8AclzwExyH",
        "outputId": "35cb34c2-1af0-437d-c5d9-b3a4fa49c94f"
      },
      "outputs": [
        {
          "output_type": "execute_result",
          "data": {
            "text/plain": [
              "0    16\n",
              "1    15\n",
              "Name: Status, dtype: int64"
            ]
          },
          "metadata": {},
          "execution_count": 11
        }
      ],
      "source": [
        "# distribution of target Variable\n",
        "parkinsons_data['Status'].value_counts()"
      ]
    },
    {
      "cell_type": "markdown",
      "metadata": {
        "id": "L1srlxtEFYfN"
      },
      "source": [
        "1  --> Parkinson's Positive\n",
        "\n",
        "0 --> Healthy\n"
      ]
    },
    {
      "cell_type": "code",
      "execution_count": 13,
      "metadata": {
        "colab": {
          "base_uri": "https://localhost:8080/",
          "height": 237
        },
        "id": "zUrPan7CFTMq",
        "outputId": "da1ee195-8254-4886-ec88-a76f56035aed"
      },
      "outputs": [
        {
          "output_type": "execute_result",
          "data": {
            "text/plain": [
              "             Fp1       AF3        F7        F3       FC1       FC5        T7  \\\n",
              "Status                                                                         \n",
              "0      -0.005955 -0.005123 -0.005736 -0.004614 -0.003512 -0.005481 -0.001564   \n",
              "1      -0.003923 -0.002290  0.000217 -0.001511 -0.000097  0.000954 -0.001934   \n",
              "\n",
              "              C3       CP1       CP5  ...        C4        T8       FC6  \\\n",
              "Status                                ...                                 \n",
              "0      -0.001627 -0.001469 -0.001782  ... -0.001655 -0.003686 -0.000675   \n",
              "1       0.003343  0.001364  0.002774  ...  0.000070 -0.004244 -0.000465   \n",
              "\n",
              "             FC2        F4        F8       AF4       Fp2        Fz        Cz  \n",
              "Status                                                                        \n",
              "0      -0.003893 -0.006928 -0.002722 -0.003137 -0.006118 -0.002954 -0.001036  \n",
              "1      -0.002055 -0.004090 -0.003111 -0.002332 -0.002398  0.001801  0.000986  \n",
              "\n",
              "[2 rows x 32 columns]"
            ],
            "text/html": [
              "\n",
              "  <div id=\"df-0ee73394-ce23-49b6-b93e-0332b01479cd\">\n",
              "    <div class=\"colab-df-container\">\n",
              "      <div>\n",
              "<style scoped>\n",
              "    .dataframe tbody tr th:only-of-type {\n",
              "        vertical-align: middle;\n",
              "    }\n",
              "\n",
              "    .dataframe tbody tr th {\n",
              "        vertical-align: top;\n",
              "    }\n",
              "\n",
              "    .dataframe thead th {\n",
              "        text-align: right;\n",
              "    }\n",
              "</style>\n",
              "<table border=\"1\" class=\"dataframe\">\n",
              "  <thead>\n",
              "    <tr style=\"text-align: right;\">\n",
              "      <th></th>\n",
              "      <th>Fp1</th>\n",
              "      <th>AF3</th>\n",
              "      <th>F7</th>\n",
              "      <th>F3</th>\n",
              "      <th>FC1</th>\n",
              "      <th>FC5</th>\n",
              "      <th>T7</th>\n",
              "      <th>C3</th>\n",
              "      <th>CP1</th>\n",
              "      <th>CP5</th>\n",
              "      <th>...</th>\n",
              "      <th>C4</th>\n",
              "      <th>T8</th>\n",
              "      <th>FC6</th>\n",
              "      <th>FC2</th>\n",
              "      <th>F4</th>\n",
              "      <th>F8</th>\n",
              "      <th>AF4</th>\n",
              "      <th>Fp2</th>\n",
              "      <th>Fz</th>\n",
              "      <th>Cz</th>\n",
              "    </tr>\n",
              "    <tr>\n",
              "      <th>Status</th>\n",
              "      <th></th>\n",
              "      <th></th>\n",
              "      <th></th>\n",
              "      <th></th>\n",
              "      <th></th>\n",
              "      <th></th>\n",
              "      <th></th>\n",
              "      <th></th>\n",
              "      <th></th>\n",
              "      <th></th>\n",
              "      <th></th>\n",
              "      <th></th>\n",
              "      <th></th>\n",
              "      <th></th>\n",
              "      <th></th>\n",
              "      <th></th>\n",
              "      <th></th>\n",
              "      <th></th>\n",
              "      <th></th>\n",
              "      <th></th>\n",
              "      <th></th>\n",
              "    </tr>\n",
              "  </thead>\n",
              "  <tbody>\n",
              "    <tr>\n",
              "      <th>0</th>\n",
              "      <td>-0.005955</td>\n",
              "      <td>-0.005123</td>\n",
              "      <td>-0.005736</td>\n",
              "      <td>-0.004614</td>\n",
              "      <td>-0.003512</td>\n",
              "      <td>-0.005481</td>\n",
              "      <td>-0.001564</td>\n",
              "      <td>-0.001627</td>\n",
              "      <td>-0.001469</td>\n",
              "      <td>-0.001782</td>\n",
              "      <td>...</td>\n",
              "      <td>-0.001655</td>\n",
              "      <td>-0.003686</td>\n",
              "      <td>-0.000675</td>\n",
              "      <td>-0.003893</td>\n",
              "      <td>-0.006928</td>\n",
              "      <td>-0.002722</td>\n",
              "      <td>-0.003137</td>\n",
              "      <td>-0.006118</td>\n",
              "      <td>-0.002954</td>\n",
              "      <td>-0.001036</td>\n",
              "    </tr>\n",
              "    <tr>\n",
              "      <th>1</th>\n",
              "      <td>-0.003923</td>\n",
              "      <td>-0.002290</td>\n",
              "      <td>0.000217</td>\n",
              "      <td>-0.001511</td>\n",
              "      <td>-0.000097</td>\n",
              "      <td>0.000954</td>\n",
              "      <td>-0.001934</td>\n",
              "      <td>0.003343</td>\n",
              "      <td>0.001364</td>\n",
              "      <td>0.002774</td>\n",
              "      <td>...</td>\n",
              "      <td>0.000070</td>\n",
              "      <td>-0.004244</td>\n",
              "      <td>-0.000465</td>\n",
              "      <td>-0.002055</td>\n",
              "      <td>-0.004090</td>\n",
              "      <td>-0.003111</td>\n",
              "      <td>-0.002332</td>\n",
              "      <td>-0.002398</td>\n",
              "      <td>0.001801</td>\n",
              "      <td>0.000986</td>\n",
              "    </tr>\n",
              "  </tbody>\n",
              "</table>\n",
              "<p>2 rows × 32 columns</p>\n",
              "</div>\n",
              "      <button class=\"colab-df-convert\" onclick=\"convertToInteractive('df-0ee73394-ce23-49b6-b93e-0332b01479cd')\"\n",
              "              title=\"Convert this dataframe to an interactive table.\"\n",
              "              style=\"display:none;\">\n",
              "        \n",
              "  <svg xmlns=\"http://www.w3.org/2000/svg\" height=\"24px\"viewBox=\"0 0 24 24\"\n",
              "       width=\"24px\">\n",
              "    <path d=\"M0 0h24v24H0V0z\" fill=\"none\"/>\n",
              "    <path d=\"M18.56 5.44l.94 2.06.94-2.06 2.06-.94-2.06-.94-.94-2.06-.94 2.06-2.06.94zm-11 1L8.5 8.5l.94-2.06 2.06-.94-2.06-.94L8.5 2.5l-.94 2.06-2.06.94zm10 10l.94 2.06.94-2.06 2.06-.94-2.06-.94-.94-2.06-.94 2.06-2.06.94z\"/><path d=\"M17.41 7.96l-1.37-1.37c-.4-.4-.92-.59-1.43-.59-.52 0-1.04.2-1.43.59L10.3 9.45l-7.72 7.72c-.78.78-.78 2.05 0 2.83L4 21.41c.39.39.9.59 1.41.59.51 0 1.02-.2 1.41-.59l7.78-7.78 2.81-2.81c.8-.78.8-2.07 0-2.86zM5.41 20L4 18.59l7.72-7.72 1.47 1.35L5.41 20z\"/>\n",
              "  </svg>\n",
              "      </button>\n",
              "      \n",
              "  <style>\n",
              "    .colab-df-container {\n",
              "      display:flex;\n",
              "      flex-wrap:wrap;\n",
              "      gap: 12px;\n",
              "    }\n",
              "\n",
              "    .colab-df-convert {\n",
              "      background-color: #E8F0FE;\n",
              "      border: none;\n",
              "      border-radius: 50%;\n",
              "      cursor: pointer;\n",
              "      display: none;\n",
              "      fill: #1967D2;\n",
              "      height: 32px;\n",
              "      padding: 0 0 0 0;\n",
              "      width: 32px;\n",
              "    }\n",
              "\n",
              "    .colab-df-convert:hover {\n",
              "      background-color: #E2EBFA;\n",
              "      box-shadow: 0px 1px 2px rgba(60, 64, 67, 0.3), 0px 1px 3px 1px rgba(60, 64, 67, 0.15);\n",
              "      fill: #174EA6;\n",
              "    }\n",
              "\n",
              "    [theme=dark] .colab-df-convert {\n",
              "      background-color: #3B4455;\n",
              "      fill: #D2E3FC;\n",
              "    }\n",
              "\n",
              "    [theme=dark] .colab-df-convert:hover {\n",
              "      background-color: #434B5C;\n",
              "      box-shadow: 0px 1px 3px 1px rgba(0, 0, 0, 0.15);\n",
              "      filter: drop-shadow(0px 1px 2px rgba(0, 0, 0, 0.3));\n",
              "      fill: #FFFFFF;\n",
              "    }\n",
              "  </style>\n",
              "\n",
              "      <script>\n",
              "        const buttonEl =\n",
              "          document.querySelector('#df-0ee73394-ce23-49b6-b93e-0332b01479cd button.colab-df-convert');\n",
              "        buttonEl.style.display =\n",
              "          google.colab.kernel.accessAllowed ? 'block' : 'none';\n",
              "\n",
              "        async function convertToInteractive(key) {\n",
              "          const element = document.querySelector('#df-0ee73394-ce23-49b6-b93e-0332b01479cd');\n",
              "          const dataTable =\n",
              "            await google.colab.kernel.invokeFunction('convertToInteractive',\n",
              "                                                     [key], {});\n",
              "          if (!dataTable) return;\n",
              "\n",
              "          const docLinkHtml = 'Like what you see? Visit the ' +\n",
              "            '<a target=\"_blank\" href=https://colab.research.google.com/notebooks/data_table.ipynb>data table notebook</a>'\n",
              "            + ' to learn more about interactive tables.';\n",
              "          element.innerHTML = '';\n",
              "          dataTable['output_type'] = 'display_data';\n",
              "          await google.colab.output.renderOutput(dataTable, element);\n",
              "          const docLink = document.createElement('div');\n",
              "          docLink.innerHTML = docLinkHtml;\n",
              "          element.appendChild(docLink);\n",
              "        }\n",
              "      </script>\n",
              "    </div>\n",
              "  </div>\n",
              "  "
            ]
          },
          "metadata": {},
          "execution_count": 13
        }
      ],
      "source": [
        "# grouping the data based on the target variable\n",
        "parkinsons_data.groupby('Status').mean()"
      ]
    },
    {
      "cell_type": "markdown",
      "metadata": {
        "id": "8RY6c0waGSs7"
      },
      "source": [
        "Data Pre-Processing"
      ]
    },
    {
      "cell_type": "markdown",
      "metadata": {
        "id": "We7sRYu7Gc4q"
      },
      "source": [
        "Separating the features & Target"
      ]
    },
    {
      "cell_type": "code",
      "execution_count": 15,
      "metadata": {
        "id": "UAcz8jFnFuzH"
      },
      "outputs": [],
      "source": [
        "X = parkinsons_data.drop(columns=['Status'], axis=1)\n",
        "Y = parkinsons_data['Status']"
      ]
    },
    {
      "cell_type": "code",
      "execution_count": null,
      "metadata": {
        "colab": {
          "base_uri": "https://localhost:8080/"
        },
        "id": "guRof_8WG1Yn",
        "outputId": "a3dc76ee-e7b3-44e5-e1b8-5349f160b57f"
      },
      "outputs": [
        {
          "name": "stdout",
          "output_type": "stream",
          "text": [
            "     MDVP:Fo(Hz)  MDVP:Fhi(Hz)  MDVP:Flo(Hz)  MDVP:Jitter(%)  \\\n",
            "0        119.992       157.302        74.997         0.00784   \n",
            "1        122.400       148.650       113.819         0.00968   \n",
            "2        116.682       131.111       111.555         0.01050   \n",
            "3        116.676       137.871       111.366         0.00997   \n",
            "4        116.014       141.781       110.655         0.01284   \n",
            "..           ...           ...           ...             ...   \n",
            "190      174.188       230.978        94.261         0.00459   \n",
            "191      209.516       253.017        89.488         0.00564   \n",
            "192      174.688       240.005        74.287         0.01360   \n",
            "193      198.764       396.961        74.904         0.00740   \n",
            "194      214.289       260.277        77.973         0.00567   \n",
            "\n",
            "     MDVP:Jitter(Abs)  MDVP:RAP  MDVP:PPQ  Jitter:DDP  MDVP:Shimmer  \\\n",
            "0             0.00007   0.00370   0.00554     0.01109       0.04374   \n",
            "1             0.00008   0.00465   0.00696     0.01394       0.06134   \n",
            "2             0.00009   0.00544   0.00781     0.01633       0.05233   \n",
            "3             0.00009   0.00502   0.00698     0.01505       0.05492   \n",
            "4             0.00011   0.00655   0.00908     0.01966       0.06425   \n",
            "..                ...       ...       ...         ...           ...   \n",
            "190           0.00003   0.00263   0.00259     0.00790       0.04087   \n",
            "191           0.00003   0.00331   0.00292     0.00994       0.02751   \n",
            "192           0.00008   0.00624   0.00564     0.01873       0.02308   \n",
            "193           0.00004   0.00370   0.00390     0.01109       0.02296   \n",
            "194           0.00003   0.00295   0.00317     0.00885       0.01884   \n",
            "\n",
            "     MDVP:Shimmer(dB)  ...  MDVP:APQ  Shimmer:DDA      NHR     HNR      RPDE  \\\n",
            "0               0.426  ...   0.02971      0.06545  0.02211  21.033  0.414783   \n",
            "1               0.626  ...   0.04368      0.09403  0.01929  19.085  0.458359   \n",
            "2               0.482  ...   0.03590      0.08270  0.01309  20.651  0.429895   \n",
            "3               0.517  ...   0.03772      0.08771  0.01353  20.644  0.434969   \n",
            "4               0.584  ...   0.04465      0.10470  0.01767  19.649  0.417356   \n",
            "..                ...  ...       ...          ...      ...     ...       ...   \n",
            "190             0.405  ...   0.02745      0.07008  0.02764  19.517  0.448439   \n",
            "191             0.263  ...   0.01879      0.04812  0.01810  19.147  0.431674   \n",
            "192             0.256  ...   0.01667      0.03804  0.10715  17.883  0.407567   \n",
            "193             0.241  ...   0.01588      0.03794  0.07223  19.020  0.451221   \n",
            "194             0.190  ...   0.01373      0.03078  0.04398  21.209  0.462803   \n",
            "\n",
            "          DFA   spread1   spread2        D2       PPE  \n",
            "0    0.815285 -4.813031  0.266482  2.301442  0.284654  \n",
            "1    0.819521 -4.075192  0.335590  2.486855  0.368674  \n",
            "2    0.825288 -4.443179  0.311173  2.342259  0.332634  \n",
            "3    0.819235 -4.117501  0.334147  2.405554  0.368975  \n",
            "4    0.823484 -3.747787  0.234513  2.332180  0.410335  \n",
            "..        ...       ...       ...       ...       ...  \n",
            "190  0.657899 -6.538586  0.121952  2.657476  0.133050  \n",
            "191  0.683244 -6.195325  0.129303  2.784312  0.168895  \n",
            "192  0.655683 -6.787197  0.158453  2.679772  0.131728  \n",
            "193  0.643956 -6.744577  0.207454  2.138608  0.123306  \n",
            "194  0.664357 -5.724056  0.190667  2.555477  0.148569  \n",
            "\n",
            "[195 rows x 22 columns]\n"
          ]
        }
      ],
      "source": [
        "print(X)"
      ]
    },
    {
      "cell_type": "code",
      "execution_count": 16,
      "metadata": {
        "colab": {
          "base_uri": "https://localhost:8080/"
        },
        "id": "xSNrvkJoG3cY",
        "outputId": "27f25299-1229-4db9-e06a-37335f9d8862"
      },
      "outputs": [
        {
          "output_type": "stream",
          "name": "stdout",
          "text": [
            "0     0\n",
            "1     0\n",
            "2     1\n",
            "3     0\n",
            "4     1\n",
            "5     1\n",
            "6     0\n",
            "7     0\n",
            "8     1\n",
            "9     0\n",
            "10    1\n",
            "11    1\n",
            "12    1\n",
            "13    1\n",
            "14    1\n",
            "15    1\n",
            "16    0\n",
            "17    1\n",
            "18    0\n",
            "19    0\n",
            "20    1\n",
            "21    1\n",
            "22    0\n",
            "23    0\n",
            "24    1\n",
            "25    1\n",
            "26    0\n",
            "27    0\n",
            "28    0\n",
            "29    0\n",
            "30    0\n",
            "Name: Status, dtype: int64\n"
          ]
        }
      ],
      "source": [
        "print(Y)"
      ]
    },
    {
      "cell_type": "markdown",
      "metadata": {
        "id": "WDeqEaaHHBAS"
      },
      "source": [
        "Splitting the data to training data & Test data"
      ]
    },
    {
      "cell_type": "code",
      "execution_count": 17,
      "metadata": {
        "id": "4c6nrCiVG6NB"
      },
      "outputs": [],
      "source": [
        "X_train, X_test, Y_train, Y_test = train_test_split(X, Y, test_size=0.2, random_state=2)"
      ]
    },
    {
      "cell_type": "code",
      "execution_count": 18,
      "metadata": {
        "colab": {
          "base_uri": "https://localhost:8080/"
        },
        "id": "6OqUka96H35c",
        "outputId": "3c6fd31e-1319-4a3c-d01d-0657e1111d4d"
      },
      "outputs": [
        {
          "output_type": "stream",
          "name": "stdout",
          "text": [
            "(31, 32) (24, 32) (7, 32)\n"
          ]
        }
      ],
      "source": [
        "print(X.shape, X_train.shape, X_test.shape)"
      ]
    },
    {
      "cell_type": "markdown",
      "metadata": {
        "id": "ACsXtFTGIFU-"
      },
      "source": [
        "Data Standardization"
      ]
    },
    {
      "cell_type": "code",
      "execution_count": 19,
      "metadata": {
        "id": "DbpeUHeUH-4A"
      },
      "outputs": [],
      "source": [
        "scaler = StandardScaler()"
      ]
    },
    {
      "cell_type": "code",
      "execution_count": 20,
      "metadata": {
        "colab": {
          "base_uri": "https://localhost:8080/",
          "height": 75
        },
        "id": "MVkVqUbhIdBs",
        "outputId": "1638f3a3-6f07-4fb0-c562-8f855e70233f"
      },
      "outputs": [
        {
          "output_type": "execute_result",
          "data": {
            "text/plain": [
              "StandardScaler()"
            ],
            "text/html": [
              "<style>#sk-container-id-1 {color: black;background-color: white;}#sk-container-id-1 pre{padding: 0;}#sk-container-id-1 div.sk-toggleable {background-color: white;}#sk-container-id-1 label.sk-toggleable__label {cursor: pointer;display: block;width: 100%;margin-bottom: 0;padding: 0.3em;box-sizing: border-box;text-align: center;}#sk-container-id-1 label.sk-toggleable__label-arrow:before {content: \"▸\";float: left;margin-right: 0.25em;color: #696969;}#sk-container-id-1 label.sk-toggleable__label-arrow:hover:before {color: black;}#sk-container-id-1 div.sk-estimator:hover label.sk-toggleable__label-arrow:before {color: black;}#sk-container-id-1 div.sk-toggleable__content {max-height: 0;max-width: 0;overflow: hidden;text-align: left;background-color: #f0f8ff;}#sk-container-id-1 div.sk-toggleable__content pre {margin: 0.2em;color: black;border-radius: 0.25em;background-color: #f0f8ff;}#sk-container-id-1 input.sk-toggleable__control:checked~div.sk-toggleable__content {max-height: 200px;max-width: 100%;overflow: auto;}#sk-container-id-1 input.sk-toggleable__control:checked~label.sk-toggleable__label-arrow:before {content: \"▾\";}#sk-container-id-1 div.sk-estimator input.sk-toggleable__control:checked~label.sk-toggleable__label {background-color: #d4ebff;}#sk-container-id-1 div.sk-label input.sk-toggleable__control:checked~label.sk-toggleable__label {background-color: #d4ebff;}#sk-container-id-1 input.sk-hidden--visually {border: 0;clip: rect(1px 1px 1px 1px);clip: rect(1px, 1px, 1px, 1px);height: 1px;margin: -1px;overflow: hidden;padding: 0;position: absolute;width: 1px;}#sk-container-id-1 div.sk-estimator {font-family: monospace;background-color: #f0f8ff;border: 1px dotted black;border-radius: 0.25em;box-sizing: border-box;margin-bottom: 0.5em;}#sk-container-id-1 div.sk-estimator:hover {background-color: #d4ebff;}#sk-container-id-1 div.sk-parallel-item::after {content: \"\";width: 100%;border-bottom: 1px solid gray;flex-grow: 1;}#sk-container-id-1 div.sk-label:hover label.sk-toggleable__label {background-color: #d4ebff;}#sk-container-id-1 div.sk-serial::before {content: \"\";position: absolute;border-left: 1px solid gray;box-sizing: border-box;top: 0;bottom: 0;left: 50%;z-index: 0;}#sk-container-id-1 div.sk-serial {display: flex;flex-direction: column;align-items: center;background-color: white;padding-right: 0.2em;padding-left: 0.2em;position: relative;}#sk-container-id-1 div.sk-item {position: relative;z-index: 1;}#sk-container-id-1 div.sk-parallel {display: flex;align-items: stretch;justify-content: center;background-color: white;position: relative;}#sk-container-id-1 div.sk-item::before, #sk-container-id-1 div.sk-parallel-item::before {content: \"\";position: absolute;border-left: 1px solid gray;box-sizing: border-box;top: 0;bottom: 0;left: 50%;z-index: -1;}#sk-container-id-1 div.sk-parallel-item {display: flex;flex-direction: column;z-index: 1;position: relative;background-color: white;}#sk-container-id-1 div.sk-parallel-item:first-child::after {align-self: flex-end;width: 50%;}#sk-container-id-1 div.sk-parallel-item:last-child::after {align-self: flex-start;width: 50%;}#sk-container-id-1 div.sk-parallel-item:only-child::after {width: 0;}#sk-container-id-1 div.sk-dashed-wrapped {border: 1px dashed gray;margin: 0 0.4em 0.5em 0.4em;box-sizing: border-box;padding-bottom: 0.4em;background-color: white;}#sk-container-id-1 div.sk-label label {font-family: monospace;font-weight: bold;display: inline-block;line-height: 1.2em;}#sk-container-id-1 div.sk-label-container {text-align: center;}#sk-container-id-1 div.sk-container {/* jupyter's `normalize.less` sets `[hidden] { display: none; }` but bootstrap.min.css set `[hidden] { display: none !important; }` so we also need the `!important` here to be able to override the default hidden behavior on the sphinx rendered scikit-learn.org. See: https://github.com/scikit-learn/scikit-learn/issues/21755 */display: inline-block !important;position: relative;}#sk-container-id-1 div.sk-text-repr-fallback {display: none;}</style><div id=\"sk-container-id-1\" class=\"sk-top-container\"><div class=\"sk-text-repr-fallback\"><pre>StandardScaler()</pre><b>In a Jupyter environment, please rerun this cell to show the HTML representation or trust the notebook. <br />On GitHub, the HTML representation is unable to render, please try loading this page with nbviewer.org.</b></div><div class=\"sk-container\" hidden><div class=\"sk-item\"><div class=\"sk-estimator sk-toggleable\"><input class=\"sk-toggleable__control sk-hidden--visually\" id=\"sk-estimator-id-1\" type=\"checkbox\" checked><label for=\"sk-estimator-id-1\" class=\"sk-toggleable__label sk-toggleable__label-arrow\">StandardScaler</label><div class=\"sk-toggleable__content\"><pre>StandardScaler()</pre></div></div></div></div></div>"
            ]
          },
          "metadata": {},
          "execution_count": 20
        }
      ],
      "source": [
        "scaler.fit(X_train)"
      ]
    },
    {
      "cell_type": "code",
      "execution_count": 21,
      "metadata": {
        "id": "1FeONzpiInv5"
      },
      "outputs": [],
      "source": [
        "X_train = scaler.transform(X_train)\n",
        "\n",
        "X_test = scaler.transform(X_test)"
      ]
    },
    {
      "cell_type": "code",
      "execution_count": 22,
      "metadata": {
        "colab": {
          "base_uri": "https://localhost:8080/"
        },
        "id": "OS2_4yaVJAiH",
        "outputId": "7a34bb0a-01d6-471c-91c5-6bb76ad7d349"
      },
      "outputs": [
        {
          "output_type": "stream",
          "name": "stdout",
          "text": [
            "[[-1.88627413e+00 -1.72233723e+00 -8.49201240e-01 -9.22970395e-01\n",
            "  -9.28836235e-01 -8.95501830e-01 -1.37022841e+00 -5.22258509e-01\n",
            "  -1.12573975e+00 -3.70004192e-01 -1.00997791e+00 -5.91273786e-01\n",
            "  -6.04801387e-01 -5.31811081e-01 -7.01365050e-01 -1.20826708e+00\n",
            "  -1.29385101e+00 -1.96595361e+00 -1.28608462e+00 -1.10008258e+00\n",
            "  -1.12009485e-01 -8.38416413e-01 -4.28865921e-01 -1.06406871e+00\n",
            "  -8.23447681e-02 -1.64635125e+00 -3.41059825e-01 -9.45045256e-01\n",
            "  -1.29711926e+00 -1.67563295e+00 -8.43752725e-01 -7.27577562e-01]\n",
            " [ 6.32484244e-01  6.50080825e-01  1.35685285e-01  4.85627135e-01\n",
            "   2.11090246e-01  5.72856250e-01 -1.03736150e-01 -9.50445097e-02\n",
            "   2.41720634e-01 -1.08452919e+00  3.22779265e-01 -3.61617423e-01\n",
            "  -1.24445099e+00 -1.10724606e+00 -1.03071997e+00 -8.75671065e-01\n",
            "  -1.91719180e-01 -1.81245190e+00 -1.20279030e+00 -4.99745355e-01\n",
            "  -7.17667354e-01  6.36360268e-01  4.96066213e-01  3.19892955e-01\n",
            "  -2.48727889e-01  1.30689182e+00  4.12350927e-01  3.97426012e-01\n",
            "   6.26685338e-01  6.13699880e-01  2.78718451e-01  5.45061303e-01]\n",
            " [-1.22391679e+00 -1.09679889e-01 -2.16554398e-01  1.96215550e-01\n",
            "  -8.70651596e-02 -1.86140926e+00 -6.29266958e-01 -1.37995063e-01\n",
            "  -8.29548198e-01 -5.90269072e-01 -5.66734322e-02 -1.43200312e+00\n",
            "  -6.85412489e-01 -1.14540634e-01 -1.14363678e+00 -4.84760965e-01\n",
            "  -4.16653844e-01 -3.14943183e-01  5.15578710e-03 -7.07736621e-02\n",
            "  -2.60195821e-01 -1.14224761e+00 -9.88711708e-01  2.82836716e-01\n",
            "   4.81459573e-01 -1.82605158e-01 -4.74594058e-01 -5.61547916e-02\n",
            "   2.35853690e-01  3.23501962e-01 -2.82101283e-01 -8.13179718e-01]\n",
            " [ 2.59936975e+00  2.33947444e+00  7.38900663e-01  2.23403909e+00\n",
            "   4.77010343e-01  1.11764113e+00  8.93578406e-01  1.00191908e+00\n",
            "   2.19451454e+00  1.85772955e+00  8.71752218e-01  2.02856391e+00\n",
            "   1.60249725e+00  1.99445346e+00  1.63891055e+00  9.09116659e-01\n",
            "   1.39227342e+00  1.60677214e+00  1.45163085e+00  7.44509269e-01\n",
            "   1.87416491e+00  1.75818668e+00  1.64609409e+00  5.08731293e-01\n",
            "   1.05845245e+00  5.58911005e-01  1.45019300e+00  3.76446313e-01\n",
            "   1.56744236e+00  1.94231803e+00  1.44670053e+00  8.51587045e-01]\n",
            " [-4.62935439e-01 -8.02317091e-01  4.89407967e-01 -5.56701457e-01\n",
            "   4.02526020e-01  1.11640025e+00  1.28782560e+00  5.98551805e-01\n",
            "   9.60430675e-01  1.28223000e+00  1.11074922e+00  1.46158987e+00\n",
            "   1.16078256e+00  1.25453480e+00  1.34666518e+00  1.10893099e+00\n",
            "   1.97892867e+00  1.42979390e+00  1.79979134e+00  1.49260543e+00\n",
            "   5.35758781e-01  7.38971926e-01 -2.59214954e-01  2.56277367e-01\n",
            "  -2.44637001e-01 -4.88975399e-01 -3.29990307e-01 -6.50306540e-01\n",
            "  -7.09231622e-01 -6.90667498e-01 -7.22576500e-01 -9.56507739e-01]\n",
            " [ 1.82095190e-01 -5.07658214e-01 -4.75072364e-01 -1.40271619e+00\n",
            "  -1.90205485e-02 -1.12635679e+00 -9.98997453e-01 -4.31976631e-02\n",
            "  -6.13046100e-01 -3.79402622e-01 -2.57138737e-01 -5.84223871e-01\n",
            "  -1.10211748e+00  1.94253600e-01 -5.79343295e-01 -1.65934347e-01\n",
            "   1.93419414e-02 -6.56276909e-01  5.30484459e-01 -9.52831356e-01\n",
            "  -3.93416749e-01 -9.62367256e-01 -2.91501830e-01 -1.85582194e-01\n",
            "  -7.91695377e-01 -3.93938984e-01 -4.02916904e-01 -5.14007957e-01\n",
            "  -2.62616239e-02  1.68537420e+00 -5.00626070e-02 -8.52139067e-01]\n",
            " [ 5.86735072e-01  8.79440370e-01  5.00378394e-01  1.12039546e+00\n",
            "   1.76249969e-01 -2.70938366e-01  1.13735742e-01 -5.72340435e-01\n",
            "   1.99873111e-01 -5.55424155e-01  8.80758031e-01  1.43114872e+00\n",
            "   2.49489187e+00  6.06471504e-01  1.63524038e+00  1.11390944e+00\n",
            "   7.18003036e-01  1.05036431e+00  1.03323959e+00  7.22277768e-01\n",
            "   1.09362547e+00  1.08857280e+00  2.72275187e+00 -2.76319214e-01\n",
            "   6.73894467e-01  4.13928127e-01  1.84538903e-01  2.00287660e-01\n",
            "   3.55434420e-01  1.69780486e+00  2.86269729e-01  4.53366266e-01]\n",
            " [-6.07195887e-01 -1.36067523e+00 -3.38749143e-01 -1.38449797e+00\n",
            "  -6.79164610e-01 -7.92400811e-01 -1.56672648e-01 -7.31370686e-01\n",
            "  -6.32698296e-01  1.95901903e-01 -4.40162635e-01  9.11224384e-03\n",
            "  -4.48208070e-01 -1.44829129e+00  3.71664398e-01 -6.39326135e-01\n",
            "  -4.72451628e-01 -2.28606659e-01 -6.73409280e-01 -2.51992623e-01\n",
            "   5.00595264e-01 -6.49359303e-01 -1.16222480e+00  2.07672025e-01\n",
            "  -1.39362722e-01 -8.72944916e-01 -7.86131745e-01 -5.12106777e-01\n",
            "  -5.82855152e-01  1.95614666e-01 -8.68913959e-01 -7.09329836e-01]\n",
            " [ 8.23067530e-02  2.53143253e-01 -1.50021064e-01 -1.99591560e-01\n",
            "  -2.34802870e-01  1.26625606e-02 -2.94445583e-02  4.71915272e-01\n",
            "   1.34195184e+00  1.46864484e+00  1.49488181e+00  5.72660579e-01\n",
            "  -2.40526209e-01 -3.76285818e-01  2.02174586e-01 -3.05712507e-01\n",
            "  -5.35338224e-01  1.84205384e-01 -4.58855214e-01  6.10843005e-02\n",
            "   6.95786712e-01  1.21362631e+00  2.53281838e-01  1.55409057e+00\n",
            "  -1.37729508e-01  7.08822046e-01 -9.63916515e-01 -6.08279428e-01\n",
            "  -2.91086689e-01 -4.11572843e-01 -2.74513681e-01 -4.95600522e-01]\n",
            " [ 3.22774385e-01 -6.74197380e-01  7.82371155e-01 -3.59000129e-01\n",
            "   3.90291307e-01  5.07258938e-01 -9.44778497e-02 -9.91030085e-01\n",
            "  -1.78961845e+00  4.22076468e-01 -8.88864664e-01 -1.29917218e+00\n",
            "  -1.21831118e+00  2.95025080e-01  1.68352206e-02  1.45102036e+00\n",
            "  -6.99763341e-01 -2.23953293e-01  1.27321960e+00 -1.85614282e-01\n",
            "  -1.71208784e+00 -1.83110659e+00  6.16432491e-01  3.17644157e-01\n",
            "   3.77484834e-01 -1.33763847e+00  7.08218261e-01  2.44155808e-01\n",
            "  -2.09048980e-02  1.38850518e-01 -7.20758243e-01  8.15812238e-01]\n",
            " [-8.97317606e-01 -6.48505107e-02 -1.25830488e+00 -5.07083420e-01\n",
            "  -4.98739012e-01 -7.71555276e-01 -9.34588313e-01 -6.52528324e-01\n",
            "  -1.06446938e+00 -1.30806935e+00 -1.78939406e+00 -1.57314206e+00\n",
            "  -6.20392592e-01 -8.73083925e-01 -1.26609025e+00 -1.14405114e+00\n",
            "  -8.35306786e-01 -8.47615546e-01 -1.37117216e+00 -1.64948194e+00\n",
            "  -9.70511320e-01 -1.47998812e+00 -1.34299297e+00 -1.89117194e+00\n",
            "  -9.01821520e-01  2.74692074e-01 -6.03616935e-01 -7.15271159e-01\n",
            "   1.12629554e-01 -6.84670779e-01 -8.56649641e-01  1.52622913e-01]\n",
            " [ 1.65044173e+00  7.99754873e-01 -3.06887536e-01 -5.38496762e-01\n",
            "  -1.02748538e+00 -1.10396149e-01  1.96305886e-01  2.90608213e-01\n",
            "   7.48387270e-01  1.69368657e+00  1.29023258e+00  2.00831175e-01\n",
            "   1.11544026e-01  1.41233668e+00  1.43706511e+00  7.39446167e-01\n",
            "   6.74058811e-01  5.42136334e-01  3.65702200e-01  1.61509723e+00\n",
            "   1.57153786e-01  1.75994078e-01  8.79124413e-02  1.73366357e+00\n",
            "   1.99876959e+00 -1.10764779e+00 -1.55381504e-01 -2.46086356e-01\n",
            "   1.59082083e+00 -1.39188638e-01 -8.16288564e-01  1.92322359e+00]\n",
            " [-5.66419447e-01 -3.50148074e-01 -2.41056287e-01 -9.58465914e-02\n",
            "   6.27382964e-01  1.32498580e-01 -4.70834381e-01  2.36408081e-01\n",
            "   1.34041532e+00  1.00515077e-01 -2.13206086e-01  3.74195263e-01\n",
            "   7.39989902e-01  3.34532373e-01 -2.69301224e-01  1.24389930e-01\n",
            "  -3.70416061e-01  4.50381292e-01  6.19651588e-01  8.47844045e-02\n",
            "   2.26590117e-01  6.74105359e-01  9.75282470e-01 -2.95901741e-01\n",
            "  -1.13076095e+00  2.71161945e-01 -5.74363631e-01 -5.08309730e-01\n",
            "  -5.01040735e-01 -7.55029330e-01 -4.37845377e-01  3.23189677e-01]\n",
            " [-1.01302340e+00 -1.45266997e+00 -4.56900733e-01 -7.17469959e-01\n",
            "  -5.23047860e-01 -1.08028178e-01 -1.16738636e+00 -7.46890824e-01\n",
            "  -3.44016346e-01 -3.18019074e-01 -3.79358086e-01 -5.02304222e-01\n",
            "   3.81788640e-01  5.31633151e-01 -6.54137000e-02  3.96289334e-01\n",
            "   4.84554004e-01  3.24211313e-01  5.11089251e-01 -5.40753715e-01\n",
            "  -4.56138293e-01  9.68170609e-01 -1.06389280e+00 -8.16139227e-01\n",
            "  -6.32126631e-01 -3.81313046e-01 -1.05277714e+00 -5.98811521e-01\n",
            "  -1.31574368e+00 -9.64706132e-01 -5.49374599e-01  5.17638749e-01]\n",
            " [ 1.03672385e-01 -2.63793600e-01  6.52296134e-01  3.50970025e-01\n",
            "  -1.56337243e-01  4.79435588e-01 -6.33806942e-03  6.61537869e-01\n",
            "  -8.84692041e-02 -3.55613921e-01  2.12462338e-01 -6.83207818e-01\n",
            "   1.29349902e-01 -1.07936041e+00  1.04112722e-01 -3.38362719e-01\n",
            "   1.10767015e-01 -3.77310981e-01  3.37162801e-01 -5.34400960e-01\n",
            "   2.86133673e-01 -1.99415016e-01  5.20919611e-01 -2.00162685e-01\n",
            "  -2.72541619e-01  4.52214008e-01 -8.13439111e-02  3.76033963e-02\n",
            "   2.39740039e-02  1.34840423e-01 -1.49378113e-01 -2.68258061e-01]\n",
            " [-4.59931393e-01 -1.03774717e+00 -1.43600588e+00 -1.05956357e+00\n",
            "  -1.59069694e+00 -1.16512604e+00 -5.03805240e-01 -2.37213965e-01\n",
            "  -2.28029996e-01 -3.06303420e-01 -3.26887256e-01 -2.92520710e-01\n",
            "  -4.21768521e-01 -1.10566832e+00 -1.65046161e+00 -7.32043319e-01\n",
            "  -6.69494756e-01 -7.85326256e-01 -2.33594290e+00 -8.12338645e-01\n",
            "  -1.28675721e+00 -1.27756025e+00 -3.55749736e-01 -7.56369573e-01\n",
            "  -1.08216461e+00 -3.26511448e-01 -7.17151796e-01 -7.44774625e-01\n",
            "  -1.15464559e+00 -1.10622266e-01 -1.18472832e+00  6.76628732e-01]\n",
            " [-7.17771635e-01  2.59260955e-01 -1.16886347e+00 -1.52618591e+00\n",
            "  -7.47057413e-01  6.63084514e-01 -4.45074444e-01  2.51846067e-01\n",
            "  -1.64098130e+00  8.58955264e-01 -9.36976112e-01  5.81121111e-01\n",
            "   2.51429252e-01  4.72335932e-02  1.88931929e-02  4.43534256e-02\n",
            "   4.51104812e-01  1.27414035e-01  7.79472379e-01 -3.77610090e-01\n",
            "  -7.61395576e-01 -2.81206987e-01  2.44330207e-01 -4.24724703e-01\n",
            "  -8.40930931e-01  7.49652093e-01 -1.07949026e+00 -1.38034852e+00\n",
            "  -8.48559875e-01  5.07719993e-01  3.31059711e-02 -8.49854112e-01]\n",
            " [ 1.03726350e+00  4.02281564e-01  1.70086773e-01  6.62901886e-01\n",
            "   1.33158694e+00  8.28751484e-01  3.40223795e+00  4.19207992e-01\n",
            "   8.65340400e-01  8.30185744e-01  1.04460653e+00  6.11703034e-01\n",
            "   1.27991638e+00  1.24378370e+00  9.91102599e-01  4.25869202e-01\n",
            "   1.98537227e+00  1.06708733e+00  1.04851587e+00  6.35482101e-01\n",
            "   1.43799071e+00  1.02729762e+00  6.23218721e-01  9.87730745e-01\n",
            "   6.13254012e-01  1.15039681e+00  7.78766012e-01  2.25675411e+00\n",
            "   1.38260697e+00  1.11999385e+00  8.04554089e-01  6.34459866e-01]\n",
            " [-3.87445725e-01  1.81697057e+00 -8.11837221e-02 -1.88492654e-01\n",
            "  -2.47672433e-01 -4.94383120e-01  4.51398764e-02 -1.60041601e-01\n",
            "  -4.48058386e-01 -3.79248217e-01 -9.00172261e-01 -7.44405681e-01\n",
            "  -9.90843611e-01 -2.65577452e-01 -1.06057996e+00 -1.13544747e+00\n",
            "  -1.07566733e+00 -1.14951397e+00 -5.52858663e-01 -1.08430783e+00\n",
            "  -1.49028980e+00 -1.02883023e+00 -1.57911437e+00 -2.44919053e+00\n",
            "  -1.60595934e+00 -3.47754738e-01 -5.97097929e-01 -1.11169108e+00\n",
            "  -5.06980519e-01 -1.14140753e+00  2.48520831e-02 -4.81944187e-01]\n",
            " [-1.23251283e+00 -8.79333025e-01 -1.23237170e+00  3.40138601e-01\n",
            "  -4.77198002e-01 -1.64916204e+00 -5.87923274e-02 -2.39533174e+00\n",
            "   8.20723469e-01 -2.52830519e+00 -2.05873778e+00 -1.68476985e+00\n",
            "   1.32119730e+00 -1.95720013e+00 -9.46281024e-01 -1.94064144e+00\n",
            "  -1.53702697e+00  2.05508596e+00 -4.36238469e-01 -1.30690155e+00\n",
            "  -1.31791479e+00 -4.77555200e-01  4.76047773e-02  1.69065534e+00\n",
            "   1.22140986e+00 -2.04197032e+00 -8.50135713e-01  1.91797184e+00\n",
            "  -1.95073029e+00 -2.08952815e+00 -1.31170733e+00 -2.84062646e+00]\n",
            " [-1.30569008e-02 -2.98380646e-01 -7.94162686e-01 -7.18777862e-02\n",
            "   2.30266972e-01 -7.88855803e-01 -2.74368876e-01 -7.62914578e-01\n",
            "  -5.78629600e-01 -1.10704094e+00 -6.87782846e-01  6.68508697e-02\n",
            "  -9.06798185e-01 -8.70702635e-01 -8.84028786e-01 -1.01288960e+00\n",
            "  -1.30886081e+00 -1.08115113e+00 -9.30232976e-01 -2.90197991e-01\n",
            "  -3.82910827e-01 -6.35943128e-01 -1.06516988e+00 -6.47587709e-01\n",
            "  -1.10627624e+00  1.00609877e+00  8.36935724e-03 -5.93632587e-01\n",
            "  -1.42710425e-01 -8.19385005e-01  1.56630289e+00 -4.72562875e-01]\n",
            " [ 6.00670876e-01  1.42311189e+00  1.61708730e+00  2.24305714e+00\n",
            "  -3.08043641e-01  1.85287997e+00 -1.19567870e-01  8.83692100e-02\n",
            "   1.18317806e-02  2.51158415e-01  4.48980621e-01 -2.80876845e-03\n",
            "  -9.31689568e-01  6.03250700e-01  6.27515739e-01  2.67038523e-01\n",
            "   4.13387162e-02  6.42009067e-01  3.80472478e-01  2.25603647e+00\n",
            "   1.65928820e-01  1.07949665e+00  1.22504408e+00 -3.14099331e-01\n",
            "  -1.73883405e-01 -2.59283678e-03  2.04373808e+00  5.60329499e-01\n",
            "   8.24615029e-01  7.09253880e-01  2.20284417e+00 -5.24232524e-02]\n",
            " [ 1.38348253e+00  7.94306748e-01  7.50280453e-01  6.39050770e-01\n",
            "  -1.52371120e-01  1.88957419e+00 -4.23362045e-01  6.09227872e-01\n",
            "  -6.43723577e-01  4.79020880e-01  3.13756222e-01  8.00225702e-01\n",
            "  -7.74731836e-01 -2.14964247e-01 -4.12067145e-01  2.33474071e+00\n",
            "  -2.68391481e-01 -2.34627343e-01 -2.41476091e-01  3.32707291e-01\n",
            "   8.62306006e-01  3.51303551e-01 -1.24461794e-01  4.63457608e-01\n",
            "   3.17336690e-01 -3.11776629e-01  3.34482333e-01  6.06907224e-01\n",
            "   4.05376542e-01  3.66548065e-01 -4.14169505e-02  6.80517676e-01]\n",
            " [ 2.86504770e-01 -9.40374534e-02  3.16884097e+00  1.25809868e+00\n",
            "   3.83113370e+00  8.61070209e-01  1.84811850e+00  3.41856652e+00\n",
            "   1.30183954e+00 -1.57875361e-01  1.95437304e+00  1.61344703e+00\n",
            "   7.16665036e-01  1.42722337e+00  1.61910912e+00  1.06800304e+00\n",
            "   1.81919874e+00  1.98269716e-01 -6.46527522e-01  1.71244832e+00\n",
            "   2.02526082e+00  1.09191024e+00 -7.97038032e-01  9.98665213e-01\n",
            "   2.64890103e+00  2.54925229e+00  3.08931129e+00  2.58694446e+00\n",
            "   2.22243161e+00  4.68907975e-02  2.46671998e+00  1.94589533e+00]]\n"
          ]
        }
      ],
      "source": [
        "print(X_train)"
      ]
    },
    {
      "cell_type": "markdown",
      "metadata": {
        "id": "QIOAtx35JUMg"
      },
      "source": [
        "Model Training"
      ]
    },
    {
      "cell_type": "markdown",
      "metadata": {
        "id": "fWlsaBNuJV5g"
      },
      "source": [
        "Support Vector Machine Model Using Different Kernel Values and Confusion Matrix"
      ]
    },
    {
      "cell_type": "code",
      "execution_count": 23,
      "metadata": {
        "id": "IDInA1u5JCZ9",
        "outputId": "af766cf4-495e-4792-e965-d11b5a27ac8c",
        "colab": {
          "base_uri": "https://localhost:8080/",
          "height": 1000
        }
      },
      "outputs": [
        {
          "output_type": "stream",
          "name": "stdout",
          "text": [
            "Accuracy score of training data using Kernel Value :-  linear  :  1.0 \n",
            "\n"
          ]
        },
        {
          "output_type": "display_data",
          "data": {
            "text/plain": [
              "<Figure size 640x480 with 2 Axes>"
            ],
            "image/png": "[encoded data removed]"
          },
          "metadata": {}
        },
        {
          "output_type": "stream",
          "name": "stdout",
          "text": [
            "Accuracy score of training data using Kernel Value :-  poly  :  0.7916666666666666 \n",
            "\n"
          ]
        },
        {
          "output_type": "display_data",
          "data": {
            "text/plain": [
              "<Figure size 640x480 with 2 Axes>"
            ],
            "image/png": "[encoded data removed]"
          },
          "metadata": {}
        },
        {
          "output_type": "stream",
          "name": "stdout",
          "text": [
            "Accuracy score of training data using Kernel Value :-  rbf  :  1.0 \n",
            "\n"
          ]
        },
        {
          "output_type": "display_data",
          "data": {
            "text/plain": [
              "<Figure size 640x480 with 2 Axes>"
            ],
            "image/png": "[encoded data removed]"
          },
          "metadata": {}
        },
        {
          "output_type": "stream",
          "name": "stdout",
          "text": [
            "Accuracy score of training data using Kernel Value :-  sigmoid  :  0.75 \n",
            "\n"
          ]
        },
        {
          "output_type": "display_data",
          "data": {
            "text/plain": [
              "<Figure size 640x480 with 2 Axes>"
            ],
            "image/png": "[encoded data removed]"
          },
          "metadata": {}
        },
        {
          "output_type": "stream",
          "name": "stdout",
          "text": [
            "Accuracy score of training data using RF is :-  1.0\n",
            "Accuracy score of training data using GNB is :-  0.7083333333333334\n",
            "Accuracy score of training data using XGB is :-  0.75\n"
          ]
        }
      ],
      "source": [
        "kernelValues = ['linear', 'poly','rbf', 'sigmoid']\n",
        "model_RF = RandomForestClassifier(n_estimators = 100, random_state=1)\n",
        "model_GNB = GaussianNB()\n",
        "model_XGB = xgb.XGBClassifier()\n",
        "for v in kernelValues:\n",
        "    model = svm.SVC(kernel=v)\n",
        "    model.fit(X_train, Y_train)\n",
        "    X_train_prediction = model.predict(X_train)\n",
        "    training_data_accuracy = accuracy_score(Y_train, X_train_prediction)\n",
        "    confusion_matrix =  metrics.confusion_matrix(Y_train, X_train_prediction)\n",
        "    print('Accuracy score of training data using Kernel Value :- ', v,\" : \", training_data_accuracy,\"\\n\")\n",
        "    cm_display = metrics.ConfusionMatrixDisplay(confusion_matrix = confusion_matrix, display_labels = [False, True])\n",
        "    # sns.heatmap(confusion_matrix, annot=True, fmt='g', cmap='gist_heat', cbar=True)\n",
        "    cm_display.plot()\n",
        "    plt.show()\n",
        "\n",
        "model_RF.fit(X_train,Y_train)\n",
        "model_GNB.fit(X_train, Y_train)\n",
        "model_XGB.fit(X_train, Y_train)\n",
        "x_pred_xgb = model.predict(X_train)\n",
        "x_pred_rf = model_RF.predict(X_train)\n",
        "x_pred_gnb = model_GNB.predict(X_train)\n",
        "accuracy_rf = accuracy_score(Y_train, x_pred_rf)\n",
        "accuracy_gnb = accuracy_score(Y_train, x_pred_gnb)\n",
        "accuracy_xgb = accuracy_score(Y_train, x_pred_xgb)\n",
        "print('Accuracy score of training data using RF is :- ', accuracy_rf )\n",
        "print('Accuracy score of training data using GNB is :- ', accuracy_gnb )\n",
        "print('Accuracy score of training data using XGB is :- ', accuracy_xgb )\n",
        "\n"
      ]
    },
    {
      "cell_type": "code",
      "execution_count": null,
      "metadata": {
        "colab": {
          "base_uri": "https://localhost:8080/",
          "height": 75
        },
        "id": "F01DNpqWKmaW",
        "outputId": "474b5843-926d-4f3e-8a34-84271ec910c8"
      },
      "outputs": [
        {
          "data": {
            "text/plain": [
              "SVC(kernel='sigmoid')"
            ]
          },
          "execution_count": 22,
          "metadata": {},
          "output_type": "execute_result"
        }
      ],
      "source": [
        "# training the SVM model with training data\n",
        "model.fit(X_train, Y_train)"
      ]
    },
    {
      "cell_type": "markdown",
      "metadata": {
        "id": "1z_-nZfuLJrH"
      },
      "source": [
        "Model Evaluation"
      ]
    },
    {
      "cell_type": "markdown",
      "metadata": {
        "id": "Rj3XAnF8LMF4"
      },
      "source": [
        "Accuracy Score"
      ]
    },
    {
      "cell_type": "code",
      "execution_count": null,
      "metadata": {
        "id": "5LwxNgnqK1Za"
      },
      "outputs": [],
      "source": [
        "# accuracy score on training data\n",
        "training_data_accuracy = accuracy_score(Y_train, X_train_prediction)\n",
        "confusion_matrix =  metrics.confusion_matrix(Y_train, X_train_prediction)"
      ]
    },
    {
      "cell_type": "code",
      "execution_count": null,
      "metadata": {
        "colab": {
          "base_uri": "https://localhost:8080/"
        },
        "id": "-dS9tcGdLm41",
        "outputId": "d694f0d3-daae-43b1-aa4a-fda8b9f5afa6"
      },
      "outputs": [
        {
          "name": "stdout",
          "output_type": "stream",
          "text": [
            "Accuracy score of training data :  0.8525641025641025\n"
          ]
        },
        {
          "data": {
            "image/png": "[encoded data removed]",
            "text/plain": [
              "<Figure size 640x480 with 2 Axes>"
            ]
          },
          "metadata": {},
          "output_type": "display_data"
        }
      ],
      "source": [
        "print('Accuracy score of training data : ', training_data_accuracy)\n",
        "cm_display = metrics.ConfusionMatrixDisplay(confusion_matrix = confusion_matrix, display_labels = [False, True])\n",
        "cm_display.plot()\n",
        "plt.show()"
      ]
    },
    {
      "cell_type": "code",
      "execution_count": null,
      "metadata": {
        "id": "rNUO2uHmLtjY"
      },
      "outputs": [],
      "source": [
        "# accuracy score on training data"
      ]
    },
    {
      "cell_type": "code",
      "execution_count": null,
      "metadata": {
        "colab": {
          "base_uri": "https://localhost:8080/"
        },
        "id": "BsF3UnQ2L_aR",
        "outputId": "0cada425-99da-4a9c-e458-05d12b0bc8f2"
      },
      "outputs": [
        {
          "name": "stdout",
          "output_type": "stream",
          "text": [
            "Accuracy score of test data :  0.8717948717948718\n"
          ]
        }
      ],
      "source": []
    },
    {
      "cell_type": "markdown",
      "metadata": {
        "id": "QlR4JG4YMfOR"
      },
      "source": [
        "Building a Predictive System"
      ]
    },
    {
      "cell_type": "code",
      "execution_count": null,
      "metadata": {
        "colab": {
          "base_uri": "https://localhost:8080/"
        },
        "id": "w0FjSoO1MGBU",
        "outputId": "f2677b3a-c5c6-4719-b9ee-c361ec33dec9"
      },
      "outputs": [
        {
          "name": "stdout",
          "output_type": "stream",
          "text": [
            "[0]\n",
            "The Person does not have Parkinsons Disease\n"
          ]
        },
        {
          "name": "stderr",
          "output_type": "stream",
          "text": [
            "c:\\Users\\alech\\AppData\\Local\\Programs\\Python\\Python310\\lib\\site-packages\\sklearn\\base.py:450: UserWarning: X does not have valid feature names, but StandardScaler was fitted with feature names\n",
            "  warnings.warn(\n"
          ]
        }
      ],
      "source": [
        "input_data = (197.07600,206.89600,192.05500,0.00289,0.00001,0.00166,0.00168,0.00498,0.01098,0.09700,0.00563,0.00680,0.00802,0.01689,0.00339,26.77500,0.422229,0.741367,-7.348300,0.177551,1.743867,0.085569)\n",
        "\n",
        "# changing input data to a numpy array\n",
        "input_data_as_numpy_array = np.asarray(input_data)\n",
        "\n",
        "# reshape the numpy array\n",
        "input_data_reshaped = input_data_as_numpy_array.reshape(1,-1)\n",
        "\n",
        "# standardize the data\n",
        "std_data = scaler.transform(input_data_reshaped)\n",
        "\n",
        "prediction = modelLinear.predict(std_data)\n",
        "print(prediction)\n",
        "\n",
        "\n",
        "if (prediction[0] == 0):\n",
        "  print(\"The Person does not have Parkinsons Disease\")\n",
        "\n",
        "else:\n",
        "  print(\"The Person has Parkinsons\")\n"
      ]
    }
  ],
  "metadata": {
    "colab": {
      "provenance": [],
      "include_colab_link": true
    },
    "kernelspec": {
      "display_name": "Python 3",
      "name": "python3"
    },
    "language_info": {
      "codemirror_mode": {
        "name": "ipython",
        "version": 3
      },
      "file_extension": ".py",
      "mimetype": "text/x-python",
      "name": "python",
      "nbconvert_exporter": "python",
      "pygments_lexer": "ipython3",
      "version": "3.10.0"
    }
  },
  "nbformat": 4,
  "nbformat_minor": 0
}