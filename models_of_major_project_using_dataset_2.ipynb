{
  "cells": [
    {
      "cell_type": "markdown",
      "metadata": {
        "id": "view-in-github",
        "colab_type": "text"
      },
      "source": [
        "<a href=\"https://colab.research.google.com/github/Harman1107/Major_Project_Parkinson/blob/master/models_of_major_project_using_dataset_2.ipynb\" target=\"_parent\"><img src=\"https://colab.research.google.com/assets/colab-badge.svg\" alt=\"Open In Colab\"/></a>"
      ]
    },
    {
      "cell_type": "markdown",
      "metadata": {
        "id": "9B5Zl1UOBMAJ"
      },
      "source": [
        "Importing the Dependencies"
      ]
    },
    {
      "cell_type": "code",
      "execution_count": null,
      "metadata": {
        "id": "YOCpZ1Vm6cfW"
      },
      "outputs": [],
      "source": [
        "import numpy as np\n",
        "import pandas as pd\n",
        "from sklearn.model_selection import train_test_split\n",
        "from sklearn.preprocessing import StandardScaler\n",
        "from sklearn.ensemble import RandomForestClassifier\n",
        "from sklearn.naive_bayes import GaussianNB\n",
        "import xgboost as xgb\n",
        "from sklearn import svm\n",
        "from sklearn.metrics import f1_score, precision_score, recall_score, mean_squared_error, mean_absolute_error\n",
        "import seaborn as sns\n",
        "from sklearn import metrics\n",
        "import matplotlib.pyplot as plt\n",
        "from sklearn.metrics import accuracy_score"
      ]
    },
    {
      "cell_type": "markdown",
      "metadata": {
        "id": "PZm-USrtB_q4"
      },
      "source": [
        "Data Collection & Analysis"
      ]
    },
    {
      "cell_type": "code",
      "execution_count": null,
      "metadata": {
        "id": "5YC2lGuVBiZA"
      },
      "outputs": [],
      "source": [
        "# loading the data from csv file to a Pandas DataFrame\n",
        "parkinsons_data = pd.read_csv('./eeg_dataset(2).csv')"
      ]
    },
    {
      "cell_type": "code",
      "execution_count": null,
      "metadata": {
        "colab": {
          "base_uri": "https://localhost:8080/",
          "height": 299
        },
        "id": "Iw8z6w60Djd2",
        "outputId": "bdfd238e-6a4d-43fa-ef82-009855ddb4d1"
      },
      "outputs": [
        {
          "output_type": "execute_result",
          "data": {
            "text/plain": [
              "        Fp1       AF3        F7        F3       FC1       FC5        T7  \\\n",
              "0 -0.018572 -0.016547 -0.012220 -0.026548 -0.015249 -0.012315 -0.005031   \n",
              "1 -0.015544 -0.007960 -0.009142 -0.004414  0.002998 -0.005721 -0.001822   \n",
              "2 -0.013005 -0.014493 -0.005920 -0.007964 -0.004377 -0.002638 -0.010482   \n",
              "3 -0.009478 -0.013750 -0.005022 -0.013594 -0.005313 -0.007160 -0.002833   \n",
              "4 -0.002619 -0.006864 -0.006059 -0.013748 -0.001356 -0.009366 -0.009207   \n",
              "\n",
              "         C3       CP1       CP5  ...        T8       FC6       FC2        F4  \\\n",
              "0 -0.014535 -0.012051 -0.009093  ... -0.011194 -0.010850 -0.009106 -0.014477   \n",
              "1  0.005940 -0.007404  0.002348  ... -0.001600  0.000081 -0.002471 -0.003974   \n",
              "2 -0.003170 -0.000205 -0.001762  ... -0.008962 -0.005190 -0.004611 -0.013489   \n",
              "3 -0.003069 -0.001594  0.001301  ... -0.002374 -0.001580 -0.007699 -0.011463   \n",
              "4  0.001396 -0.001500 -0.002128  ... -0.004904 -0.006360 -0.004691 -0.008551   \n",
              "\n",
              "         F8       AF4       Fp2        Fz        Cz  Status  \n",
              "0 -0.010789 -0.008840 -0.010232 -0.007059 -0.009808       0  \n",
              "1 -0.014098 -0.005188 -0.014829 -0.000739 -0.002891       0  \n",
              "2 -0.006619 -0.014944 -0.010761 -0.004509  0.004039       1  \n",
              "3 -0.005926 -0.008118 -0.002620 -0.007471 -0.003515       0  \n",
              "4 -0.005941 -0.002934  0.007832  0.000120 -0.004394       1  \n",
              "\n",
              "[5 rows x 33 columns]"
            ],
            "text/html": [
              "\n",
              "\n",
              "  <div id=\"df-d15ecc0a-3c63-4e84-9f19-beda48a8f63e\">\n",
              "    <div class=\"colab-df-container\">\n",
              "      <div>\n",
              "<style scoped>\n",
              "    .dataframe tbody tr th:only-of-type {\n",
              "        vertical-align: middle;\n",
              "    }\n",
              "\n",
              "    .dataframe tbody tr th {\n",
              "        vertical-align: top;\n",
              "    }\n",
              "\n",
              "    .dataframe thead th {\n",
              "        text-align: right;\n",
              "    }\n",
              "</style>\n",
              "<table border=\"1\" class=\"dataframe\">\n",
              "  <thead>\n",
              "    <tr style=\"text-align: right;\">\n",
              "      <th></th>\n",
              "      <th>Fp1</th>\n",
              "      <th>AF3</th>\n",
              "      <th>F7</th>\n",
              "      <th>F3</th>\n",
              "      <th>FC1</th>\n",
              "      <th>FC5</th>\n",
              "      <th>T7</th>\n",
              "      <th>C3</th>\n",
              "      <th>CP1</th>\n",
              "      <th>CP5</th>\n",
              "      <th>...</th>\n",
              "      <th>T8</th>\n",
              "      <th>FC6</th>\n",
              "      <th>FC2</th>\n",
              "      <th>F4</th>\n",
              "      <th>F8</th>\n",
              "      <th>AF4</th>\n",
              "      <th>Fp2</th>\n",
              "      <th>Fz</th>\n",
              "      <th>Cz</th>\n",
              "      <th>Status</th>\n",
              "    </tr>\n",
              "  </thead>\n",
              "  <tbody>\n",
              "    <tr>\n",
              "      <th>0</th>\n",
              "      <td>-0.018572</td>\n",
              "      <td>-0.016547</td>\n",
              "      <td>-0.012220</td>\n",
              "      <td>-0.026548</td>\n",
              "      <td>-0.015249</td>\n",
              "      <td>-0.012315</td>\n",
              "      <td>-0.005031</td>\n",
              "      <td>-0.014535</td>\n",
              "      <td>-0.012051</td>\n",
              "      <td>-0.009093</td>\n",
              "      <td>...</td>\n",
              "      <td>-0.011194</td>\n",
              "      <td>-0.010850</td>\n",
              "      <td>-0.009106</td>\n",
              "      <td>-0.014477</td>\n",
              "      <td>-0.010789</td>\n",
              "      <td>-0.008840</td>\n",
              "      <td>-0.010232</td>\n",
              "      <td>-0.007059</td>\n",
              "      <td>-0.009808</td>\n",
              "      <td>0</td>\n",
              "    </tr>\n",
              "    <tr>\n",
              "      <th>1</th>\n",
              "      <td>-0.015544</td>\n",
              "      <td>-0.007960</td>\n",
              "      <td>-0.009142</td>\n",
              "      <td>-0.004414</td>\n",
              "      <td>0.002998</td>\n",
              "      <td>-0.005721</td>\n",
              "      <td>-0.001822</td>\n",
              "      <td>0.005940</td>\n",
              "      <td>-0.007404</td>\n",
              "      <td>0.002348</td>\n",
              "      <td>...</td>\n",
              "      <td>-0.001600</td>\n",
              "      <td>0.000081</td>\n",
              "      <td>-0.002471</td>\n",
              "      <td>-0.003974</td>\n",
              "      <td>-0.014098</td>\n",
              "      <td>-0.005188</td>\n",
              "      <td>-0.014829</td>\n",
              "      <td>-0.000739</td>\n",
              "      <td>-0.002891</td>\n",
              "      <td>0</td>\n",
              "    </tr>\n",
              "    <tr>\n",
              "      <th>2</th>\n",
              "      <td>-0.013005</td>\n",
              "      <td>-0.014493</td>\n",
              "      <td>-0.005920</td>\n",
              "      <td>-0.007964</td>\n",
              "      <td>-0.004377</td>\n",
              "      <td>-0.002638</td>\n",
              "      <td>-0.010482</td>\n",
              "      <td>-0.003170</td>\n",
              "      <td>-0.000205</td>\n",
              "      <td>-0.001762</td>\n",
              "      <td>...</td>\n",
              "      <td>-0.008962</td>\n",
              "      <td>-0.005190</td>\n",
              "      <td>-0.004611</td>\n",
              "      <td>-0.013489</td>\n",
              "      <td>-0.006619</td>\n",
              "      <td>-0.014944</td>\n",
              "      <td>-0.010761</td>\n",
              "      <td>-0.004509</td>\n",
              "      <td>0.004039</td>\n",
              "      <td>1</td>\n",
              "    </tr>\n",
              "    <tr>\n",
              "      <th>3</th>\n",
              "      <td>-0.009478</td>\n",
              "      <td>-0.013750</td>\n",
              "      <td>-0.005022</td>\n",
              "      <td>-0.013594</td>\n",
              "      <td>-0.005313</td>\n",
              "      <td>-0.007160</td>\n",
              "      <td>-0.002833</td>\n",
              "      <td>-0.003069</td>\n",
              "      <td>-0.001594</td>\n",
              "      <td>0.001301</td>\n",
              "      <td>...</td>\n",
              "      <td>-0.002374</td>\n",
              "      <td>-0.001580</td>\n",
              "      <td>-0.007699</td>\n",
              "      <td>-0.011463</td>\n",
              "      <td>-0.005926</td>\n",
              "      <td>-0.008118</td>\n",
              "      <td>-0.002620</td>\n",
              "      <td>-0.007471</td>\n",
              "      <td>-0.003515</td>\n",
              "      <td>0</td>\n",
              "    </tr>\n",
              "    <tr>\n",
              "      <th>4</th>\n",
              "      <td>-0.002619</td>\n",
              "      <td>-0.006864</td>\n",
              "      <td>-0.006059</td>\n",
              "      <td>-0.013748</td>\n",
              "      <td>-0.001356</td>\n",
              "      <td>-0.009366</td>\n",
              "      <td>-0.009207</td>\n",
              "      <td>0.001396</td>\n",
              "      <td>-0.001500</td>\n",
              "      <td>-0.002128</td>\n",
              "      <td>...</td>\n",
              "      <td>-0.004904</td>\n",
              "      <td>-0.006360</td>\n",
              "      <td>-0.004691</td>\n",
              "      <td>-0.008551</td>\n",
              "      <td>-0.005941</td>\n",
              "      <td>-0.002934</td>\n",
              "      <td>0.007832</td>\n",
              "      <td>0.000120</td>\n",
              "      <td>-0.004394</td>\n",
              "      <td>1</td>\n",
              "    </tr>\n",
              "  </tbody>\n",
              "</table>\n",
              "<p>5 rows × 33 columns</p>\n",
              "</div>\n",
              "      <button class=\"colab-df-convert\" onclick=\"convertToInteractive('df-d15ecc0a-3c63-4e84-9f19-beda48a8f63e')\"\n",
              "              title=\"Convert this dataframe to an interactive table.\"\n",
              "              style=\"display:none;\">\n",
              "\n",
              "  <svg xmlns=\"http://www.w3.org/2000/svg\" height=\"24px\"viewBox=\"0 0 24 24\"\n",
              "       width=\"24px\">\n",
              "    <path d=\"M0 0h24v24H0V0z\" fill=\"none\"/>\n",
              "    <path d=\"M18.56 5.44l.94 2.06.94-2.06 2.06-.94-2.06-.94-.94-2.06-.94 2.06-2.06.94zm-11 1L8.5 8.5l.94-2.06 2.06-.94-2.06-.94L8.5 2.5l-.94 2.06-2.06.94zm10 10l.94 2.06.94-2.06 2.06-.94-2.06-.94-.94-2.06-.94 2.06-2.06.94z\"/><path d=\"M17.41 7.96l-1.37-1.37c-.4-.4-.92-.59-1.43-.59-.52 0-1.04.2-1.43.59L10.3 9.45l-7.72 7.72c-.78.78-.78 2.05 0 2.83L4 21.41c.39.39.9.59 1.41.59.51 0 1.02-.2 1.41-.59l7.78-7.78 2.81-2.81c.8-.78.8-2.07 0-2.86zM5.41 20L4 18.59l7.72-7.72 1.47 1.35L5.41 20z\"/>\n",
              "  </svg>\n",
              "      </button>\n",
              "\n",
              "\n",
              "\n",
              "    <div id=\"df-62ea59a5-8a27-4a52-b412-66cdda1ce629\">\n",
              "      <button class=\"colab-df-quickchart\" onclick=\"quickchart('df-62ea59a5-8a27-4a52-b412-66cdda1ce629')\"\n",
              "              title=\"Suggest charts.\"\n",
              "              style=\"display:none;\">\n",
              "\n",
              "<svg xmlns=\"http://www.w3.org/2000/svg\" height=\"24px\"viewBox=\"0 0 24 24\"\n",
              "     width=\"24px\">\n",
              "    <g>\n",
              "        <path d=\"M19 3H5c-1.1 0-2 .9-2 2v14c0 1.1.9 2 2 2h14c1.1 0 2-.9 2-2V5c0-1.1-.9-2-2-2zM9 17H7v-7h2v7zm4 0h-2V7h2v10zm4 0h-2v-4h2v4z\"/>\n",
              "    </g>\n",
              "</svg>\n",
              "      </button>\n",
              "    </div>\n",
              "\n",
              "<style>\n",
              "  .colab-df-quickchart {\n",
              "    background-color: #E8F0FE;\n",
              "    border: none;\n",
              "    border-radius: 50%;\n",
              "    cursor: pointer;\n",
              "    display: none;\n",
              "    fill: #1967D2;\n",
              "    height: 32px;\n",
              "    padding: 0 0 0 0;\n",
              "    width: 32px;\n",
              "  }\n",
              "\n",
              "  .colab-df-quickchart:hover {\n",
              "    background-color: #E2EBFA;\n",
              "    box-shadow: 0px 1px 2px rgba(60, 64, 67, 0.3), 0px 1px 3px 1px rgba(60, 64, 67, 0.15);\n",
              "    fill: #174EA6;\n",
              "  }\n",
              "\n",
              "  [theme=dark] .colab-df-quickchart {\n",
              "    background-color: #3B4455;\n",
              "    fill: #D2E3FC;\n",
              "  }\n",
              "\n",
              "  [theme=dark] .colab-df-quickchart:hover {\n",
              "    background-color: #434B5C;\n",
              "    box-shadow: 0px 1px 3px 1px rgba(0, 0, 0, 0.15);\n",
              "    filter: drop-shadow(0px 1px 2px rgba(0, 0, 0, 0.3));\n",
              "    fill: #FFFFFF;\n",
              "  }\n",
              "</style>\n",
              "\n",
              "    <script>\n",
              "      async function quickchart(key) {\n",
              "        const containerElement = document.querySelector('#' + key);\n",
              "        const charts = await google.colab.kernel.invokeFunction(\n",
              "            'suggestCharts', [key], {});\n",
              "      }\n",
              "    </script>\n",
              "\n",
              "      <script>\n",
              "\n",
              "function displayQuickchartButton(domScope) {\n",
              "  let quickchartButtonEl =\n",
              "    domScope.querySelector('#df-62ea59a5-8a27-4a52-b412-66cdda1ce629 button.colab-df-quickchart');\n",
              "  quickchartButtonEl.style.display =\n",
              "    google.colab.kernel.accessAllowed ? 'block' : 'none';\n",
              "}\n",
              "\n",
              "        displayQuickchartButton(document);\n",
              "      </script>\n",
              "      <style>\n",
              "    .colab-df-container {\n",
              "      display:flex;\n",
              "      flex-wrap:wrap;\n",
              "      gap: 12px;\n",
              "    }\n",
              "\n",
              "    .colab-df-convert {\n",
              "      background-color: #E8F0FE;\n",
              "      border: none;\n",
              "      border-radius: 50%;\n",
              "      cursor: pointer;\n",
              "      display: none;\n",
              "      fill: #1967D2;\n",
              "      height: 32px;\n",
              "      padding: 0 0 0 0;\n",
              "      width: 32px;\n",
              "    }\n",
              "\n",
              "    .colab-df-convert:hover {\n",
              "      background-color: #E2EBFA;\n",
              "      box-shadow: 0px 1px 2px rgba(60, 64, 67, 0.3), 0px 1px 3px 1px rgba(60, 64, 67, 0.15);\n",
              "      fill: #174EA6;\n",
              "    }\n",
              "\n",
              "    [theme=dark] .colab-df-convert {\n",
              "      background-color: #3B4455;\n",
              "      fill: #D2E3FC;\n",
              "    }\n",
              "\n",
              "    [theme=dark] .colab-df-convert:hover {\n",
              "      background-color: #434B5C;\n",
              "      box-shadow: 0px 1px 3px 1px rgba(0, 0, 0, 0.15);\n",
              "      filter: drop-shadow(0px 1px 2px rgba(0, 0, 0, 0.3));\n",
              "      fill: #FFFFFF;\n",
              "    }\n",
              "  </style>\n",
              "\n",
              "      <script>\n",
              "        const buttonEl =\n",
              "          document.querySelector('#df-d15ecc0a-3c63-4e84-9f19-beda48a8f63e button.colab-df-convert');\n",
              "        buttonEl.style.display =\n",
              "          google.colab.kernel.accessAllowed ? 'block' : 'none';\n",
              "\n",
              "        async function convertToInteractive(key) {\n",
              "          const element = document.querySelector('#df-d15ecc0a-3c63-4e84-9f19-beda48a8f63e');\n",
              "          const dataTable =\n",
              "            await google.colab.kernel.invokeFunction('convertToInteractive',\n",
              "                                                     [key], {});\n",
              "          if (!dataTable) return;\n",
              "\n",
              "          const docLinkHtml = 'Like what you see? Visit the ' +\n",
              "            '<a target=\"_blank\" href=https://colab.research.google.com/notebooks/data_table.ipynb>data table notebook</a>'\n",
              "            + ' to learn more about interactive tables.';\n",
              "          element.innerHTML = '';\n",
              "          dataTable['output_type'] = 'display_data';\n",
              "          await google.colab.output.renderOutput(dataTable, element);\n",
              "          const docLink = document.createElement('div');\n",
              "          docLink.innerHTML = docLinkHtml;\n",
              "          element.appendChild(docLink);\n",
              "        }\n",
              "      </script>\n",
              "    </div>\n",
              "  </div>\n"
            ]
          },
          "metadata": {},
          "execution_count": 3
        }
      ],
      "source": [
        "# printing the first 5 rows of the dataframe\n",
        "parkinsons_data.head()"
      ]
    },
    {
      "cell_type": "code",
      "execution_count": null,
      "metadata": {
        "colab": {
          "base_uri": "https://localhost:8080/"
        },
        "id": "cK7L_o2TDuZb",
        "outputId": "5b876b7d-2434-4277-db95-ffdc1fa02c10"
      },
      "outputs": [
        {
          "output_type": "execute_result",
          "data": {
            "text/plain": [
              "(30, 33)"
            ]
          },
          "metadata": {},
          "execution_count": 4
        }
      ],
      "source": [
        "# number of rows and columns in the dataframe\n",
        "parkinsons_data.shape"
      ]
    },
    {
      "cell_type": "code",
      "execution_count": null,
      "metadata": {
        "id": "_4ObWgmt_25W"
      },
      "outputs": [],
      "source": [
        "for column in parkinsons_data.columns:\n",
        "    if parkinsons_data[column].dtype == 'object':\n",
        "        parkinsons_data = parkinsons_data.drop(column, axis=1)"
      ]
    },
    {
      "cell_type": "code",
      "execution_count": null,
      "metadata": {
        "colab": {
          "base_uri": "https://localhost:8080/"
        },
        "id": "NLmzHIgnEGi4",
        "outputId": "18f13002-df43-4c81-fd5b-36955535f388"
      },
      "outputs": [
        {
          "output_type": "stream",
          "name": "stdout",
          "text": [
            "<class 'pandas.core.frame.DataFrame'>\n",
            "RangeIndex: 30 entries, 0 to 29\n",
            "Data columns (total 33 columns):\n",
            " #   Column  Non-Null Count  Dtype  \n",
            "---  ------  --------------  -----  \n",
            " 0   Fp1     30 non-null     float64\n",
            " 1   AF3     30 non-null     float64\n",
            " 2   F7      30 non-null     float64\n",
            " 3   F3      30 non-null     float64\n",
            " 4   FC1     30 non-null     float64\n",
            " 5   FC5     30 non-null     float64\n",
            " 6   T7      30 non-null     float64\n",
            " 7   C3      30 non-null     float64\n",
            " 8   CP1     30 non-null     float64\n",
            " 9   CP5     30 non-null     float64\n",
            " 10  P7      30 non-null     float64\n",
            " 11  P3      30 non-null     float64\n",
            " 12  Pz      30 non-null     float64\n",
            " 13  PO3     30 non-null     float64\n",
            " 14  O1      30 non-null     float64\n",
            " 15  Oz      30 non-null     float64\n",
            " 16  O2      30 non-null     float64\n",
            " 17  PO4     30 non-null     float64\n",
            " 18  P4      30 non-null     float64\n",
            " 19  P8      30 non-null     float64\n",
            " 20  CP6     30 non-null     float64\n",
            " 21  CP2     30 non-null     float64\n",
            " 22  C4      30 non-null     float64\n",
            " 23  T8      30 non-null     float64\n",
            " 24  FC6     30 non-null     float64\n",
            " 25  FC2     30 non-null     float64\n",
            " 26  F4      30 non-null     float64\n",
            " 27  F8      30 non-null     float64\n",
            " 28  AF4     30 non-null     float64\n",
            " 29  Fp2     30 non-null     float64\n",
            " 30  Fz      30 non-null     float64\n",
            " 31  Cz      30 non-null     float64\n",
            " 32  Status  30 non-null     int64  \n",
            "dtypes: float64(32), int64(1)\n",
            "memory usage: 7.9 KB\n"
          ]
        }
      ],
      "source": [
        "# getting more information about the dataset\n",
        "parkinsons_data.info()"
      ]
    },
    {
      "cell_type": "code",
      "execution_count": null,
      "metadata": {
        "id": "mj8QYLHc1hJh"
      },
      "outputs": [],
      "source": [
        "# plt.plot(parkinsons_data)\n",
        "# plt.show()\n"
      ]
    },
    {
      "cell_type": "code",
      "execution_count": null,
      "metadata": {
        "colab": {
          "base_uri": "https://localhost:8080/"
        },
        "id": "70rgu_k4ET9F",
        "outputId": "71ba7785-bffb-4d62-942e-f263c82469db"
      },
      "outputs": [
        {
          "output_type": "execute_result",
          "data": {
            "text/plain": [
              "Fp1       0\n",
              "AF3       0\n",
              "F7        0\n",
              "F3        0\n",
              "FC1       0\n",
              "FC5       0\n",
              "T7        0\n",
              "C3        0\n",
              "CP1       0\n",
              "CP5       0\n",
              "P7        0\n",
              "P3        0\n",
              "Pz        0\n",
              "PO3       0\n",
              "O1        0\n",
              "Oz        0\n",
              "O2        0\n",
              "PO4       0\n",
              "P4        0\n",
              "P8        0\n",
              "CP6       0\n",
              "CP2       0\n",
              "C4        0\n",
              "T8        0\n",
              "FC6       0\n",
              "FC2       0\n",
              "F4        0\n",
              "F8        0\n",
              "AF4       0\n",
              "Fp2       0\n",
              "Fz        0\n",
              "Cz        0\n",
              "Status    0\n",
              "dtype: int64"
            ]
          },
          "metadata": {},
          "execution_count": 7
        }
      ],
      "source": [
        "# checking for missing values in each column\n",
        "parkinsons_data.isnull().sum()"
      ]
    },
    {
      "cell_type": "code",
      "execution_count": null,
      "metadata": {
        "colab": {
          "base_uri": "https://localhost:8080/",
          "height": 394
        },
        "id": "1AxFu0-nEhSA",
        "outputId": "2e85c048-da8b-4f4f-ccfd-b358471cee08"
      },
      "outputs": [
        {
          "output_type": "execute_result",
          "data": {
            "text/plain": [
              "             Fp1        AF3         F7         F3        FC1        FC5  \\\n",
              "count  30.000000  30.000000  30.000000  30.000000  30.000000  30.000000   \n",
              "mean   -0.004994  -0.003704  -0.002668  -0.003132  -0.001926  -0.002208   \n",
              "std     0.008670   0.008220   0.007316   0.009168   0.006368   0.006689   \n",
              "min    -0.020594  -0.016670  -0.013366  -0.026548  -0.015249  -0.014222   \n",
              "25%    -0.010199  -0.009709  -0.006476  -0.007839  -0.005240  -0.007125   \n",
              "50%    -0.005218  -0.003991  -0.003840  -0.004676  -0.002688  -0.002646   \n",
              "75%    -0.000216   0.001983   0.001339   0.001907   0.000830   0.002378   \n",
              "max     0.018389   0.016121   0.021652   0.017025   0.021726   0.010559   \n",
              "\n",
              "              T7         C3        CP1        CP5  ...         T8        FC6  \\\n",
              "count  30.000000  30.000000  30.000000  30.000000  ...  30.000000  30.000000   \n",
              "mean   -0.001677   0.000912  -0.000057   0.000652  ...  -0.003825  -0.000303   \n",
              "std     0.007003   0.006910   0.005786   0.005757  ...   0.006273   0.007041   \n",
              "min    -0.012017  -0.014535  -0.012051  -0.014933  ...  -0.019470  -0.012326   \n",
              "25%    -0.005165  -0.002941  -0.003429  -0.002113  ...  -0.007168  -0.005241   \n",
              "50%    -0.002397   0.001130   0.000055   0.001016  ...  -0.003639  -0.001365   \n",
              "75%    -0.000782   0.004653   0.004441   0.004066  ...  -0.000946   0.003190   \n",
              "max     0.024101   0.023857   0.012009   0.011203  ...   0.007445   0.018850   \n",
              "\n",
              "             FC2         F4         F8        AF4        Fp2         Fz  \\\n",
              "count  30.000000  30.000000  30.000000  30.000000  30.000000  30.000000   \n",
              "mean   -0.003240  -0.005559  -0.002788  -0.002705  -0.004137  -0.001179   \n",
              "std     0.006344   0.007547   0.008073   0.008741   0.008217   0.008670   \n",
              "min    -0.015042  -0.014477  -0.014098  -0.020858  -0.021175  -0.014712   \n",
              "25%    -0.007603  -0.010535  -0.007421  -0.007941  -0.009177  -0.007040   \n",
              "50%    -0.004221  -0.008039  -0.005406  -0.002909  -0.003355  -0.001996   \n",
              "75%     0.000564  -0.002504   0.000917   0.000969   0.000127   0.000872   \n",
              "max     0.013796   0.017983   0.018864   0.018009   0.011572   0.023451   \n",
              "\n",
              "              Cz     Status  \n",
              "count  30.000000  30.000000  \n",
              "mean    0.000009   0.500000  \n",
              "std     0.006238   0.508548  \n",
              "min    -0.016635   0.000000  \n",
              "25%    -0.004145   0.000000  \n",
              "50%    -0.000147   0.500000  \n",
              "75%     0.004620   1.000000  \n",
              "max     0.012831   1.000000  \n",
              "\n",
              "[8 rows x 33 columns]"
            ],
            "text/html": [
              "\n",
              "\n",
              "  <div id=\"df-70ca16b1-29d0-461f-952d-2eb265d5887c\">\n",
              "    <div class=\"colab-df-container\">\n",
              "      <div>\n",
              "<style scoped>\n",
              "    .dataframe tbody tr th:only-of-type {\n",
              "        vertical-align: middle;\n",
              "    }\n",
              "\n",
              "    .dataframe tbody tr th {\n",
              "        vertical-align: top;\n",
              "    }\n",
              "\n",
              "    .dataframe thead th {\n",
              "        text-align: right;\n",
              "    }\n",
              "</style>\n",
              "<table border=\"1\" class=\"dataframe\">\n",
              "  <thead>\n",
              "    <tr style=\"text-align: right;\">\n",
              "      <th></th>\n",
              "      <th>Fp1</th>\n",
              "      <th>AF3</th>\n",
              "      <th>F7</th>\n",
              "      <th>F3</th>\n",
              "      <th>FC1</th>\n",
              "      <th>FC5</th>\n",
              "      <th>T7</th>\n",
              "      <th>C3</th>\n",
              "      <th>CP1</th>\n",
              "      <th>CP5</th>\n",
              "      <th>...</th>\n",
              "      <th>T8</th>\n",
              "      <th>FC6</th>\n",
              "      <th>FC2</th>\n",
              "      <th>F4</th>\n",
              "      <th>F8</th>\n",
              "      <th>AF4</th>\n",
              "      <th>Fp2</th>\n",
              "      <th>Fz</th>\n",
              "      <th>Cz</th>\n",
              "      <th>Status</th>\n",
              "    </tr>\n",
              "  </thead>\n",
              "  <tbody>\n",
              "    <tr>\n",
              "      <th>count</th>\n",
              "      <td>30.000000</td>\n",
              "      <td>30.000000</td>\n",
              "      <td>30.000000</td>\n",
              "      <td>30.000000</td>\n",
              "      <td>30.000000</td>\n",
              "      <td>30.000000</td>\n",
              "      <td>30.000000</td>\n",
              "      <td>30.000000</td>\n",
              "      <td>30.000000</td>\n",
              "      <td>30.000000</td>\n",
              "      <td>...</td>\n",
              "      <td>30.000000</td>\n",
              "      <td>30.000000</td>\n",
              "      <td>30.000000</td>\n",
              "      <td>30.000000</td>\n",
              "      <td>30.000000</td>\n",
              "      <td>30.000000</td>\n",
              "      <td>30.000000</td>\n",
              "      <td>30.000000</td>\n",
              "      <td>30.000000</td>\n",
              "      <td>30.000000</td>\n",
              "    </tr>\n",
              "    <tr>\n",
              "      <th>mean</th>\n",
              "      <td>-0.004994</td>\n",
              "      <td>-0.003704</td>\n",
              "      <td>-0.002668</td>\n",
              "      <td>-0.003132</td>\n",
              "      <td>-0.001926</td>\n",
              "      <td>-0.002208</td>\n",
              "      <td>-0.001677</td>\n",
              "      <td>0.000912</td>\n",
              "      <td>-0.000057</td>\n",
              "      <td>0.000652</td>\n",
              "      <td>...</td>\n",
              "      <td>-0.003825</td>\n",
              "      <td>-0.000303</td>\n",
              "      <td>-0.003240</td>\n",
              "      <td>-0.005559</td>\n",
              "      <td>-0.002788</td>\n",
              "      <td>-0.002705</td>\n",
              "      <td>-0.004137</td>\n",
              "      <td>-0.001179</td>\n",
              "      <td>0.000009</td>\n",
              "      <td>0.500000</td>\n",
              "    </tr>\n",
              "    <tr>\n",
              "      <th>std</th>\n",
              "      <td>0.008670</td>\n",
              "      <td>0.008220</td>\n",
              "      <td>0.007316</td>\n",
              "      <td>0.009168</td>\n",
              "      <td>0.006368</td>\n",
              "      <td>0.006689</td>\n",
              "      <td>0.007003</td>\n",
              "      <td>0.006910</td>\n",
              "      <td>0.005786</td>\n",
              "      <td>0.005757</td>\n",
              "      <td>...</td>\n",
              "      <td>0.006273</td>\n",
              "      <td>0.007041</td>\n",
              "      <td>0.006344</td>\n",
              "      <td>0.007547</td>\n",
              "      <td>0.008073</td>\n",
              "      <td>0.008741</td>\n",
              "      <td>0.008217</td>\n",
              "      <td>0.008670</td>\n",
              "      <td>0.006238</td>\n",
              "      <td>0.508548</td>\n",
              "    </tr>\n",
              "    <tr>\n",
              "      <th>min</th>\n",
              "      <td>-0.020594</td>\n",
              "      <td>-0.016670</td>\n",
              "      <td>-0.013366</td>\n",
              "      <td>-0.026548</td>\n",
              "      <td>-0.015249</td>\n",
              "      <td>-0.014222</td>\n",
              "      <td>-0.012017</td>\n",
              "      <td>-0.014535</td>\n",
              "      <td>-0.012051</td>\n",
              "      <td>-0.014933</td>\n",
              "      <td>...</td>\n",
              "      <td>-0.019470</td>\n",
              "      <td>-0.012326</td>\n",
              "      <td>-0.015042</td>\n",
              "      <td>-0.014477</td>\n",
              "      <td>-0.014098</td>\n",
              "      <td>-0.020858</td>\n",
              "      <td>-0.021175</td>\n",
              "      <td>-0.014712</td>\n",
              "      <td>-0.016635</td>\n",
              "      <td>0.000000</td>\n",
              "    </tr>\n",
              "    <tr>\n",
              "      <th>25%</th>\n",
              "      <td>-0.010199</td>\n",
              "      <td>-0.009709</td>\n",
              "      <td>-0.006476</td>\n",
              "      <td>-0.007839</td>\n",
              "      <td>-0.005240</td>\n",
              "      <td>-0.007125</td>\n",
              "      <td>-0.005165</td>\n",
              "      <td>-0.002941</td>\n",
              "      <td>-0.003429</td>\n",
              "      <td>-0.002113</td>\n",
              "      <td>...</td>\n",
              "      <td>-0.007168</td>\n",
              "      <td>-0.005241</td>\n",
              "      <td>-0.007603</td>\n",
              "      <td>-0.010535</td>\n",
              "      <td>-0.007421</td>\n",
              "      <td>-0.007941</td>\n",
              "      <td>-0.009177</td>\n",
              "      <td>-0.007040</td>\n",
              "      <td>-0.004145</td>\n",
              "      <td>0.000000</td>\n",
              "    </tr>\n",
              "    <tr>\n",
              "      <th>50%</th>\n",
              "      <td>-0.005218</td>\n",
              "      <td>-0.003991</td>\n",
              "      <td>-0.003840</td>\n",
              "      <td>-0.004676</td>\n",
              "      <td>-0.002688</td>\n",
              "      <td>-0.002646</td>\n",
              "      <td>-0.002397</td>\n",
              "      <td>0.001130</td>\n",
              "      <td>0.000055</td>\n",
              "      <td>0.001016</td>\n",
              "      <td>...</td>\n",
              "      <td>-0.003639</td>\n",
              "      <td>-0.001365</td>\n",
              "      <td>-0.004221</td>\n",
              "      <td>-0.008039</td>\n",
              "      <td>-0.005406</td>\n",
              "      <td>-0.002909</td>\n",
              "      <td>-0.003355</td>\n",
              "      <td>-0.001996</td>\n",
              "      <td>-0.000147</td>\n",
              "      <td>0.500000</td>\n",
              "    </tr>\n",
              "    <tr>\n",
              "      <th>75%</th>\n",
              "      <td>-0.000216</td>\n",
              "      <td>0.001983</td>\n",
              "      <td>0.001339</td>\n",
              "      <td>0.001907</td>\n",
              "      <td>0.000830</td>\n",
              "      <td>0.002378</td>\n",
              "      <td>-0.000782</td>\n",
              "      <td>0.004653</td>\n",
              "      <td>0.004441</td>\n",
              "      <td>0.004066</td>\n",
              "      <td>...</td>\n",
              "      <td>-0.000946</td>\n",
              "      <td>0.003190</td>\n",
              "      <td>0.000564</td>\n",
              "      <td>-0.002504</td>\n",
              "      <td>0.000917</td>\n",
              "      <td>0.000969</td>\n",
              "      <td>0.000127</td>\n",
              "      <td>0.000872</td>\n",
              "      <td>0.004620</td>\n",
              "      <td>1.000000</td>\n",
              "    </tr>\n",
              "    <tr>\n",
              "      <th>max</th>\n",
              "      <td>0.018389</td>\n",
              "      <td>0.016121</td>\n",
              "      <td>0.021652</td>\n",
              "      <td>0.017025</td>\n",
              "      <td>0.021726</td>\n",
              "      <td>0.010559</td>\n",
              "      <td>0.024101</td>\n",
              "      <td>0.023857</td>\n",
              "      <td>0.012009</td>\n",
              "      <td>0.011203</td>\n",
              "      <td>...</td>\n",
              "      <td>0.007445</td>\n",
              "      <td>0.018850</td>\n",
              "      <td>0.013796</td>\n",
              "      <td>0.017983</td>\n",
              "      <td>0.018864</td>\n",
              "      <td>0.018009</td>\n",
              "      <td>0.011572</td>\n",
              "      <td>0.023451</td>\n",
              "      <td>0.012831</td>\n",
              "      <td>1.000000</td>\n",
              "    </tr>\n",
              "  </tbody>\n",
              "</table>\n",
              "<p>8 rows × 33 columns</p>\n",
              "</div>\n",
              "      <button class=\"colab-df-convert\" onclick=\"convertToInteractive('df-70ca16b1-29d0-461f-952d-2eb265d5887c')\"\n",
              "              title=\"Convert this dataframe to an interactive table.\"\n",
              "              style=\"display:none;\">\n",
              "\n",
              "  <svg xmlns=\"http://www.w3.org/2000/svg\" height=\"24px\"viewBox=\"0 0 24 24\"\n",
              "       width=\"24px\">\n",
              "    <path d=\"M0 0h24v24H0V0z\" fill=\"none\"/>\n",
              "    <path d=\"M18.56 5.44l.94 2.06.94-2.06 2.06-.94-2.06-.94-.94-2.06-.94 2.06-2.06.94zm-11 1L8.5 8.5l.94-2.06 2.06-.94-2.06-.94L8.5 2.5l-.94 2.06-2.06.94zm10 10l.94 2.06.94-2.06 2.06-.94-2.06-.94-.94-2.06-.94 2.06-2.06.94z\"/><path d=\"M17.41 7.96l-1.37-1.37c-.4-.4-.92-.59-1.43-.59-.52 0-1.04.2-1.43.59L10.3 9.45l-7.72 7.72c-.78.78-.78 2.05 0 2.83L4 21.41c.39.39.9.59 1.41.59.51 0 1.02-.2 1.41-.59l7.78-7.78 2.81-2.81c.8-.78.8-2.07 0-2.86zM5.41 20L4 18.59l7.72-7.72 1.47 1.35L5.41 20z\"/>\n",
              "  </svg>\n",
              "      </button>\n",
              "\n",
              "\n",
              "\n",
              "    <div id=\"df-0f80a7f7-c3f4-4d67-8b53-90d1c802e76c\">\n",
              "      <button class=\"colab-df-quickchart\" onclick=\"quickchart('df-0f80a7f7-c3f4-4d67-8b53-90d1c802e76c')\"\n",
              "              title=\"Suggest charts.\"\n",
              "              style=\"display:none;\">\n",
              "\n",
              "<svg xmlns=\"http://www.w3.org/2000/svg\" height=\"24px\"viewBox=\"0 0 24 24\"\n",
              "     width=\"24px\">\n",
              "    <g>\n",
              "        <path d=\"M19 3H5c-1.1 0-2 .9-2 2v14c0 1.1.9 2 2 2h14c1.1 0 2-.9 2-2V5c0-1.1-.9-2-2-2zM9 17H7v-7h2v7zm4 0h-2V7h2v10zm4 0h-2v-4h2v4z\"/>\n",
              "    </g>\n",
              "</svg>\n",
              "      </button>\n",
              "    </div>\n",
              "\n",
              "<style>\n",
              "  .colab-df-quickchart {\n",
              "    background-color: #E8F0FE;\n",
              "    border: none;\n",
              "    border-radius: 50%;\n",
              "    cursor: pointer;\n",
              "    display: none;\n",
              "    fill: #1967D2;\n",
              "    height: 32px;\n",
              "    padding: 0 0 0 0;\n",
              "    width: 32px;\n",
              "  }\n",
              "\n",
              "  .colab-df-quickchart:hover {\n",
              "    background-color: #E2EBFA;\n",
              "    box-shadow: 0px 1px 2px rgba(60, 64, 67, 0.3), 0px 1px 3px 1px rgba(60, 64, 67, 0.15);\n",
              "    fill: #174EA6;\n",
              "  }\n",
              "\n",
              "  [theme=dark] .colab-df-quickchart {\n",
              "    background-color: #3B4455;\n",
              "    fill: #D2E3FC;\n",
              "  }\n",
              "\n",
              "  [theme=dark] .colab-df-quickchart:hover {\n",
              "    background-color: #434B5C;\n",
              "    box-shadow: 0px 1px 3px 1px rgba(0, 0, 0, 0.15);\n",
              "    filter: drop-shadow(0px 1px 2px rgba(0, 0, 0, 0.3));\n",
              "    fill: #FFFFFF;\n",
              "  }\n",
              "</style>\n",
              "\n",
              "    <script>\n",
              "      async function quickchart(key) {\n",
              "        const containerElement = document.querySelector('#' + key);\n",
              "        const charts = await google.colab.kernel.invokeFunction(\n",
              "            'suggestCharts', [key], {});\n",
              "      }\n",
              "    </script>\n",
              "\n",
              "      <script>\n",
              "\n",
              "function displayQuickchartButton(domScope) {\n",
              "  let quickchartButtonEl =\n",
              "    domScope.querySelector('#df-0f80a7f7-c3f4-4d67-8b53-90d1c802e76c button.colab-df-quickchart');\n",
              "  quickchartButtonEl.style.display =\n",
              "    google.colab.kernel.accessAllowed ? 'block' : 'none';\n",
              "}\n",
              "\n",
              "        displayQuickchartButton(document);\n",
              "      </script>\n",
              "      <style>\n",
              "    .colab-df-container {\n",
              "      display:flex;\n",
              "      flex-wrap:wrap;\n",
              "      gap: 12px;\n",
              "    }\n",
              "\n",
              "    .colab-df-convert {\n",
              "      background-color: #E8F0FE;\n",
              "      border: none;\n",
              "      border-radius: 50%;\n",
              "      cursor: pointer;\n",
              "      display: none;\n",
              "      fill: #1967D2;\n",
              "      height: 32px;\n",
              "      padding: 0 0 0 0;\n",
              "      width: 32px;\n",
              "    }\n",
              "\n",
              "    .colab-df-convert:hover {\n",
              "      background-color: #E2EBFA;\n",
              "      box-shadow: 0px 1px 2px rgba(60, 64, 67, 0.3), 0px 1px 3px 1px rgba(60, 64, 67, 0.15);\n",
              "      fill: #174EA6;\n",
              "    }\n",
              "\n",
              "    [theme=dark] .colab-df-convert {\n",
              "      background-color: #3B4455;\n",
              "      fill: #D2E3FC;\n",
              "    }\n",
              "\n",
              "    [theme=dark] .colab-df-convert:hover {\n",
              "      background-color: #434B5C;\n",
              "      box-shadow: 0px 1px 3px 1px rgba(0, 0, 0, 0.15);\n",
              "      filter: drop-shadow(0px 1px 2px rgba(0, 0, 0, 0.3));\n",
              "      fill: #FFFFFF;\n",
              "    }\n",
              "  </style>\n",
              "\n",
              "      <script>\n",
              "        const buttonEl =\n",
              "          document.querySelector('#df-70ca16b1-29d0-461f-952d-2eb265d5887c button.colab-df-convert');\n",
              "        buttonEl.style.display =\n",
              "          google.colab.kernel.accessAllowed ? 'block' : 'none';\n",
              "\n",
              "        async function convertToInteractive(key) {\n",
              "          const element = document.querySelector('#df-70ca16b1-29d0-461f-952d-2eb265d5887c');\n",
              "          const dataTable =\n",
              "            await google.colab.kernel.invokeFunction('convertToInteractive',\n",
              "                                                     [key], {});\n",
              "          if (!dataTable) return;\n",
              "\n",
              "          const docLinkHtml = 'Like what you see? Visit the ' +\n",
              "            '<a target=\"_blank\" href=https://colab.research.google.com/notebooks/data_table.ipynb>data table notebook</a>'\n",
              "            + ' to learn more about interactive tables.';\n",
              "          element.innerHTML = '';\n",
              "          dataTable['output_type'] = 'display_data';\n",
              "          await google.colab.output.renderOutput(dataTable, element);\n",
              "          const docLink = document.createElement('div');\n",
              "          docLink.innerHTML = docLinkHtml;\n",
              "          element.appendChild(docLink);\n",
              "        }\n",
              "      </script>\n",
              "    </div>\n",
              "  </div>\n"
            ]
          },
          "metadata": {},
          "execution_count": 8
        }
      ],
      "source": [
        "# getting some statistical measures about the data\n",
        "parkinsons_data.describe()"
      ]
    },
    {
      "cell_type": "code",
      "execution_count": null,
      "metadata": {
        "colab": {
          "base_uri": "https://localhost:8080/"
        },
        "id": "3O8AclzwExyH",
        "outputId": "8dfe7f39-2f08-4377-f570-2571d2ab0561"
      },
      "outputs": [
        {
          "output_type": "execute_result",
          "data": {
            "text/plain": [
              "0    15\n",
              "1    15\n",
              "Name: Status, dtype: int64"
            ]
          },
          "metadata": {},
          "execution_count": 9
        }
      ],
      "source": [
        "# distribution of target Variable\n",
        "parkinsons_data['Status'].value_counts()"
      ]
    },
    {
      "cell_type": "markdown",
      "metadata": {
        "id": "L1srlxtEFYfN"
      },
      "source": [
        "1  --> Parkinson's Positive\n",
        "\n",
        "0 --> Healthy\n"
      ]
    },
    {
      "cell_type": "code",
      "execution_count": null,
      "metadata": {
        "colab": {
          "base_uri": "https://localhost:8080/",
          "height": 237
        },
        "id": "zUrPan7CFTMq",
        "outputId": "41115178-c063-48bd-bf42-a274662f98bc"
      },
      "outputs": [
        {
          "output_type": "execute_result",
          "data": {
            "text/plain": [
              "             Fp1       AF3        F7        F3       FC1       FC5        T7  \\\n",
              "Status                                                                         \n",
              "0      -0.006065 -0.005119 -0.005552 -0.004754 -0.003755 -0.005371 -0.001420   \n",
              "1      -0.003923 -0.002290  0.000217 -0.001511 -0.000097  0.000954 -0.001934   \n",
              "\n",
              "              C3       CP1       CP5  ...        C4        T8       FC6  \\\n",
              "Status                                ...                                 \n",
              "0      -0.001518 -0.001478 -0.001470  ... -0.001336 -0.003406 -0.000142   \n",
              "1       0.003343  0.001364  0.002774  ...  0.000070 -0.004244 -0.000465   \n",
              "\n",
              "             FC2        F4        F8       AF4       Fp2        Fz        Cz  \n",
              "Status                                                                        \n",
              "0      -0.004426 -0.007029 -0.002464 -0.003078 -0.005876 -0.004158 -0.000967  \n",
              "1      -0.002055 -0.004090 -0.003111 -0.002332 -0.002398  0.001801  0.000986  \n",
              "\n",
              "[2 rows x 32 columns]"
            ],
            "text/html": [
              "\n",
              "\n",
              "  <div id=\"df-bfd1ee12-839f-4460-83cc-c420f15977d6\">\n",
              "    <div class=\"colab-df-container\">\n",
              "      <div>\n",
              "<style scoped>\n",
              "    .dataframe tbody tr th:only-of-type {\n",
              "        vertical-align: middle;\n",
              "    }\n",
              "\n",
              "    .dataframe tbody tr th {\n",
              "        vertical-align: top;\n",
              "    }\n",
              "\n",
              "    .dataframe thead th {\n",
              "        text-align: right;\n",
              "    }\n",
              "</style>\n",
              "<table border=\"1\" class=\"dataframe\">\n",
              "  <thead>\n",
              "    <tr style=\"text-align: right;\">\n",
              "      <th></th>\n",
              "      <th>Fp1</th>\n",
              "      <th>AF3</th>\n",
              "      <th>F7</th>\n",
              "      <th>F3</th>\n",
              "      <th>FC1</th>\n",
              "      <th>FC5</th>\n",
              "      <th>T7</th>\n",
              "      <th>C3</th>\n",
              "      <th>CP1</th>\n",
              "      <th>CP5</th>\n",
              "      <th>...</th>\n",
              "      <th>C4</th>\n",
              "      <th>T8</th>\n",
              "      <th>FC6</th>\n",
              "      <th>FC2</th>\n",
              "      <th>F4</th>\n",
              "      <th>F8</th>\n",
              "      <th>AF4</th>\n",
              "      <th>Fp2</th>\n",
              "      <th>Fz</th>\n",
              "      <th>Cz</th>\n",
              "    </tr>\n",
              "    <tr>\n",
              "      <th>Status</th>\n",
              "      <th></th>\n",
              "      <th></th>\n",
              "      <th></th>\n",
              "      <th></th>\n",
              "      <th></th>\n",
              "      <th></th>\n",
              "      <th></th>\n",
              "      <th></th>\n",
              "      <th></th>\n",
              "      <th></th>\n",
              "      <th></th>\n",
              "      <th></th>\n",
              "      <th></th>\n",
              "      <th></th>\n",
              "      <th></th>\n",
              "      <th></th>\n",
              "      <th></th>\n",
              "      <th></th>\n",
              "      <th></th>\n",
              "      <th></th>\n",
              "      <th></th>\n",
              "    </tr>\n",
              "  </thead>\n",
              "  <tbody>\n",
              "    <tr>\n",
              "      <th>0</th>\n",
              "      <td>-0.006065</td>\n",
              "      <td>-0.005119</td>\n",
              "      <td>-0.005552</td>\n",
              "      <td>-0.004754</td>\n",
              "      <td>-0.003755</td>\n",
              "      <td>-0.005371</td>\n",
              "      <td>-0.001420</td>\n",
              "      <td>-0.001518</td>\n",
              "      <td>-0.001478</td>\n",
              "      <td>-0.001470</td>\n",
              "      <td>...</td>\n",
              "      <td>-0.001336</td>\n",
              "      <td>-0.003406</td>\n",
              "      <td>-0.000142</td>\n",
              "      <td>-0.004426</td>\n",
              "      <td>-0.007029</td>\n",
              "      <td>-0.002464</td>\n",
              "      <td>-0.003078</td>\n",
              "      <td>-0.005876</td>\n",
              "      <td>-0.004158</td>\n",
              "      <td>-0.000967</td>\n",
              "    </tr>\n",
              "    <tr>\n",
              "      <th>1</th>\n",
              "      <td>-0.003923</td>\n",
              "      <td>-0.002290</td>\n",
              "      <td>0.000217</td>\n",
              "      <td>-0.001511</td>\n",
              "      <td>-0.000097</td>\n",
              "      <td>0.000954</td>\n",
              "      <td>-0.001934</td>\n",
              "      <td>0.003343</td>\n",
              "      <td>0.001364</td>\n",
              "      <td>0.002774</td>\n",
              "      <td>...</td>\n",
              "      <td>0.000070</td>\n",
              "      <td>-0.004244</td>\n",
              "      <td>-0.000465</td>\n",
              "      <td>-0.002055</td>\n",
              "      <td>-0.004090</td>\n",
              "      <td>-0.003111</td>\n",
              "      <td>-0.002332</td>\n",
              "      <td>-0.002398</td>\n",
              "      <td>0.001801</td>\n",
              "      <td>0.000986</td>\n",
              "    </tr>\n",
              "  </tbody>\n",
              "</table>\n",
              "<p>2 rows × 32 columns</p>\n",
              "</div>\n",
              "      <button class=\"colab-df-convert\" onclick=\"convertToInteractive('df-bfd1ee12-839f-4460-83cc-c420f15977d6')\"\n",
              "              title=\"Convert this dataframe to an interactive table.\"\n",
              "              style=\"display:none;\">\n",
              "\n",
              "  <svg xmlns=\"http://www.w3.org/2000/svg\" height=\"24px\"viewBox=\"0 0 24 24\"\n",
              "       width=\"24px\">\n",
              "    <path d=\"M0 0h24v24H0V0z\" fill=\"none\"/>\n",
              "    <path d=\"M18.56 5.44l.94 2.06.94-2.06 2.06-.94-2.06-.94-.94-2.06-.94 2.06-2.06.94zm-11 1L8.5 8.5l.94-2.06 2.06-.94-2.06-.94L8.5 2.5l-.94 2.06-2.06.94zm10 10l.94 2.06.94-2.06 2.06-.94-2.06-.94-.94-2.06-.94 2.06-2.06.94z\"/><path d=\"M17.41 7.96l-1.37-1.37c-.4-.4-.92-.59-1.43-.59-.52 0-1.04.2-1.43.59L10.3 9.45l-7.72 7.72c-.78.78-.78 2.05 0 2.83L4 21.41c.39.39.9.59 1.41.59.51 0 1.02-.2 1.41-.59l7.78-7.78 2.81-2.81c.8-.78.8-2.07 0-2.86zM5.41 20L4 18.59l7.72-7.72 1.47 1.35L5.41 20z\"/>\n",
              "  </svg>\n",
              "      </button>\n",
              "\n",
              "\n",
              "\n",
              "    <div id=\"df-b9872286-d6a2-48a9-ab91-19fc808dc2bd\">\n",
              "      <button class=\"colab-df-quickchart\" onclick=\"quickchart('df-b9872286-d6a2-48a9-ab91-19fc808dc2bd')\"\n",
              "              title=\"Suggest charts.\"\n",
              "              style=\"display:none;\">\n",
              "\n",
              "<svg xmlns=\"http://www.w3.org/2000/svg\" height=\"24px\"viewBox=\"0 0 24 24\"\n",
              "     width=\"24px\">\n",
              "    <g>\n",
              "        <path d=\"M19 3H5c-1.1 0-2 .9-2 2v14c0 1.1.9 2 2 2h14c1.1 0 2-.9 2-2V5c0-1.1-.9-2-2-2zM9 17H7v-7h2v7zm4 0h-2V7h2v10zm4 0h-2v-4h2v4z\"/>\n",
              "    </g>\n",
              "</svg>\n",
              "      </button>\n",
              "    </div>\n",
              "\n",
              "<style>\n",
              "  .colab-df-quickchart {\n",
              "    background-color: #E8F0FE;\n",
              "    border: none;\n",
              "    border-radius: 50%;\n",
              "    cursor: pointer;\n",
              "    display: none;\n",
              "    fill: #1967D2;\n",
              "    height: 32px;\n",
              "    padding: 0 0 0 0;\n",
              "    width: 32px;\n",
              "  }\n",
              "\n",
              "  .colab-df-quickchart:hover {\n",
              "    background-color: #E2EBFA;\n",
              "    box-shadow: 0px 1px 2px rgba(60, 64, 67, 0.3), 0px 1px 3px 1px rgba(60, 64, 67, 0.15);\n",
              "    fill: #174EA6;\n",
              "  }\n",
              "\n",
              "  [theme=dark] .colab-df-quickchart {\n",
              "    background-color: #3B4455;\n",
              "    fill: #D2E3FC;\n",
              "  }\n",
              "\n",
              "  [theme=dark] .colab-df-quickchart:hover {\n",
              "    background-color: #434B5C;\n",
              "    box-shadow: 0px 1px 3px 1px rgba(0, 0, 0, 0.15);\n",
              "    filter: drop-shadow(0px 1px 2px rgba(0, 0, 0, 0.3));\n",
              "    fill: #FFFFFF;\n",
              "  }\n",
              "</style>\n",
              "\n",
              "    <script>\n",
              "      async function quickchart(key) {\n",
              "        const containerElement = document.querySelector('#' + key);\n",
              "        const charts = await google.colab.kernel.invokeFunction(\n",
              "            'suggestCharts', [key], {});\n",
              "      }\n",
              "    </script>\n",
              "\n",
              "      <script>\n",
              "\n",
              "function displayQuickchartButton(domScope) {\n",
              "  let quickchartButtonEl =\n",
              "    domScope.querySelector('#df-b9872286-d6a2-48a9-ab91-19fc808dc2bd button.colab-df-quickchart');\n",
              "  quickchartButtonEl.style.display =\n",
              "    google.colab.kernel.accessAllowed ? 'block' : 'none';\n",
              "}\n",
              "\n",
              "        displayQuickchartButton(document);\n",
              "      </script>\n",
              "      <style>\n",
              "    .colab-df-container {\n",
              "      display:flex;\n",
              "      flex-wrap:wrap;\n",
              "      gap: 12px;\n",
              "    }\n",
              "\n",
              "    .colab-df-convert {\n",
              "      background-color: #E8F0FE;\n",
              "      border: none;\n",
              "      border-radius: 50%;\n",
              "      cursor: pointer;\n",
              "      display: none;\n",
              "      fill: #1967D2;\n",
              "      height: 32px;\n",
              "      padding: 0 0 0 0;\n",
              "      width: 32px;\n",
              "    }\n",
              "\n",
              "    .colab-df-convert:hover {\n",
              "      background-color: #E2EBFA;\n",
              "      box-shadow: 0px 1px 2px rgba(60, 64, 67, 0.3), 0px 1px 3px 1px rgba(60, 64, 67, 0.15);\n",
              "      fill: #174EA6;\n",
              "    }\n",
              "\n",
              "    [theme=dark] .colab-df-convert {\n",
              "      background-color: #3B4455;\n",
              "      fill: #D2E3FC;\n",
              "    }\n",
              "\n",
              "    [theme=dark] .colab-df-convert:hover {\n",
              "      background-color: #434B5C;\n",
              "      box-shadow: 0px 1px 3px 1px rgba(0, 0, 0, 0.15);\n",
              "      filter: drop-shadow(0px 1px 2px rgba(0, 0, 0, 0.3));\n",
              "      fill: #FFFFFF;\n",
              "    }\n",
              "  </style>\n",
              "\n",
              "      <script>\n",
              "        const buttonEl =\n",
              "          document.querySelector('#df-bfd1ee12-839f-4460-83cc-c420f15977d6 button.colab-df-convert');\n",
              "        buttonEl.style.display =\n",
              "          google.colab.kernel.accessAllowed ? 'block' : 'none';\n",
              "\n",
              "        async function convertToInteractive(key) {\n",
              "          const element = document.querySelector('#df-bfd1ee12-839f-4460-83cc-c420f15977d6');\n",
              "          const dataTable =\n",
              "            await google.colab.kernel.invokeFunction('convertToInteractive',\n",
              "                                                     [key], {});\n",
              "          if (!dataTable) return;\n",
              "\n",
              "          const docLinkHtml = 'Like what you see? Visit the ' +\n",
              "            '<a target=\"_blank\" href=https://colab.research.google.com/notebooks/data_table.ipynb>data table notebook</a>'\n",
              "            + ' to learn more about interactive tables.';\n",
              "          element.innerHTML = '';\n",
              "          dataTable['output_type'] = 'display_data';\n",
              "          await google.colab.output.renderOutput(dataTable, element);\n",
              "          const docLink = document.createElement('div');\n",
              "          docLink.innerHTML = docLinkHtml;\n",
              "          element.appendChild(docLink);\n",
              "        }\n",
              "      </script>\n",
              "    </div>\n",
              "  </div>\n"
            ]
          },
          "metadata": {},
          "execution_count": 10
        }
      ],
      "source": [
        "# grouping the data based on the target variable\n",
        "parkinsons_data.groupby('Status').mean()"
      ]
    },
    {
      "cell_type": "markdown",
      "metadata": {
        "id": "8RY6c0waGSs7"
      },
      "source": [
        "Data Pre-Processing"
      ]
    },
    {
      "cell_type": "markdown",
      "metadata": {
        "id": "We7sRYu7Gc4q"
      },
      "source": [
        "Separating the features & Target"
      ]
    },
    {
      "cell_type": "code",
      "execution_count": null,
      "metadata": {
        "id": "UAcz8jFnFuzH"
      },
      "outputs": [],
      "source": [
        "X = parkinsons_data.drop(columns=['Status'], axis=1)\n",
        "Y = parkinsons_data['Status']"
      ]
    },
    {
      "cell_type": "code",
      "execution_count": null,
      "metadata": {
        "id": "guRof_8WG1Yn"
      },
      "outputs": [],
      "source": [
        "# print(X)"
      ]
    },
    {
      "cell_type": "code",
      "execution_count": null,
      "metadata": {
        "id": "xSNrvkJoG3cY"
      },
      "outputs": [],
      "source": [
        "# print(Y)"
      ]
    },
    {
      "cell_type": "markdown",
      "source": [],
      "metadata": {
        "id": "ec9xzIivVH8f"
      }
    },
    {
      "cell_type": "markdown",
      "metadata": {
        "id": "WDeqEaaHHBAS"
      },
      "source": [
        "Splitting the data to training data & Test data"
      ]
    },
    {
      "cell_type": "code",
      "execution_count": null,
      "metadata": {
        "id": "4c6nrCiVG6NB"
      },
      "outputs": [],
      "source": [
        "X_train, X_test, Y_train, Y_test = train_test_split(X, Y, test_size=0.233, random_state=28)"
      ]
    },
    {
      "cell_type": "code",
      "execution_count": null,
      "metadata": {
        "colab": {
          "base_uri": "https://localhost:8080/"
        },
        "id": "6OqUka96H35c",
        "outputId": "b17ccfad-8e7d-408b-cb8f-89b54c81720a"
      },
      "outputs": [
        {
          "output_type": "stream",
          "name": "stdout",
          "text": [
            "(30, 32) (23, 32) (7, 32)\n"
          ]
        }
      ],
      "source": [
        "print(X.shape, X_train.shape, X_test.shape)"
      ]
    },
    {
      "cell_type": "markdown",
      "metadata": {
        "id": "ACsXtFTGIFU-"
      },
      "source": [
        "Data Standardization"
      ]
    },
    {
      "cell_type": "code",
      "execution_count": null,
      "metadata": {
        "id": "DbpeUHeUH-4A"
      },
      "outputs": [],
      "source": [
        "scaler = StandardScaler()"
      ]
    },
    {
      "cell_type": "code",
      "execution_count": null,
      "metadata": {
        "colab": {
          "base_uri": "https://localhost:8080/",
          "height": 75
        },
        "id": "MVkVqUbhIdBs",
        "outputId": "10ad7035-d484-4f86-e889-5fc56b62328d"
      },
      "outputs": [
        {
          "output_type": "execute_result",
          "data": {
            "text/plain": [
              "StandardScaler()"
            ],
            "text/html": [
              "<style>#sk-container-id-1 {color: black;background-color: white;}#sk-container-id-1 pre{padding: 0;}#sk-container-id-1 div.sk-toggleable {background-color: white;}#sk-container-id-1 label.sk-toggleable__label {cursor: pointer;display: block;width: 100%;margin-bottom: 0;padding: 0.3em;box-sizing: border-box;text-align: center;}#sk-container-id-1 label.sk-toggleable__label-arrow:before {content: \"▸\";float: left;margin-right: 0.25em;color: #696969;}#sk-container-id-1 label.sk-toggleable__label-arrow:hover:before {color: black;}#sk-container-id-1 div.sk-estimator:hover label.sk-toggleable__label-arrow:before {color: black;}#sk-container-id-1 div.sk-toggleable__content {max-height: 0;max-width: 0;overflow: hidden;text-align: left;background-color: #f0f8ff;}#sk-container-id-1 div.sk-toggleable__content pre {margin: 0.2em;color: black;border-radius: 0.25em;background-color: #f0f8ff;}#sk-container-id-1 input.sk-toggleable__control:checked~div.sk-toggleable__content {max-height: 200px;max-width: 100%;overflow: auto;}#sk-container-id-1 input.sk-toggleable__control:checked~label.sk-toggleable__label-arrow:before {content: \"▾\";}#sk-container-id-1 div.sk-estimator input.sk-toggleable__control:checked~label.sk-toggleable__label {background-color: #d4ebff;}#sk-container-id-1 div.sk-label input.sk-toggleable__control:checked~label.sk-toggleable__label {background-color: #d4ebff;}#sk-container-id-1 input.sk-hidden--visually {border: 0;clip: rect(1px 1px 1px 1px);clip: rect(1px, 1px, 1px, 1px);height: 1px;margin: -1px;overflow: hidden;padding: 0;position: absolute;width: 1px;}#sk-container-id-1 div.sk-estimator {font-family: monospace;background-color: #f0f8ff;border: 1px dotted black;border-radius: 0.25em;box-sizing: border-box;margin-bottom: 0.5em;}#sk-container-id-1 div.sk-estimator:hover {background-color: #d4ebff;}#sk-container-id-1 div.sk-parallel-item::after {content: \"\";width: 100%;border-bottom: 1px solid gray;flex-grow: 1;}#sk-container-id-1 div.sk-label:hover label.sk-toggleable__label {background-color: #d4ebff;}#sk-container-id-1 div.sk-serial::before {content: \"\";position: absolute;border-left: 1px solid gray;box-sizing: border-box;top: 0;bottom: 0;left: 50%;z-index: 0;}#sk-container-id-1 div.sk-serial {display: flex;flex-direction: column;align-items: center;background-color: white;padding-right: 0.2em;padding-left: 0.2em;position: relative;}#sk-container-id-1 div.sk-item {position: relative;z-index: 1;}#sk-container-id-1 div.sk-parallel {display: flex;align-items: stretch;justify-content: center;background-color: white;position: relative;}#sk-container-id-1 div.sk-item::before, #sk-container-id-1 div.sk-parallel-item::before {content: \"\";position: absolute;border-left: 1px solid gray;box-sizing: border-box;top: 0;bottom: 0;left: 50%;z-index: -1;}#sk-container-id-1 div.sk-parallel-item {display: flex;flex-direction: column;z-index: 1;position: relative;background-color: white;}#sk-container-id-1 div.sk-parallel-item:first-child::after {align-self: flex-end;width: 50%;}#sk-container-id-1 div.sk-parallel-item:last-child::after {align-self: flex-start;width: 50%;}#sk-container-id-1 div.sk-parallel-item:only-child::after {width: 0;}#sk-container-id-1 div.sk-dashed-wrapped {border: 1px dashed gray;margin: 0 0.4em 0.5em 0.4em;box-sizing: border-box;padding-bottom: 0.4em;background-color: white;}#sk-container-id-1 div.sk-label label {font-family: monospace;font-weight: bold;display: inline-block;line-height: 1.2em;}#sk-container-id-1 div.sk-label-container {text-align: center;}#sk-container-id-1 div.sk-container {/* jupyter's `normalize.less` sets `[hidden] { display: none; }` but bootstrap.min.css set `[hidden] { display: none !important; }` so we also need the `!important` here to be able to override the default hidden behavior on the sphinx rendered scikit-learn.org. See: https://github.com/scikit-learn/scikit-learn/issues/21755 */display: inline-block !important;position: relative;}#sk-container-id-1 div.sk-text-repr-fallback {display: none;}</style><div id=\"sk-container-id-1\" class=\"sk-top-container\"><div class=\"sk-text-repr-fallback\"><pre>StandardScaler()</pre><b>In a Jupyter environment, please rerun this cell to show the HTML representation or trust the notebook. <br />On GitHub, the HTML representation is unable to render, please try loading this page with nbviewer.org.</b></div><div class=\"sk-container\" hidden><div class=\"sk-item\"><div class=\"sk-estimator sk-toggleable\"><input class=\"sk-toggleable__control sk-hidden--visually\" id=\"sk-estimator-id-1\" type=\"checkbox\" checked><label for=\"sk-estimator-id-1\" class=\"sk-toggleable__label sk-toggleable__label-arrow\">StandardScaler</label><div class=\"sk-toggleable__content\"><pre>StandardScaler()</pre></div></div></div></div></div>"
            ]
          },
          "metadata": {},
          "execution_count": 15
        }
      ],
      "source": [
        "scaler.fit(X_train)"
      ]
    },
    {
      "cell_type": "code",
      "execution_count": null,
      "metadata": {
        "id": "1FeONzpiInv5"
      },
      "outputs": [],
      "source": [
        "X_train = scaler.transform(X_train)\n",
        "\n",
        "X_test = scaler.transform(X_test)"
      ]
    },
    {
      "cell_type": "code",
      "execution_count": null,
      "metadata": {
        "id": "OS2_4yaVJAiH"
      },
      "outputs": [],
      "source": [
        "# print(X_train)"
      ]
    },
    {
      "cell_type": "code",
      "source": [
        "scaler = StandardScaler()\n",
        "X_train_scaled = scaler.fit_transform(X_train)\n",
        "X_test_scaled = scaler.transform(X_test)\n"
      ],
      "metadata": {
        "id": "arwcQwtJlN0k"
      },
      "execution_count": null,
      "outputs": []
    },
    {
      "cell_type": "code",
      "source": [
        "from keras.models import Sequential\n",
        "from keras.layers import LSTM, Dense\n",
        "from sklearn.preprocessing import StandardScaler\n",
        "from sklearn.metrics import f1_score, precision_score, recall_score, mean_squared_error, mean_absolute_error\n",
        "import numpy as np\n",
        "import matplotlib.pyplot as plt\n",
        "from sklearn.metrics import confusion_matrix, ConfusionMatrixDisplay\n",
        "\n",
        "# Assuming you have already scaled the features as shown in the provided code\n",
        "# X_train_scaled and X_test_scaled\n",
        "\n",
        "# Reshape the input data for LSTM\n",
        "X_train_lstm = X_train_scaled.reshape(X_train_scaled.shape[0], 1, X_train_scaled.shape[1])\n",
        "X_test_lstm = X_test_scaled.reshape(X_test_scaled.shape[0], 1, X_test_scaled.shape[1])\n",
        "\n",
        "# Create and configure the LSTM model\n",
        "model_lstm = Sequential()\n",
        "model_lstm.add(LSTM(32, input_shape=(1, X_train_scaled.shape[1]), activation='relu'))\n",
        "model_lstm.add(Dense(1, activation='sigmoid'))\n",
        "\n",
        "# Compile the model\n",
        "model_lstm.compile(optimizer='adam', loss='binary_crossentropy', metrics=['accuracy'])\n",
        "\n",
        "# Train the model\n",
        "model_lstm.fit(X_train_lstm, Y_train, epochs=10, batch_size=32)\n",
        "\n",
        "# Evaluate the model\n",
        "loss_lstm, accuracy_lstm = model_lstm.evaluate(X_test_lstm, Y_test)\n",
        "print(\"Test Loss (LSTM):\", loss_lstm)\n",
        "print(\"Test Accuracy (LSTM):\", accuracy_lstm)\n",
        "\n",
        "# Make predictions on the test set\n",
        "y_pred_lstm = model_lstm.predict(X_test_lstm)\n",
        "y_pred_lstm = np.round(y_pred_lstm).flatten()\n",
        "\n",
        "# Calculate the F1 score for LSTM\n",
        "f1_lstm = f1_score(Y_test, y_pred_lstm)\n",
        "print(\"F1 Score (LSTM):\", f1_lstm)\n",
        "\n",
        "# Calculate the precision for LSTM\n",
        "precision_lstm = precision_score(Y_test, y_pred_lstm)\n",
        "print(\"Precision (LSTM):\", precision_lstm)\n",
        "\n",
        "# Calculate the recall for LSTM\n",
        "recall_lstm = recall_score(Y_test, y_pred_lstm)\n",
        "print(\"Recall (LSTM):\", recall_lstm)\n",
        "\n",
        "# Calculate the mean squared error (MSE) for LSTM\n",
        "mse_lstm = mean_squared_error(Y_test, y_pred_lstm)\n",
        "print(\"MSE (LSTM):\", mse_lstm)\n",
        "\n",
        "# Calculate the mean absolute error (MAE) for LSTM\n",
        "mae_lstm = mean_absolute_error(Y_test, y_pred_lstm)\n",
        "print(\"MAE (LSTM):\", mae_lstm)\n",
        "\n",
        "# Calculate the mean absolute percentage error (MAPE) for LSTM\n",
        "mape_lstm = np.mean(np.abs((Y_test - y_pred_lstm) / Y_test)) * 100\n",
        "print(\"MAPE (LSTM):\", mape_lstm)\n",
        "\n",
        "cm_lstm = confusion_matrix(Y_test, y_pred_lstm)\n",
        "cm_display_lstm = ConfusionMatrixDisplay(confusion_matrix=cm_lstm, display_labels=[False, True])\n",
        "cm_display_lstm.plot()\n",
        "plt.title(\"Confusion Matrix for LSTM\")\n",
        "plt.show()\n"
      ],
      "metadata": {
        "id": "RR5I9GHfJJcT"
      },
      "execution_count": null,
      "outputs": []
    },
    {
      "cell_type": "code",
      "source": [
        "from sklearn.linear_model import LogisticRegression\n",
        "from sklearn.preprocessing import StandardScaler\n",
        "from sklearn.metrics import accuracy_score, f1_score, precision_score, recall_score, mean_squared_error, mean_absolute_error\n",
        "import numpy as np\n",
        "import matplotlib.pyplot as plt\n",
        "from sklearn.metrics import confusion_matrix, ConfusionMatrixDisplay\n",
        "\n",
        "# Assuming you have already scaled the features as shown in the provided code\n",
        "# X_train_scaled and X_test_scaled\n",
        "\n",
        "# Create and configure the logistic regression model\n",
        "logistic_model = LogisticRegression(random_state=42)\n",
        "\n",
        "# Train the model\n",
        "logistic_model.fit(X_train_scaled, Y_train)\n",
        "\n",
        "# Make predictions on the test set\n",
        "y_pred_logistic = logistic_model.predict(X_test_scaled)\n",
        "\n",
        "# Calculate the accuracy of the logistic regression model\n",
        "accuracy_logistic = accuracy_score(Y_test, y_pred_logistic)\n",
        "print(\"Accuracy (Logistic Regression):\", accuracy_logistic)\n",
        "\n",
        "# Calculate the F1 score for logistic regression\n",
        "f1_logistic = f1_score(Y_test, y_pred_logistic)\n",
        "print(\"F1 Score (Logistic Regression):\", f1_logistic)\n",
        "\n",
        "# Calculate the precision for logistic regression\n",
        "precision_logistic = precision_score(Y_test, y_pred_logistic)\n",
        "print(\"Precision (Logistic Regression):\", precision_logistic)\n",
        "\n",
        "# Calculate the recall for logistic regression\n",
        "recall_logistic = recall_score(Y_test, y_pred_logistic)\n",
        "print(\"Recall (Logistic Regression):\", recall_logistic)\n",
        "\n",
        "# Calculate the mean squared error (MSE) for logistic regression\n",
        "mse_logistic = mean_squared_error(Y_test, y_pred_logistic)\n",
        "print(\"MSE (Logistic Regression):\", mse_logistic)\n",
        "\n",
        "# Calculate the mean absolute error (MAE) for logistic regression\n",
        "mae_logistic = mean_absolute_error(Y_test, y_pred_logistic)\n",
        "print(\"MAE (Logistic Regression):\", mae_logistic)\n",
        "\n",
        "# Calculate the mean absolute percentage error (MAPE) for logistic regression\n",
        "mape_logistic = np.mean(np.abs((Y_test - y_pred_logistic) / Y_test)) * 100\n",
        "print(\"MAPE (Logistic Regression):\", mape_logistic)\n",
        "\n",
        "cm_logistic = confusion_matrix(Y_test, y_pred_logistic)\n",
        "cm_display_logistic = ConfusionMatrixDisplay(confusion_matrix=cm_logistic, display_labels=[False, True])\n",
        "cm_display_logistic.plot()\n",
        "plt.title(\"Confusion Matrix for Logistic Regression\")\n",
        "plt.show()\n"
      ],
      "metadata": {
        "id": "fhy9xSDslbBP"
      },
      "execution_count": null,
      "outputs": []
    },
    {
      "cell_type": "code",
      "source": [
        "from sklearn.ensemble import AdaBoostClassifier\n",
        "from sklearn.tree import DecisionTreeClassifier\n",
        "from sklearn.preprocessing import StandardScaler\n",
        "from sklearn.metrics import accuracy_score, f1_score, precision_score, recall_score, mean_squared_error, mean_absolute_error\n",
        "import numpy as np\n",
        "import matplotlib.pyplot as plt\n",
        "from sklearn.metrics import confusion_matrix, ConfusionMatrixDisplay\n",
        "\n",
        "# Assuming you have already scaled the features as shown in the provided code\n",
        "# X_train_scaled and X_test_scaled\n",
        "\n",
        "# Create and configure the base weak learner (Decision Tree in this case)\n",
        "base_estimator = DecisionTreeClassifier(max_depth=1)\n",
        "\n",
        "# Create and configure the AdaBoost model\n",
        "adaboost_model = AdaBoostClassifier(base_estimator=base_estimator, n_estimators=50, random_state=42)\n",
        "\n",
        "# Train the model\n",
        "adaboost_model.fit(X_train_scaled, Y_train)\n",
        "\n",
        "# Make predictions on the test set\n",
        "y_pred_adaboost = adaboost_model.predict(X_test_scaled)\n",
        "\n",
        "# Calculate the accuracy of the AdaBoost model\n",
        "accuracy_adaboost = accuracy_score(Y_test, y_pred_adaboost)\n",
        "print(\"Accuracy (AdaBoost):\", accuracy_adaboost)\n",
        "\n",
        "# Calculate the F1 score for AdaBoost\n",
        "f1_adaboost = f1_score(Y_test, y_pred_adaboost)\n",
        "print(\"F1 Score (AdaBoost):\", f1_adaboost)\n",
        "\n",
        "# Calculate the precision for AdaBoost\n",
        "precision_adaboost = precision_score(Y_test, y_pred_adaboost)\n",
        "print(\"Precision (AdaBoost):\", precision_adaboost)\n",
        "\n",
        "# Calculate the recall for AdaBoost\n",
        "recall_adaboost = recall_score(Y_test, y_pred_adaboost)\n",
        "print(\"Recall (AdaBoost):\", recall_adaboost)\n",
        "\n",
        "# Calculate the mean squared error (MSE) for AdaBoost\n",
        "mse_adaboost = mean_squared_error(Y_test, y_pred_adaboost)\n",
        "print(\"MSE (AdaBoost):\", mse_adaboost)\n",
        "\n",
        "# Calculate the mean absolute error (MAE) for AdaBoost\n",
        "mae_adaboost = mean_absolute_error(Y_test, y_pred_adaboost)\n",
        "print(\"MAE (AdaBoost):\", mae_adaboost)\n",
        "\n",
        "# Calculate the mean absolute percentage error (MAPE) for AdaBoost\n",
        "mape_adaboost = np.mean(np.abs((Y_test - y_pred_adaboost) / Y_test)) * 100\n",
        "print(\"MAPE (AdaBoost):\", mape_adaboost)\n",
        "\n",
        "cm_adaboost = confusion_matrix(Y_test, y_pred_adaboost)\n",
        "cm_display_adaboost = ConfusionMatrixDisplay(confusion_matrix=cm_adaboost, display_labels=[False, True])\n",
        "cm_display_adaboost.plot()\n",
        "plt.title(\"Confusion Matrix for AdaBoost\")\n",
        "plt.show()\n"
      ],
      "metadata": {
        "id": "xWqKuDJblgR3"
      },
      "execution_count": null,
      "outputs": []
    },
    {
      "cell_type": "code",
      "source": [
        "from sklearn.neural_network import MLPClassifier\n",
        "from sklearn.metrics import f1_score, precision_score, recall_score, mean_squared_error, mean_absolute_error\n",
        "import matplotlib.pyplot as plt\n",
        "from sklearn.metrics import confusion_matrix, ConfusionMatrixDisplay\n",
        "\n",
        "# Create and configure the MLP model\n",
        "mlp = MLPClassifier(hidden_layer_sizes=(32,), activation='relu', solver='adam', random_state=42)\n",
        "\n",
        "# Train the model\n",
        "mlp.fit(X_train_scaled, Y_train)\n",
        "\n",
        "# Make predictions on the test set\n",
        "y_pred_mlp = mlp.predict(X_test_scaled)\n",
        "\n",
        "# Evaluate the model\n",
        "f1_mlp = f1_score(Y_test, y_pred_mlp)\n",
        "print(\"F1 Score (MLP):\", f1_mlp)\n",
        "\n",
        "precision_mlp = precision_score(Y_test, y_pred_mlp)\n",
        "print(\"Precision (MLP):\", precision_mlp)\n",
        "\n",
        "recall_mlp = recall_score(Y_test, y_pred_mlp)\n",
        "print(\"Recall (MLP):\", recall_mlp)\n",
        "\n",
        "mse_mlp = mean_squared_error(Y_test, y_pred_mlp)\n",
        "print(\"MSE (MLP):\", mse_mlp)\n",
        "\n",
        "mae_mlp = mean_absolute_error(Y_test, y_pred_mlp)\n",
        "print(\"MAE (MLP):\", mae_mlp)\n",
        "\n",
        "# Calculate the mean absolute percentage error (MAPE) for MLP\n",
        "mape_mlp = np.mean(np.abs((Y_test - y_pred_mlp) / Y_test)) * 100\n",
        "print(\"MAPE (MLP):\", mape_mlp)\n",
        "\n",
        "cm_mlp = confusion_matrix(Y_test, y_pred_mlp)\n",
        "cm_display_mlp = ConfusionMatrixDisplay(confusion_matrix=cm_mlp, display_labels=[False, True])\n",
        "cm_display_mlp.plot()\n",
        "plt.title(\"Confusion Matrix for MLP\")\n",
        "plt.show()\n"
      ],
      "metadata": {
        "id": "WKFFL7I3lkKT"
      },
      "execution_count": null,
      "outputs": []
    },
    {
      "cell_type": "markdown",
      "metadata": {
        "id": "QIOAtx35JUMg"
      },
      "source": [
        "Model Training"
      ]
    },
    {
      "cell_type": "markdown",
      "metadata": {
        "id": "fWlsaBNuJV5g"
      },
      "source": [
        "Support Vector Machine Model Using Different Kernel Values and Confusion Matrix"
      ]
    },
    {
      "cell_type": "code",
      "execution_count": null,
      "metadata": {
        "id": "IDInA1u5JCZ9",
        "outputId": "dbf34819-efbe-4f9e-b390-cbf5521bced1",
        "colab": {
          "base_uri": "https://localhost:8080/",
          "height": 1000
        }
      },
      "outputs": [
        {
          "output_type": "stream",
          "name": "stdout",
          "text": [
            "Accuracy score of training data using Kernel Value :-  linear  :  1.0 \n",
            "\n"
          ]
        },
        {
          "output_type": "display_data",
          "data": {
            "text/plain": [
              "<Figure size 640x480 with 2 Axes>"
            ],
            "image/png": "[encoded data removed]"
          },
          "metadata": {}
        },
        {
          "output_type": "stream",
          "name": "stdout",
          "text": [
            "Accuracy score of training data using Kernel Value :-  poly  :  0.6521739130434783 \n",
            "\n"
          ]
        },
        {
          "output_type": "display_data",
          "data": {
            "text/plain": [
              "<Figure size 640x480 with 2 Axes>"
            ],
            "image/png": "[encoded data removed]"
          },
          "metadata": {}
        },
        {
          "output_type": "stream",
          "name": "stdout",
          "text": [
            "Accuracy score of training data using Kernel Value :-  rbf  :  0.8695652173913043 \n",
            "\n"
          ]
        },
        {
          "output_type": "display_data",
          "data": {
            "text/plain": [
              "<Figure size 640x480 with 2 Axes>"
            ],
            "image/png": "[encoded data removed]"
          },
          "metadata": {}
        },
        {
          "output_type": "stream",
          "name": "stdout",
          "text": [
            "Accuracy score of training data using Kernel Value :-  sigmoid  :  0.6521739130434783 \n",
            "\n"
          ]
        },
        {
          "output_type": "display_data",
          "data": {
            "text/plain": [
              "<Figure size 640x480 with 2 Axes>"
            ],
            "image/png": "[encoded data removed]"
          },
          "metadata": {}
        },
        {
          "output_type": "stream",
          "name": "stdout",
          "text": [
            "Accuracy score of training data using RF is :-  1.0\n",
            "Accuracy score of training data using GNB is :-  0.6956521739130435\n",
            "Accuracy score of training data using XGB is :-  0.6521739130434783\n"
          ]
        }
      ],
      "source": [
        "kernelValues = ['linear', 'poly','rbf', 'sigmoid']\n",
        "model_RF = RandomForestClassifier(n_estimators = 100, random_state=1)\n",
        "model_GNB = GaussianNB()\n",
        "model_XGB = xgb.XGBClassifier()\n",
        "for v in kernelValues:\n",
        "    model = svm.SVC(kernel=v)\n",
        "    model.fit(X_train, Y_train)\n",
        "    X_train_prediction = model.predict(X_train)\n",
        "    training_data_accuracy = accuracy_score(Y_train, X_train_prediction)\n",
        "    confusion_matrix =  metrics.confusion_matrix(Y_train, X_train_prediction)\n",
        "    print('Accuracy score of training data using Kernel Value :- ', v,\" : \", training_data_accuracy,\"\\n\")\n",
        "    cm_display = metrics.ConfusionMatrixDisplay(confusion_matrix = confusion_matrix, display_labels = [False, True])\n",
        "    # sns.heatmap(confusion_matrix, annot=True, fmt='g', cmap='gist_heat', cbar=True)\n",
        "    cm_display.plot()\n",
        "    plt.show()\n",
        "\n",
        "model_RF.fit(X_train,Y_train)\n",
        "model_GNB.fit(X_train, Y_train)\n",
        "model_XGB.fit(X_train, Y_train)\n",
        "x_pred_xgb = model.predict(X_train)\n",
        "x_pred_rf = model_RF.predict(X_train)\n",
        "x_pred_gnb = model_GNB.predict(X_train)\n",
        "accuracy_rf = accuracy_score(Y_train, x_pred_rf)\n",
        "accuracy_gnb = accuracy_score(Y_train, x_pred_gnb)\n",
        "accuracy_xgb = accuracy_score(Y_train, x_pred_xgb)\n",
        "print('Accuracy score of training data using RF is :- ', accuracy_rf )\n",
        "print('Accuracy score of training data using GNB is :- ', accuracy_gnb )\n",
        "print('Accuracy score of training data using XGB is :- ', accuracy_xgb )\n",
        "\n"
      ]
    },
    {
      "cell_type": "code",
      "execution_count": null,
      "metadata": {
        "colab": {
          "base_uri": "https://localhost:8080/",
          "height": 75
        },
        "id": "F01DNpqWKmaW",
        "outputId": "e010312f-e1a0-4465-d0df-0aac3a662987"
      },
      "outputs": [
        {
          "output_type": "execute_result",
          "data": {
            "text/plain": [
              "SVC(kernel='sigmoid')"
            ],
            "text/html": [
              "<style>#sk-container-id-12 {color: black;background-color: white;}#sk-container-id-12 pre{padding: 0;}#sk-container-id-12 div.sk-toggleable {background-color: white;}#sk-container-id-12 label.sk-toggleable__label {cursor: pointer;display: block;width: 100%;margin-bottom: 0;padding: 0.3em;box-sizing: border-box;text-align: center;}#sk-container-id-12 label.sk-toggleable__label-arrow:before {content: \"▸\";float: left;margin-right: 0.25em;color: #696969;}#sk-container-id-12 label.sk-toggleable__label-arrow:hover:before {color: black;}#sk-container-id-12 div.sk-estimator:hover label.sk-toggleable__label-arrow:before {color: black;}#sk-container-id-12 div.sk-toggleable__content {max-height: 0;max-width: 0;overflow: hidden;text-align: left;background-color: #f0f8ff;}#sk-container-id-12 div.sk-toggleable__content pre {margin: 0.2em;color: black;border-radius: 0.25em;background-color: #f0f8ff;}#sk-container-id-12 input.sk-toggleable__control:checked~div.sk-toggleable__content {max-height: 200px;max-width: 100%;overflow: auto;}#sk-container-id-12 input.sk-toggleable__control:checked~label.sk-toggleable__label-arrow:before {content: \"▾\";}#sk-container-id-12 div.sk-estimator input.sk-toggleable__control:checked~label.sk-toggleable__label {background-color: #d4ebff;}#sk-container-id-12 div.sk-label input.sk-toggleable__control:checked~label.sk-toggleable__label {background-color: #d4ebff;}#sk-container-id-12 input.sk-hidden--visually {border: 0;clip: rect(1px 1px 1px 1px);clip: rect(1px, 1px, 1px, 1px);height: 1px;margin: -1px;overflow: hidden;padding: 0;position: absolute;width: 1px;}#sk-container-id-12 div.sk-estimator {font-family: monospace;background-color: #f0f8ff;border: 1px dotted black;border-radius: 0.25em;box-sizing: border-box;margin-bottom: 0.5em;}#sk-container-id-12 div.sk-estimator:hover {background-color: #d4ebff;}#sk-container-id-12 div.sk-parallel-item::after {content: \"\";width: 100%;border-bottom: 1px solid gray;flex-grow: 1;}#sk-container-id-12 div.sk-label:hover label.sk-toggleable__label {background-color: #d4ebff;}#sk-container-id-12 div.sk-serial::before {content: \"\";position: absolute;border-left: 1px solid gray;box-sizing: border-box;top: 0;bottom: 0;left: 50%;z-index: 0;}#sk-container-id-12 div.sk-serial {display: flex;flex-direction: column;align-items: center;background-color: white;padding-right: 0.2em;padding-left: 0.2em;position: relative;}#sk-container-id-12 div.sk-item {position: relative;z-index: 1;}#sk-container-id-12 div.sk-parallel {display: flex;align-items: stretch;justify-content: center;background-color: white;position: relative;}#sk-container-id-12 div.sk-item::before, #sk-container-id-12 div.sk-parallel-item::before {content: \"\";position: absolute;border-left: 1px solid gray;box-sizing: border-box;top: 0;bottom: 0;left: 50%;z-index: -1;}#sk-container-id-12 div.sk-parallel-item {display: flex;flex-direction: column;z-index: 1;position: relative;background-color: white;}#sk-container-id-12 div.sk-parallel-item:first-child::after {align-self: flex-end;width: 50%;}#sk-container-id-12 div.sk-parallel-item:last-child::after {align-self: flex-start;width: 50%;}#sk-container-id-12 div.sk-parallel-item:only-child::after {width: 0;}#sk-container-id-12 div.sk-dashed-wrapped {border: 1px dashed gray;margin: 0 0.4em 0.5em 0.4em;box-sizing: border-box;padding-bottom: 0.4em;background-color: white;}#sk-container-id-12 div.sk-label label {font-family: monospace;font-weight: bold;display: inline-block;line-height: 1.2em;}#sk-container-id-12 div.sk-label-container {text-align: center;}#sk-container-id-12 div.sk-container {/* jupyter's `normalize.less` sets `[hidden] { display: none; }` but bootstrap.min.css set `[hidden] { display: none !important; }` so we also need the `!important` here to be able to override the default hidden behavior on the sphinx rendered scikit-learn.org. See: https://github.com/scikit-learn/scikit-learn/issues/21755 */display: inline-block !important;position: relative;}#sk-container-id-12 div.sk-text-repr-fallback {display: none;}</style><div id=\"sk-container-id-12\" class=\"sk-top-container\"><div class=\"sk-text-repr-fallback\"><pre>SVC(kernel=&#x27;sigmoid&#x27;)</pre><b>In a Jupyter environment, please rerun this cell to show the HTML representation or trust the notebook. <br />On GitHub, the HTML representation is unable to render, please try loading this page with nbviewer.org.</b></div><div class=\"sk-container\" hidden><div class=\"sk-item\"><div class=\"sk-estimator sk-toggleable\"><input class=\"sk-toggleable__control sk-hidden--visually\" id=\"sk-estimator-id-12\" type=\"checkbox\" checked><label for=\"sk-estimator-id-12\" class=\"sk-toggleable__label sk-toggleable__label-arrow\">SVC</label><div class=\"sk-toggleable__content\"><pre>SVC(kernel=&#x27;sigmoid&#x27;)</pre></div></div></div></div></div>"
            ]
          },
          "metadata": {},
          "execution_count": 181
        }
      ],
      "source": [
        "# training the SVM model with training data\n",
        "model.fit(X_train, Y_train)"
      ]
    },
    {
      "cell_type": "markdown",
      "metadata": {
        "id": "1z_-nZfuLJrH"
      },
      "source": [
        "Model Evaluation"
      ]
    },
    {
      "cell_type": "markdown",
      "metadata": {
        "id": "Rj3XAnF8LMF4"
      },
      "source": [
        "Accuracy Score"
      ]
    },
    {
      "cell_type": "code",
      "execution_count": null,
      "metadata": {
        "id": "5LwxNgnqK1Za"
      },
      "outputs": [],
      "source": [
        "# accuracy score on training data\n",
        "training_data_accuracy = accuracy_score(Y_train, X_train_prediction)\n",
        "confusion_matrix =  metrics.confusion_matrix(Y_train, X_train_prediction)"
      ]
    },
    {
      "cell_type": "code",
      "execution_count": null,
      "metadata": {
        "colab": {
          "base_uri": "https://localhost:8080/",
          "height": 472
        },
        "id": "-dS9tcGdLm41",
        "outputId": "af67e29d-a311-47da-801f-bcffdbc4a5d5"
      },
      "outputs": [
        {
          "output_type": "stream",
          "name": "stdout",
          "text": [
            "Accuracy score of training data :  0.6521739130434783\n"
          ]
        },
        {
          "output_type": "display_data",
          "data": {
            "text/plain": [
              "<Figure size 640x480 with 2 Axes>"
            ],
            "image/png": "[encoded data removed]"
          },
          "metadata": {}
        }
      ],
      "source": [
        "print('Accuracy score of training data : ', training_data_accuracy)\n",
        "cm_display = metrics.ConfusionMatrixDisplay(confusion_matrix = confusion_matrix, display_labels = [False, True])\n",
        "cm_display.plot()\n",
        "plt.show()"
      ]
    },
    {
      "cell_type": "markdown",
      "source": [
        "# Random Forest Model"
      ],
      "metadata": {
        "id": "LOnsgIexqVZJ"
      }
    },
    {
      "cell_type": "code",
      "source": [
        "from sklearn.ensemble import RandomForestClassifier\n",
        "# Scale the features\n",
        "scaler = StandardScaler()\n",
        "X_train_scaled = scaler.fit_transform(X_train)\n",
        "X_test_scaled = scaler.transform(X_test)\n",
        "\n",
        "# Build the Random Forest classifier\n",
        "model = RandomForestClassifier(n_estimators=100, random_state=42)\n",
        "\n",
        "# Train the model\n",
        "model.fit(X_train_scaled, Y_train)\n",
        "\n",
        "# Make predictions on the test set\n",
        "y_pred = model.predict(X_test_scaled)\n",
        "\n",
        "# Calculate the F1 score\n",
        "f1 = f1_score(Y_test, y_pred)\n",
        "print(\"F1 Score:\", f1)\n",
        "\n",
        "# Calculate the precision\n",
        "precision = precision_score(Y_test, y_pred)\n",
        "print(\"Precision:\", precision)\n",
        "\n",
        "# Calculate the recall\n",
        "recall = recall_score(Y_test, y_pred)\n",
        "print(\"Recall:\", recall)\n",
        "\n",
        "# Calculate the mean squared error (MSE)\n",
        "mse = mean_squared_error(Y_test, y_pred)\n",
        "print(\"MSE:\", mse)\n",
        "\n",
        "# Calculate the root mean squared error (RMSE)\n",
        "rmse = mean_squared_error(Y_test, y_pred, squared=False)\n",
        "print(\"RMSE:\", rmse)\n",
        "\n",
        "# Calculate the mean absolute error (MAE)\n",
        "mae = mean_absolute_error(Y_test, y_pred)\n",
        "print(\"MAE:\", mae)\n",
        "\n",
        "# Calculate the mean absolute percentage error (MAPE)\n",
        "mape = np.mean(np.abs((Y_test - y_pred) / Y_test)) * 100\n",
        "print(\"MAPE:\", mape)"
      ],
      "metadata": {
        "colab": {
          "base_uri": "https://localhost:8080/"
        },
        "id": "NMVGi9PYqisv",
        "outputId": "dd216c17-9adc-4c7b-b410-d15c23688fb3"
      },
      "execution_count": null,
      "outputs": [
        {
          "output_type": "stream",
          "name": "stdout",
          "text": [
            "F1 Score: 0.5\n",
            "Precision: 0.6666666666666666\n",
            "Recall: 0.4\n",
            "MSE: 0.5714285714285714\n",
            "RMSE: 0.7559289460184544\n",
            "MAE: 0.5714285714285714\n",
            "MAPE: inf\n"
          ]
        }
      ]
    },
    {
      "cell_type": "markdown",
      "source": [
        "# KNN model"
      ],
      "metadata": {
        "id": "knlk67SapPN6"
      }
    },
    {
      "cell_type": "code",
      "source": [
        "from sklearn.neighbors import KNeighborsClassifier\n",
        "# Scale the features\n",
        "scaler = StandardScaler()\n",
        "X_train_scaled = scaler.fit_transform(X_train)\n",
        "X_test_scaled = scaler.transform(X_test)\n",
        "\n",
        "# Create a KNN classifier\n",
        "k = 5  # number of neighbors\n",
        "knn = KNeighborsClassifier(n_neighbors=k)\n",
        "\n",
        "# Train the classifier\n",
        "knn.fit(X_train_scaled, Y_train)\n",
        "\n",
        "# Make predictions on the test set\n",
        "y_pred = knn.predict(X_test_scaled)\n",
        "\n",
        "# Evaluate the model\n",
        "accuracy = accuracy_score(Y_test, y_pred)\n",
        "print(\"Test Accuracy:\", accuracy)"
      ],
      "metadata": {
        "colab": {
          "base_uri": "https://localhost:8080/"
        },
        "id": "AuPHFqH2ok0C",
        "outputId": "5d73f54a-c348-4f7a-8ca8-3e132fdd1437"
      },
      "execution_count": null,
      "outputs": [
        {
          "output_type": "stream",
          "name": "stdout",
          "text": [
            "Test Accuracy: 0.42857142857142855\n"
          ]
        }
      ]
    },
    {
      "cell_type": "code",
      "source": [
        "# Evaluate the model\n",
        "y_pred = knn.predict(X_test)\n",
        "y_pred = np.round(y_pred).flatten()\n",
        "\n",
        "# Calculate the F1 score\n",
        "f1 = f1_score(Y_test, y_pred)\n",
        "print(\"F1 Score:\", f1)\n",
        "\n",
        "# Calculate the precision\n",
        "precision = precision_score(Y_test, y_pred)\n",
        "print(\"Precision:\", precision)\n",
        "\n",
        "# Calculate the recall\n",
        "recall = recall_score(Y_test, y_pred)\n",
        "print(\"Recall:\", recall)\n",
        "\n",
        "# Calculate the mean squared error (MSE)\n",
        "mse = mean_squared_error(Y_test, y_pred)\n",
        "print(\"MSE:\", mse)\n",
        "\n",
        "# Calculate the root mean squared error (RMSE)\n",
        "rmse = mean_squared_error(Y_test, y_pred, squared=False)\n",
        "print(\"RMSE:\", rmse)\n",
        "# Calculate the mean absolute error (MAE)\n",
        "mae = mean_absolute_error(Y_test, y_pred)\n",
        "print(\"MAE:\", mae)\n",
        "\n",
        "# Calculate the mean absolute percentage error (MAPE)\n",
        "mape = np.mean(np.abs((Y_test - y_pred) / Y_test)) * 100\n",
        "print(\"MAPE:\", mape)"
      ],
      "metadata": {
        "colab": {
          "base_uri": "https://localhost:8080/"
        },
        "id": "zNyX2KbapY8n",
        "outputId": "3a7c6202-d1d7-4d4a-ffc3-4934b6a47bda"
      },
      "execution_count": null,
      "outputs": [
        {
          "output_type": "stream",
          "name": "stdout",
          "text": [
            "F1 Score: 0.33333333333333337\n",
            "Precision: 1.0\n",
            "Recall: 0.2\n",
            "MSE: 0.5714285714285714\n",
            "RMSE: 0.7559289460184544\n",
            "MAE: 0.5714285714285714\n",
            "MAPE: 80.0\n"
          ]
        }
      ]
    },
    {
      "cell_type": "markdown",
      "source": [
        "# ANN model"
      ],
      "metadata": {
        "id": "78UorHAGoUGy"
      }
    },
    {
      "cell_type": "code",
      "execution_count": null,
      "metadata": {
        "colab": {
          "base_uri": "https://localhost:8080/"
        },
        "id": "BsF3UnQ2L_aR",
        "outputId": "9560e855-ba4b-4a54-973d-37e724b3e763"
      },
      "outputs": [
        {
          "output_type": "stream",
          "name": "stdout",
          "text": [
            "Epoch 1/10\n",
            "1/1 [==============================] - 1s 557ms/step - loss: 0.7791 - accuracy: 0.6087\n",
            "Epoch 2/10\n",
            "1/1 [==============================] - 0s 19ms/step - loss: 0.7366 - accuracy: 0.6087\n",
            "Epoch 3/10\n",
            "1/1 [==============================] - 0s 15ms/step - loss: 0.7085 - accuracy: 0.6522\n",
            "Epoch 4/10\n",
            "1/1 [==============================] - 0s 15ms/step - loss: 0.6864 - accuracy: 0.6522\n",
            "Epoch 5/10\n",
            "1/1 [==============================] - 0s 18ms/step - loss: 0.6677 - accuracy: 0.6522\n",
            "Epoch 6/10\n",
            "1/1 [==============================] - 0s 13ms/step - loss: 0.6503 - accuracy: 0.7391\n",
            "Epoch 7/10\n",
            "1/1 [==============================] - 0s 11ms/step - loss: 0.6347 - accuracy: 0.7826\n",
            "Epoch 8/10\n",
            "1/1 [==============================] - 0s 12ms/step - loss: 0.6206 - accuracy: 0.7826\n",
            "Epoch 9/10\n",
            "1/1 [==============================] - 0s 13ms/step - loss: 0.6075 - accuracy: 0.7826\n",
            "Epoch 10/10\n",
            "1/1 [==============================] - 0s 11ms/step - loss: 0.5953 - accuracy: 0.7826\n",
            "1/1 [==============================] - 0s 136ms/step - loss: 0.7045 - accuracy: 0.5714\n",
            "Test Loss: 0.7045019268989563\n",
            "Test Accuracy: 0.5714285969734192\n"
          ]
        }
      ],
      "source": [
        "# Scale the features\n",
        "scaler = StandardScaler()\n",
        "X_train_scaled = scaler.fit_transform(X_train)\n",
        "X_test_scaled = scaler.transform(X_test)\n",
        "\n",
        "# Build the ANN model\n",
        "model = Sequential()\n",
        "model.add(Dense(32, input_dim=X_train_scaled.shape[1], activation='relu'))\n",
        "model.add(Dense(1, activation='sigmoid'))\n",
        "\n",
        "# Compile the model\n",
        "model.compile(optimizer='rmsprop', loss='binary_crossentropy', metrics=['accuracy'])\n",
        "\n",
        "# Train the model\n",
        "model.fit(X_train_scaled, Y_train, epochs=10, batch_size=32)\n",
        "\n",
        "# Evaluate the model\n",
        "loss, accuracy = model.evaluate(X_test_scaled, Y_test)\n",
        "print(\"Test Loss:\", loss)\n",
        "print(\"Test Accuracy:\", accuracy)"
      ]
    },
    {
      "cell_type": "code",
      "source": [
        "# Make predictions on the test set\n",
        "# Evaluate the model\n",
        "y_pred = model.predict(X_test)\n",
        "y_pred = np.round(y_pred).flatten()\n",
        "\n",
        "# Calculate the F1 score\n",
        "f1 = f1_score(Y_test, y_pred)\n",
        "print(\"F1 Score:\", f1)\n",
        "\n",
        "# Calculate the precision\n",
        "precision = precision_score(Y_test, y_pred)\n",
        "print(\"Precision:\", precision)\n",
        "\n",
        "# Calculate the recall\n",
        "recall = recall_score(Y_test, y_pred)\n",
        "print(\"Recall:\", recall)\n",
        "\n",
        "# Calculate the mean squared error (MSE)\n",
        "mse = mean_squared_error(Y_test, y_pred)\n",
        "print(\"MSE:\", mse)\n",
        "\n",
        "# Calculate the root mean squared error (RMSE)\n",
        "rmse = mean_squared_error(Y_test, y_pred, squared=False)\n",
        "print(\"RMSE:\", rmse)\n",
        "# Calculate the mean absolute error (MAE)\n",
        "mae = mean_absolute_error(Y_test, y_pred)\n",
        "print(\"MAE:\", mae)\n",
        "\n",
        "# Calculate the mean absolute percentage error (MAPE)\n",
        "mape = np.mean(np.abs((Y_test - y_pred) / Y_test)) * 100\n",
        "print(\"MAPE:\", mape)"
      ],
      "metadata": {
        "colab": {
          "base_uri": "https://localhost:8080/"
        },
        "outputId": "a207faf1-cc11-483f-9e2e-6cee0ef86ec8",
        "id": "LI-xmzU-ndXr"
      },
      "execution_count": null,
      "outputs": [
        {
          "output_type": "stream",
          "name": "stdout",
          "text": [
            "1/1 [==============================] - 0s 54ms/step\n",
            "F1 Score: 0.5714285714285715\n",
            "Precision: 1.0\n",
            "Recall: 0.4\n",
            "MSE: 0.42857142857142855\n",
            "RMSE: 0.6546536707079771\n",
            "MAE: 0.42857142857142855\n",
            "MAPE: 60.0\n"
          ]
        }
      ]
    },
    {
      "cell_type": "markdown",
      "metadata": {
        "id": "QlR4JG4YMfOR"
      },
      "source": [
        "# RNN model"
      ]
    },
    {
      "cell_type": "code",
      "source": [
        "from sklearn.preprocessing import StandardScaler\n",
        "\n",
        "# Scale the features\n",
        "scaler = StandardScaler()\n",
        "X_scaled = scaler.fit_transform(X)\n"
      ],
      "metadata": {
        "id": "6uUaTIyzW-l8"
      },
      "execution_count": null,
      "outputs": []
    },
    {
      "cell_type": "code",
      "source": [
        "X_train = X_train.reshape(X_train.shape[0], 1, X_train.shape[1])\n",
        "X_test = X_test.reshape(X_test.shape[0], 1, X_test.shape[1])\n"
      ],
      "metadata": {
        "id": "EuvaRdUAXTV7"
      },
      "execution_count": null,
      "outputs": []
    },
    {
      "cell_type": "code",
      "source": [],
      "metadata": {
        "id": "cOuXdwa7aH6y"
      },
      "execution_count": null,
      "outputs": []
    },
    {
      "cell_type": "code",
      "source": [
        "from keras.models import Sequential\n",
        "from keras.layers import Dense, SimpleRNN\n",
        "\n",
        "# Build the RNN model\n",
        "model = Sequential()\n",
        "model.add(SimpleRNN(32, input_shape=(1, X_train.shape[2])))\n",
        "model.add(Dense(1, activation='sigmoid'))\n",
        "\n",
        "# Compile the model\n",
        "model.compile(optimizer='rmsprop', loss='binary_crossentropy', metrics=['accuracy'])\n"
      ],
      "metadata": {
        "id": "cAVLUfcUXtEC"
      },
      "execution_count": null,
      "outputs": []
    },
    {
      "cell_type": "code",
      "source": [
        "model.fit(X_train, Y_train, epochs=10, batch_size=32)\n",
        "loss, accuracy = model.evaluate(X_test, Y_test)\n",
        "print(\"Test Loss:\", loss)\n",
        "print(\"Test Accuracy:\", accuracy)\n"
      ],
      "metadata": {
        "colab": {
          "base_uri": "https://localhost:8080/"
        },
        "id": "g0jy1dNXX0Vy",
        "outputId": "f494930a-2e1a-4f1a-f0fc-02b9420a2e60"
      },
      "execution_count": null,
      "outputs": [
        {
          "output_type": "stream",
          "name": "stdout",
          "text": [
            "Epoch 1/10\n",
            "1/1 [==============================] - 1s 1s/step - loss: 0.7576 - accuracy: 0.5217\n",
            "Epoch 2/10\n",
            "1/1 [==============================] - 0s 13ms/step - loss: 0.7187 - accuracy: 0.5217\n",
            "Epoch 3/10\n",
            "1/1 [==============================] - 0s 10ms/step - loss: 0.6934 - accuracy: 0.5217\n",
            "Epoch 4/10\n",
            "1/1 [==============================] - 0s 13ms/step - loss: 0.6731 - accuracy: 0.5217\n",
            "Epoch 5/10\n",
            "1/1 [==============================] - 0s 11ms/step - loss: 0.6558 - accuracy: 0.5217\n",
            "Epoch 6/10\n",
            "1/1 [==============================] - 0s 16ms/step - loss: 0.6404 - accuracy: 0.5217\n",
            "Epoch 7/10\n",
            "1/1 [==============================] - 0s 12ms/step - loss: 0.6264 - accuracy: 0.5652\n",
            "Epoch 8/10\n",
            "1/1 [==============================] - 0s 10ms/step - loss: 0.6135 - accuracy: 0.6087\n",
            "Epoch 9/10\n",
            "1/1 [==============================] - 0s 12ms/step - loss: 0.6013 - accuracy: 0.6087\n",
            "Epoch 10/10\n",
            "1/1 [==============================] - 0s 13ms/step - loss: 0.5899 - accuracy: 0.6522\n",
            "1/1 [==============================] - 0s 361ms/step - loss: 0.9186 - accuracy: 0.1429\n",
            "Test Loss: 0.9185654520988464\n",
            "Test Accuracy: 0.1428571492433548\n"
          ]
        }
      ]
    },
    {
      "cell_type": "code",
      "source": [
        "# Make predictions on the test set\n",
        "# Evaluate the model\n",
        "y_pred = model.predict(X_test)\n",
        "y_pred = np.round(y_pred).flatten()\n",
        "\n",
        "# Calculate the F1 score\n",
        "f1 = f1_score(Y_test, y_pred)\n",
        "print(\"F1 Score:\", f1)\n",
        "\n",
        "# Calculate the precision\n",
        "precision = precision_score(Y_test, y_pred)\n",
        "print(\"Precision:\", precision)\n",
        "\n",
        "# Calculate the recall\n",
        "recall = recall_score(Y_test, y_pred)\n",
        "print(\"Recall:\", recall)\n",
        "\n",
        "# Calculate the mean squared error (MSE)\n",
        "mse = mean_squared_error(Y_test, y_pred)\n",
        "print(\"MSE:\", mse)\n",
        "\n",
        "# Calculate the root mean squared error (RMSE)\n",
        "rmse = mean_squared_error(Y_test, y_pred, squared=False)\n",
        "print(\"RMSE:\", rmse)\n",
        "# Calculate the mean absolute error (MAE)\n",
        "mae = mean_absolute_error(Y_test, y_pred)\n",
        "print(\"MAE:\", mae)\n",
        "\n",
        "# Calculate the mean absolute percentage error (MAPE)\n",
        "mape = np.mean(np.abs((Y_test - y_pred) / Y_test)) * 100\n",
        "print(\"MAPE:\", mape)"
      ],
      "metadata": {
        "colab": {
          "base_uri": "https://localhost:8080/"
        },
        "id": "s-7X9O0bYLgz",
        "outputId": "a73034ea-22d9-4ba5-b761-0d65ad0a32af"
      },
      "execution_count": null,
      "outputs": [
        {
          "output_type": "stream",
          "name": "stdout",
          "text": [
            "1/1 [==============================] - 0s 191ms/step\n",
            "F1 Score: 0.25\n",
            "Precision: 0.3333333333333333\n",
            "Recall: 0.2\n",
            "MSE: 0.8571428571428571\n",
            "RMSE: 0.9258200997725514\n",
            "MAE: 0.8571428571428571\n",
            "MAPE: inf\n"
          ]
        }
      ]
    }
  ],
  "metadata": {
    "colab": {
      "provenance": [],
      "include_colab_link": true
    },
    "kernelspec": {
      "display_name": "Python 3",
      "name": "python3"
    },
    "language_info": {
      "codemirror_mode": {
        "name": "ipython",
        "version": 3
      },
      "file_extension": ".py",
      "mimetype": "text/x-python",
      "name": "python",
      "nbconvert_exporter": "python",
      "pygments_lexer": "ipython3",
      "version": "3.10.0"
    }
  },
  "nbformat": 4,
  "nbformat_minor": 0
}