{
  "cells": [
    {
      "cell_type": "markdown",
      "metadata": {
        "id": "9B5Zl1UOBMAJ"
      },
      "source": [
        "Importing the Dependencies"
      ]
    },
    {
      "cell_type": "code",
      "execution_count": 1,
      "metadata": {
        "id": "YOCpZ1Vm6cfW"
      },
      "outputs": [],
      "source": [
        "import numpy as np\n",
        "import pandas as pd\n",
        "from sklearn.model_selection import train_test_split\n",
        "from sklearn.preprocessing import StandardScaler\n",
        "from sklearn import svm\n",
        "from sklearn.metrics import accuracy_score"
      ]
    },
    {
      "cell_type": "markdown",
      "metadata": {
        "id": "PZm-USrtB_q4"
      },
      "source": [
        "Data Collection & Analysis"
      ]
    },
    {
      "cell_type": "code",
      "execution_count": 5,
      "metadata": {
        "id": "5YC2lGuVBiZA"
      },
      "outputs": [],
      "source": [
        "# loading the data from csv file to a Pandas DataFrame\n",
        "parkinsons_data = pd.read_csv('D:\\Major_Project\\dataset\\Dataset-2\\Dataset-2.csv')"
      ]
    },
    {
      "cell_type": "code",
      "execution_count": null,
      "metadata": {},
      "outputs": [],
      "source": []
    },
    {
      "cell_type": "code",
      "execution_count": 7,
      "metadata": {
        "colab": {
          "base_uri": "https://localhost:8080/",
          "height": 216
        },
        "id": "Iw8z6w60Djd2",
        "outputId": "7c38d6f8-9794-42ee-c546-a3c479d442a1"
      },
      "outputs": [
        {
          "data": {
            "text/html": [
              "<div>\n",
              "<style scoped>\n",
              "    .dataframe tbody tr th:only-of-type {\n",
              "        vertical-align: middle;\n",
              "    }\n",
              "\n",
              "    .dataframe tbody tr th {\n",
              "        vertical-align: top;\n",
              "    }\n",
              "\n",
              "    .dataframe thead th {\n",
              "        text-align: right;\n",
              "    }\n",
              "</style>\n",
              "<table border=\"1\" class=\"dataframe\">\n",
              "  <thead>\n",
              "    <tr style=\"text-align: right;\">\n",
              "      <th></th>\n",
              "      <th>ID</th>\n",
              "      <th>Recording</th>\n",
              "      <th>Status</th>\n",
              "      <th>Gender</th>\n",
              "      <th>Jitter_rel</th>\n",
              "      <th>Jitter_abs</th>\n",
              "      <th>Jitter_RAP</th>\n",
              "      <th>Jitter_PPQ</th>\n",
              "      <th>Shim_loc</th>\n",
              "      <th>Shim_dB</th>\n",
              "      <th>...</th>\n",
              "      <th>Shi_APQ11</th>\n",
              "      <th>HNR05</th>\n",
              "      <th>HNR15</th>\n",
              "      <th>HNR25</th>\n",
              "      <th>HNR35</th>\n",
              "      <th>HNR38</th>\n",
              "      <th>RPDE</th>\n",
              "      <th>DFA</th>\n",
              "      <th>PPE</th>\n",
              "      <th>GNE</th>\n",
              "    </tr>\n",
              "  </thead>\n",
              "  <tbody>\n",
              "    <tr>\n",
              "      <th>0</th>\n",
              "      <td>CONT-01</td>\n",
              "      <td>1</td>\n",
              "      <td>0</td>\n",
              "      <td>1</td>\n",
              "      <td>0.25546</td>\n",
              "      <td>0.000015</td>\n",
              "      <td>0.001467</td>\n",
              "      <td>0.001673</td>\n",
              "      <td>0.030256</td>\n",
              "      <td>0.26313</td>\n",
              "      <td>...</td>\n",
              "      <td>0.021882</td>\n",
              "      <td>5.943.796.582</td>\n",
              "      <td>6.073.624.859</td>\n",
              "      <td>7.188.286.388</td>\n",
              "      <td>7.762.672.931</td>\n",
              "      <td>7.753.804.238</td>\n",
              "      <td>0.250433</td>\n",
              "      <td>0.599346</td>\n",
              "      <td>0.005397</td>\n",
              "      <td>0.900404</td>\n",
              "    </tr>\n",
              "    <tr>\n",
              "      <th>1</th>\n",
              "      <td>CONT-01</td>\n",
              "      <td>2</td>\n",
              "      <td>0</td>\n",
              "      <td>1</td>\n",
              "      <td>0.36964</td>\n",
              "      <td>0.000022</td>\n",
              "      <td>0.001932</td>\n",
              "      <td>0.002245</td>\n",
              "      <td>0.023146</td>\n",
              "      <td>0.20217</td>\n",
              "      <td>...</td>\n",
              "      <td>0.016828</td>\n",
              "      <td>5.983.889.542</td>\n",
              "      <td>6.265.559.894</td>\n",
              "      <td>7.437.866.864</td>\n",
              "      <td>7.998.922.811</td>\n",
              "      <td>8.026.978.338</td>\n",
              "      <td>0.271445</td>\n",
              "      <td>0.581242</td>\n",
              "      <td>0.075617</td>\n",
              "      <td>0.887042</td>\n",
              "    </tr>\n",
              "    <tr>\n",
              "      <th>2</th>\n",
              "      <td>CONT-01</td>\n",
              "      <td>3</td>\n",
              "      <td>0</td>\n",
              "      <td>1</td>\n",
              "      <td>0.23514</td>\n",
              "      <td>0.000013</td>\n",
              "      <td>0.001353</td>\n",
              "      <td>0.001546</td>\n",
              "      <td>0.019338</td>\n",
              "      <td>0.16710</td>\n",
              "      <td>...</td>\n",
              "      <td>0.013038</td>\n",
              "      <td>5.729.380.773</td>\n",
              "      <td>6.185.833.645</td>\n",
              "      <td>7.366.529.735</td>\n",
              "      <td>7.893.050.194</td>\n",
              "      <td>7.903.350.989</td>\n",
              "      <td>0.203531</td>\n",
              "      <td>0.600759</td>\n",
              "      <td>0.005283</td>\n",
              "      <td>0.889399</td>\n",
              "    </tr>\n",
              "    <tr>\n",
              "      <th>3</th>\n",
              "      <td>CONT-02</td>\n",
              "      <td>1</td>\n",
              "      <td>0</td>\n",
              "      <td>0</td>\n",
              "      <td>0.2932</td>\n",
              "      <td>0.000017</td>\n",
              "      <td>0.001105</td>\n",
              "      <td>0.001444</td>\n",
              "      <td>0.024716</td>\n",
              "      <td>0.20892</td>\n",
              "      <td>...</td>\n",
              "      <td>0.018330</td>\n",
              "      <td>621.795.726</td>\n",
              "      <td>6.867.820.519</td>\n",
              "      <td>7.983.998.418</td>\n",
              "      <td>843.676.822</td>\n",
              "      <td>8.425.243.013</td>\n",
              "      <td>0.261360</td>\n",
              "      <td>0.625216</td>\n",
              "      <td>0.030518</td>\n",
              "      <td>0.875984</td>\n",
              "    </tr>\n",
              "    <tr>\n",
              "      <th>4</th>\n",
              "      <td>CONT-02</td>\n",
              "      <td>2</td>\n",
              "      <td>0</td>\n",
              "      <td>0</td>\n",
              "      <td>0.23075</td>\n",
              "      <td>0.000015</td>\n",
              "      <td>0.001073</td>\n",
              "      <td>0.001404</td>\n",
              "      <td>0.013119</td>\n",
              "      <td>0.11607</td>\n",
              "      <td>...</td>\n",
              "      <td>0.011037</td>\n",
              "      <td>6.753.402.425</td>\n",
              "      <td>7.497.685.811</td>\n",
              "      <td>8.572.742.038</td>\n",
              "      <td>9.103.396.742</td>\n",
              "      <td>9.114.518.943</td>\n",
              "      <td>0.222069</td>\n",
              "      <td>0.602493</td>\n",
              "      <td>0.035602</td>\n",
              "      <td>0.902206</td>\n",
              "    </tr>\n",
              "  </tbody>\n",
              "</table>\n",
              "<p>5 rows × 22 columns</p>\n",
              "</div>"
            ],
            "text/plain": [
              "        ID  Recording  Status  Gender Jitter_rel  Jitter_abs  Jitter_RAP  \\\n",
              "0  CONT-01          1       0       1    0.25546    0.000015    0.001467   \n",
              "1  CONT-01          2       0       1    0.36964    0.000022    0.001932   \n",
              "2  CONT-01          3       0       1    0.23514    0.000013    0.001353   \n",
              "3  CONT-02          1       0       0     0.2932    0.000017    0.001105   \n",
              "4  CONT-02          2       0       0    0.23075    0.000015    0.001073   \n",
              "\n",
              "   Jitter_PPQ  Shim_loc  Shim_dB  ...  Shi_APQ11          HNR05  \\\n",
              "0    0.001673  0.030256  0.26313  ...   0.021882  5.943.796.582   \n",
              "1    0.002245  0.023146  0.20217  ...   0.016828  5.983.889.542   \n",
              "2    0.001546  0.019338  0.16710  ...   0.013038  5.729.380.773   \n",
              "3    0.001444  0.024716  0.20892  ...   0.018330    621.795.726   \n",
              "4    0.001404  0.013119  0.11607  ...   0.011037  6.753.402.425   \n",
              "\n",
              "           HNR15          HNR25          HNR35          HNR38      RPDE  \\\n",
              "0  6.073.624.859  7.188.286.388  7.762.672.931  7.753.804.238  0.250433   \n",
              "1  6.265.559.894  7.437.866.864  7.998.922.811  8.026.978.338  0.271445   \n",
              "2  6.185.833.645  7.366.529.735  7.893.050.194  7.903.350.989  0.203531   \n",
              "3  6.867.820.519  7.983.998.418    843.676.822  8.425.243.013  0.261360   \n",
              "4  7.497.685.811  8.572.742.038  9.103.396.742  9.114.518.943  0.222069   \n",
              "\n",
              "        DFA       PPE       GNE  \n",
              "0  0.599346  0.005397  0.900404  \n",
              "1  0.581242  0.075617  0.887042  \n",
              "2  0.600759  0.005283  0.889399  \n",
              "3  0.625216  0.030518  0.875984  \n",
              "4  0.602493  0.035602  0.902206  \n",
              "\n",
              "[5 rows x 22 columns]"
            ]
          },
          "execution_count": 7,
          "metadata": {},
          "output_type": "execute_result"
        }
      ],
      "source": [
        "# printing the first 5 rows of the dataframe\n",
        "parkinsons_data.head()"
      ]
    },
    {
      "cell_type": "code",
      "execution_count": 8,
      "metadata": {
        "colab": {
          "base_uri": "https://localhost:8080/"
        },
        "id": "cK7L_o2TDuZb",
        "outputId": "bc2d89a6-5979-41cd-bded-0b0ee44f0008"
      },
      "outputs": [
        {
          "data": {
            "text/plain": [
              "(240, 22)"
            ]
          },
          "execution_count": 8,
          "metadata": {},
          "output_type": "execute_result"
        }
      ],
      "source": [
        "# number of rows and columns in the dataframe\n",
        "parkinsons_data.shape"
      ]
    },
    {
      "cell_type": "code",
      "execution_count": 9,
      "metadata": {
        "colab": {
          "base_uri": "https://localhost:8080/"
        },
        "id": "NLmzHIgnEGi4",
        "outputId": "80d5c4e1-8ae7-4686-b26f-ba73eb8f499d"
      },
      "outputs": [
        {
          "name": "stdout",
          "output_type": "stream",
          "text": [
            "<class 'pandas.core.frame.DataFrame'>\n",
            "RangeIndex: 240 entries, 0 to 239\n",
            "Data columns (total 22 columns):\n",
            " #   Column      Non-Null Count  Dtype  \n",
            "---  ------      --------------  -----  \n",
            " 0   ID          240 non-null    object \n",
            " 1   Recording   240 non-null    int64  \n",
            " 2   Status      240 non-null    int64  \n",
            " 3   Gender      240 non-null    int64  \n",
            " 4   Jitter_rel  240 non-null    object \n",
            " 5   Jitter_abs  240 non-null    float64\n",
            " 6   Jitter_RAP  240 non-null    float64\n",
            " 7   Jitter_PPQ  240 non-null    float64\n",
            " 8   Shim_loc    240 non-null    float64\n",
            " 9   Shim_dB     240 non-null    float64\n",
            " 10  Shim_APQ3   240 non-null    float64\n",
            " 11  Shim_APQ5   240 non-null    float64\n",
            " 12  Shi_APQ11   240 non-null    float64\n",
            " 13  HNR05       240 non-null    object \n",
            " 14  HNR15       240 non-null    object \n",
            " 15  HNR25       240 non-null    object \n",
            " 16  HNR35       240 non-null    object \n",
            " 17  HNR38       240 non-null    object \n",
            " 18  RPDE        240 non-null    float64\n",
            " 19  DFA         240 non-null    float64\n",
            " 20  PPE         240 non-null    float64\n",
            " 21  GNE         240 non-null    float64\n",
            "dtypes: float64(12), int64(3), object(7)\n",
            "memory usage: 41.4+ KB\n"
          ]
        }
      ],
      "source": [
        "# getting more information about the dataset\n",
        "parkinsons_data.info()"
      ]
    },
    {
      "cell_type": "code",
      "execution_count": 10,
      "metadata": {
        "colab": {
          "base_uri": "https://localhost:8080/"
        },
        "id": "70rgu_k4ET9F",
        "outputId": "bdbf9fe7-a6cb-4389-dee4-e69b8afb1932"
      },
      "outputs": [
        {
          "data": {
            "text/plain": [
              "ID            0\n",
              "Recording     0\n",
              "Status        0\n",
              "Gender        0\n",
              "Jitter_rel    0\n",
              "Jitter_abs    0\n",
              "Jitter_RAP    0\n",
              "Jitter_PPQ    0\n",
              "Shim_loc      0\n",
              "Shim_dB       0\n",
              "Shim_APQ3     0\n",
              "Shim_APQ5     0\n",
              "Shi_APQ11     0\n",
              "HNR05         0\n",
              "HNR15         0\n",
              "HNR25         0\n",
              "HNR35         0\n",
              "HNR38         0\n",
              "RPDE          0\n",
              "DFA           0\n",
              "PPE           0\n",
              "GNE           0\n",
              "dtype: int64"
            ]
          },
          "execution_count": 10,
          "metadata": {},
          "output_type": "execute_result"
        }
      ],
      "source": [
        "# checking for missing values in each column\n",
        "parkinsons_data.isnull().sum()"
      ]
    },
    {
      "cell_type": "code",
      "execution_count": 11,
      "metadata": {
        "colab": {
          "base_uri": "https://localhost:8080/",
          "height": 306
        },
        "id": "1AxFu0-nEhSA",
        "outputId": "ac7e78a5-45ad-4e2a-e0fc-89c90367d5fe"
      },
      "outputs": [
        {
          "data": {
            "text/html": [
              "<div>\n",
              "<style scoped>\n",
              "    .dataframe tbody tr th:only-of-type {\n",
              "        vertical-align: middle;\n",
              "    }\n",
              "\n",
              "    .dataframe tbody tr th {\n",
              "        vertical-align: top;\n",
              "    }\n",
              "\n",
              "    .dataframe thead th {\n",
              "        text-align: right;\n",
              "    }\n",
              "</style>\n",
              "<table border=\"1\" class=\"dataframe\">\n",
              "  <thead>\n",
              "    <tr style=\"text-align: right;\">\n",
              "      <th></th>\n",
              "      <th>Recording</th>\n",
              "      <th>Status</th>\n",
              "      <th>Gender</th>\n",
              "      <th>Jitter_abs</th>\n",
              "      <th>Jitter_RAP</th>\n",
              "      <th>Jitter_PPQ</th>\n",
              "      <th>Shim_loc</th>\n",
              "      <th>Shim_dB</th>\n",
              "      <th>Shim_APQ3</th>\n",
              "      <th>Shim_APQ5</th>\n",
              "      <th>Shi_APQ11</th>\n",
              "      <th>RPDE</th>\n",
              "      <th>DFA</th>\n",
              "      <th>PPE</th>\n",
              "      <th>GNE</th>\n",
              "    </tr>\n",
              "  </thead>\n",
              "  <tbody>\n",
              "    <tr>\n",
              "      <th>count</th>\n",
              "      <td>240.000000</td>\n",
              "      <td>240.000000</td>\n",
              "      <td>240.000000</td>\n",
              "      <td>240.000000</td>\n",
              "      <td>240.000000</td>\n",
              "      <td>240.000000</td>\n",
              "      <td>240.000000</td>\n",
              "      <td>240.000000</td>\n",
              "      <td>240.000000</td>\n",
              "      <td>240.000000</td>\n",
              "      <td>240.000000</td>\n",
              "      <td>240.000000</td>\n",
              "      <td>240.000000</td>\n",
              "      <td>240.000000</td>\n",
              "      <td>240.000000</td>\n",
              "    </tr>\n",
              "    <tr>\n",
              "      <th>mean</th>\n",
              "      <td>2.000000</td>\n",
              "      <td>0.500000</td>\n",
              "      <td>0.400000</td>\n",
              "      <td>0.000044</td>\n",
              "      <td>0.003172</td>\n",
              "      <td>0.003532</td>\n",
              "      <td>0.038428</td>\n",
              "      <td>0.509062</td>\n",
              "      <td>0.021499</td>\n",
              "      <td>0.023468</td>\n",
              "      <td>0.028671</td>\n",
              "      <td>0.310517</td>\n",
              "      <td>0.612911</td>\n",
              "      <td>0.271958</td>\n",
              "      <td>0.917801</td>\n",
              "    </tr>\n",
              "    <tr>\n",
              "      <th>std</th>\n",
              "      <td>0.818203</td>\n",
              "      <td>0.501045</td>\n",
              "      <td>0.490922</td>\n",
              "      <td>0.000045</td>\n",
              "      <td>0.003373</td>\n",
              "      <td>0.004449</td>\n",
              "      <td>0.023213</td>\n",
              "      <td>1.685121</td>\n",
              "      <td>0.013787</td>\n",
              "      <td>0.014402</td>\n",
              "      <td>0.016610</td>\n",
              "      <td>0.065639</td>\n",
              "      <td>0.077780</td>\n",
              "      <td>0.229851</td>\n",
              "      <td>0.033911</td>\n",
              "    </tr>\n",
              "    <tr>\n",
              "      <th>min</th>\n",
              "      <td>1.000000</td>\n",
              "      <td>0.000000</td>\n",
              "      <td>0.000000</td>\n",
              "      <td>0.000007</td>\n",
              "      <td>0.000678</td>\n",
              "      <td>0.001036</td>\n",
              "      <td>0.007444</td>\n",
              "      <td>0.064989</td>\n",
              "      <td>0.003344</td>\n",
              "      <td>0.004103</td>\n",
              "      <td>0.006459</td>\n",
              "      <td>0.162762</td>\n",
              "      <td>0.411359</td>\n",
              "      <td>0.004127</td>\n",
              "      <td>0.847307</td>\n",
              "    </tr>\n",
              "    <tr>\n",
              "      <th>25%</th>\n",
              "      <td>1.000000</td>\n",
              "      <td>0.000000</td>\n",
              "      <td>0.000000</td>\n",
              "      <td>0.000019</td>\n",
              "      <td>0.001551</td>\n",
              "      <td>0.001867</td>\n",
              "      <td>0.024336</td>\n",
              "      <td>0.211785</td>\n",
              "      <td>0.012910</td>\n",
              "      <td>0.014985</td>\n",
              "      <td>0.019180</td>\n",
              "      <td>0.263217</td>\n",
              "      <td>0.556756</td>\n",
              "      <td>0.040811</td>\n",
              "      <td>0.891408</td>\n",
              "    </tr>\n",
              "    <tr>\n",
              "      <th>50%</th>\n",
              "      <td>2.000000</td>\n",
              "      <td>0.500000</td>\n",
              "      <td>0.000000</td>\n",
              "      <td>0.000035</td>\n",
              "      <td>0.002337</td>\n",
              "      <td>0.002870</td>\n",
              "      <td>0.032960</td>\n",
              "      <td>0.287885</td>\n",
              "      <td>0.018571</td>\n",
              "      <td>0.019897</td>\n",
              "      <td>0.024909</td>\n",
              "      <td>0.305054</td>\n",
              "      <td>0.606502</td>\n",
              "      <td>0.246486</td>\n",
              "      <td>0.912809</td>\n",
              "    </tr>\n",
              "    <tr>\n",
              "      <th>75%</th>\n",
              "      <td>3.000000</td>\n",
              "      <td>1.000000</td>\n",
              "      <td>1.000000</td>\n",
              "      <td>0.000056</td>\n",
              "      <td>0.003678</td>\n",
              "      <td>0.003991</td>\n",
              "      <td>0.045475</td>\n",
              "      <td>0.399860</td>\n",
              "      <td>0.025784</td>\n",
              "      <td>0.027900</td>\n",
              "      <td>0.033757</td>\n",
              "      <td>0.349273</td>\n",
              "      <td>0.661144</td>\n",
              "      <td>0.405402</td>\n",
              "      <td>0.946479</td>\n",
              "    </tr>\n",
              "    <tr>\n",
              "      <th>max</th>\n",
              "      <td>3.000000</td>\n",
              "      <td>1.000000</td>\n",
              "      <td>1.000000</td>\n",
              "      <td>0.000550</td>\n",
              "      <td>0.043843</td>\n",
              "      <td>0.065199</td>\n",
              "      <td>0.192600</td>\n",
              "      <td>17.476000</td>\n",
              "      <td>0.113240</td>\n",
              "      <td>0.120760</td>\n",
              "      <td>0.142440</td>\n",
              "      <td>0.535953</td>\n",
              "      <td>0.784376</td>\n",
              "      <td>0.908395</td>\n",
              "      <td>0.987292</td>\n",
              "    </tr>\n",
              "  </tbody>\n",
              "</table>\n",
              "</div>"
            ],
            "text/plain": [
              "        Recording      Status      Gender  Jitter_abs  Jitter_RAP  Jitter_PPQ  \\\n",
              "count  240.000000  240.000000  240.000000  240.000000  240.000000  240.000000   \n",
              "mean     2.000000    0.500000    0.400000    0.000044    0.003172    0.003532   \n",
              "std      0.818203    0.501045    0.490922    0.000045    0.003373    0.004449   \n",
              "min      1.000000    0.000000    0.000000    0.000007    0.000678    0.001036   \n",
              "25%      1.000000    0.000000    0.000000    0.000019    0.001551    0.001867   \n",
              "50%      2.000000    0.500000    0.000000    0.000035    0.002337    0.002870   \n",
              "75%      3.000000    1.000000    1.000000    0.000056    0.003678    0.003991   \n",
              "max      3.000000    1.000000    1.000000    0.000550    0.043843    0.065199   \n",
              "\n",
              "         Shim_loc     Shim_dB   Shim_APQ3   Shim_APQ5   Shi_APQ11        RPDE  \\\n",
              "count  240.000000  240.000000  240.000000  240.000000  240.000000  240.000000   \n",
              "mean     0.038428    0.509062    0.021499    0.023468    0.028671    0.310517   \n",
              "std      0.023213    1.685121    0.013787    0.014402    0.016610    0.065639   \n",
              "min      0.007444    0.064989    0.003344    0.004103    0.006459    0.162762   \n",
              "25%      0.024336    0.211785    0.012910    0.014985    0.019180    0.263217   \n",
              "50%      0.032960    0.287885    0.018571    0.019897    0.024909    0.305054   \n",
              "75%      0.045475    0.399860    0.025784    0.027900    0.033757    0.349273   \n",
              "max      0.192600   17.476000    0.113240    0.120760    0.142440    0.535953   \n",
              "\n",
              "              DFA         PPE         GNE  \n",
              "count  240.000000  240.000000  240.000000  \n",
              "mean     0.612911    0.271958    0.917801  \n",
              "std      0.077780    0.229851    0.033911  \n",
              "min      0.411359    0.004127    0.847307  \n",
              "25%      0.556756    0.040811    0.891408  \n",
              "50%      0.606502    0.246486    0.912809  \n",
              "75%      0.661144    0.405402    0.946479  \n",
              "max      0.784376    0.908395    0.987292  "
            ]
          },
          "execution_count": 11,
          "metadata": {},
          "output_type": "execute_result"
        }
      ],
      "source": [
        "# getting some statistical measures about the data\n",
        "parkinsons_data.describe()"
      ]
    },
    {
      "cell_type": "code",
      "execution_count": 13,
      "metadata": {
        "colab": {
          "base_uri": "https://localhost:8080/"
        },
        "id": "3O8AclzwExyH",
        "outputId": "b63cd18d-477c-4f09-877c-93242e082cf2"
      },
      "outputs": [
        {
          "data": {
            "text/plain": [
              "0    120\n",
              "1    120\n",
              "Name: Status, dtype: int64"
            ]
          },
          "execution_count": 13,
          "metadata": {},
          "output_type": "execute_result"
        }
      ],
      "source": [
        "# distribution of target Variable\n",
        "parkinsons_data['Status'].value_counts()"
      ]
    },
    {
      "cell_type": "markdown",
      "metadata": {
        "id": "L1srlxtEFYfN"
      },
      "source": [
        "1  --> Parkinson's Positive\n",
        "\n",
        "0 --> Healthy\n"
      ]
    },
    {
      "cell_type": "code",
      "execution_count": 15,
      "metadata": {
        "colab": {
          "base_uri": "https://localhost:8080/",
          "height": 157
        },
        "id": "zUrPan7CFTMq",
        "outputId": "eec7e87b-eb34-46f7-e644-6a1536eeb036"
      },
      "outputs": [
        {
          "data": {
            "text/html": [
              "<div>\n",
              "<style scoped>\n",
              "    .dataframe tbody tr th:only-of-type {\n",
              "        vertical-align: middle;\n",
              "    }\n",
              "\n",
              "    .dataframe tbody tr th {\n",
              "        vertical-align: top;\n",
              "    }\n",
              "\n",
              "    .dataframe thead th {\n",
              "        text-align: right;\n",
              "    }\n",
              "</style>\n",
              "<table border=\"1\" class=\"dataframe\">\n",
              "  <thead>\n",
              "    <tr style=\"text-align: right;\">\n",
              "      <th></th>\n",
              "      <th>Recording</th>\n",
              "      <th>Gender</th>\n",
              "      <th>Jitter_abs</th>\n",
              "      <th>Jitter_RAP</th>\n",
              "      <th>Jitter_PPQ</th>\n",
              "      <th>Shim_loc</th>\n",
              "      <th>Shim_dB</th>\n",
              "      <th>Shim_APQ3</th>\n",
              "      <th>Shim_APQ5</th>\n",
              "      <th>Shi_APQ11</th>\n",
              "      <th>RPDE</th>\n",
              "      <th>DFA</th>\n",
              "      <th>PPE</th>\n",
              "      <th>GNE</th>\n",
              "    </tr>\n",
              "    <tr>\n",
              "      <th>Status</th>\n",
              "      <th></th>\n",
              "      <th></th>\n",
              "      <th></th>\n",
              "      <th></th>\n",
              "      <th></th>\n",
              "      <th></th>\n",
              "      <th></th>\n",
              "      <th></th>\n",
              "      <th></th>\n",
              "      <th></th>\n",
              "      <th></th>\n",
              "      <th></th>\n",
              "      <th></th>\n",
              "      <th></th>\n",
              "    </tr>\n",
              "  </thead>\n",
              "  <tbody>\n",
              "    <tr>\n",
              "      <th>0</th>\n",
              "      <td>2.0</td>\n",
              "      <td>0.45</td>\n",
              "      <td>0.000040</td>\n",
              "      <td>0.002486</td>\n",
              "      <td>0.002787</td>\n",
              "      <td>0.032928</td>\n",
              "      <td>0.287586</td>\n",
              "      <td>0.018054</td>\n",
              "      <td>0.019978</td>\n",
              "      <td>0.025368</td>\n",
              "      <td>0.305291</td>\n",
              "      <td>0.613922</td>\n",
              "      <td>0.241934</td>\n",
              "      <td>0.927783</td>\n",
              "    </tr>\n",
              "    <tr>\n",
              "      <th>1</th>\n",
              "      <td>2.0</td>\n",
              "      <td>0.35</td>\n",
              "      <td>0.000049</td>\n",
              "      <td>0.003858</td>\n",
              "      <td>0.004277</td>\n",
              "      <td>0.043928</td>\n",
              "      <td>0.730539</td>\n",
              "      <td>0.024945</td>\n",
              "      <td>0.026959</td>\n",
              "      <td>0.031974</td>\n",
              "      <td>0.315743</td>\n",
              "      <td>0.611899</td>\n",
              "      <td>0.301983</td>\n",
              "      <td>0.907820</td>\n",
              "    </tr>\n",
              "  </tbody>\n",
              "</table>\n",
              "</div>"
            ],
            "text/plain": [
              "        Recording  Gender  Jitter_abs  Jitter_RAP  Jitter_PPQ  Shim_loc  \\\n",
              "Status                                                                    \n",
              "0             2.0    0.45    0.000040    0.002486    0.002787  0.032928   \n",
              "1             2.0    0.35    0.000049    0.003858    0.004277  0.043928   \n",
              "\n",
              "         Shim_dB  Shim_APQ3  Shim_APQ5  Shi_APQ11      RPDE       DFA  \\\n",
              "Status                                                                  \n",
              "0       0.287586   0.018054   0.019978   0.025368  0.305291  0.613922   \n",
              "1       0.730539   0.024945   0.026959   0.031974  0.315743  0.611899   \n",
              "\n",
              "             PPE       GNE  \n",
              "Status                      \n",
              "0       0.241934  0.927783  \n",
              "1       0.301983  0.907820  "
            ]
          },
          "execution_count": 15,
          "metadata": {},
          "output_type": "execute_result"
        }
      ],
      "source": [
        "# grouping the data bas3ed on the target variable\n",
        "parkinsons_data.groupby('Status').mean()"
      ]
    },
    {
      "cell_type": "markdown",
      "metadata": {
        "id": "8RY6c0waGSs7"
      },
      "source": [
        "Data Pre-Processing"
      ]
    },
    {
      "cell_type": "markdown",
      "metadata": {
        "id": "We7sRYu7Gc4q"
      },
      "source": [
        "Separating the features & Target"
      ]
    },
    {
      "cell_type": "code",
      "execution_count": 17,
      "metadata": {
        "id": "UAcz8jFnFuzH"
      },
      "outputs": [],
      "source": [
        "X = parkinsons_data.drop(columns=['Status'], axis=1)\n",
        "Y = parkinsons_data['Status']"
      ]
    },
    {
      "cell_type": "code",
      "execution_count": 18,
      "metadata": {
        "colab": {
          "base_uri": "https://localhost:8080/"
        },
        "id": "guRof_8WG1Yn",
        "outputId": "61c562ee-4886-4d7f-cdfe-052890d1eda8"
      },
      "outputs": [
        {
          "name": "stdout",
          "output_type": "stream",
          "text": [
            "          ID  Recording  Gender Jitter_rel  Jitter_abs  Jitter_RAP  \\\n",
            "0    CONT-01          1       1    0.25546    0.000015    0.001467   \n",
            "1    CONT-01          2       1    0.36964    0.000022    0.001932   \n",
            "2    CONT-01          3       1    0.23514    0.000013    0.001353   \n",
            "3    CONT-02          1       0     0.2932    0.000017    0.001105   \n",
            "4    CONT-02          2       0    0.23075    0.000015    0.001073   \n",
            "..       ...        ...     ...        ...         ...         ...   \n",
            "235  PARK-39          2       0    0.57585    0.000037    0.003701   \n",
            "236  PARK-39          3       0    0.23322    0.000015    0.001270   \n",
            "237  PARK-40          1       0    0.26862    0.000022    0.001354   \n",
            "238  PARK-40          2       0    0.45376    0.000037    0.002724   \n",
            "239  PARK-40          3       0    0.34706    0.000028    0.001746   \n",
            "\n",
            "     Jitter_PPQ  Shim_loc  Shim_dB  Shim_APQ3  ...  Shi_APQ11          HNR05  \\\n",
            "0      0.001673  0.030256  0.26313   0.017463  ...   0.021882  5.943.796.582   \n",
            "1      0.002245  0.023146  0.20217   0.013010  ...   0.016828  5.983.889.542   \n",
            "2      0.001546  0.019338  0.16710   0.011049  ...   0.013038  5.729.380.773   \n",
            "3      0.001444  0.024716  0.20892   0.014525  ...   0.018330    621.795.726   \n",
            "4      0.001404  0.013119  0.11607   0.006461  ...   0.011037  6.753.402.425   \n",
            "..          ...       ...      ...        ...  ...        ...            ...   \n",
            "235    0.005149  0.016868  0.14928   0.008835  ...   0.015297  2.853.079.039   \n",
            "236    0.001497  0.017923  0.16720   0.008436  ...   0.015473  3.361.721.128   \n",
            "237    0.001615  0.028040  0.24182   0.015937  ...   0.021133  5.685.316.865   \n",
            "238    0.002258  0.064605  0.58002   0.041295  ...   0.037650  6.009.687.131   \n",
            "239    0.002060  0.019914  0.17087   0.011060  ...   0.015793  5.654.667.274   \n",
            "\n",
            "             HNR15          HNR25          HNR35          HNR38      RPDE  \\\n",
            "0    6.073.624.859  7.188.286.388  7.762.672.931  7.753.804.238  0.250433   \n",
            "1    6.265.559.894  7.437.866.864  7.998.922.811  8.026.978.338  0.271445   \n",
            "2    6.185.833.645  7.366.529.735  7.893.050.194  7.903.350.989  0.203531   \n",
            "3    6.867.820.519  7.983.998.418    843.676.822  8.425.243.013  0.261360   \n",
            "4    7.497.685.811  8.572.742.038  9.103.396.742  9.114.518.943  0.222069   \n",
            "..             ...            ...            ...            ...       ...   \n",
            "235  2.862.532.565  3.777.847.983  4.316.532.707  4.408.582.473  0.215651   \n",
            "236  3.626.462.946  4.552.676.423  5.213.509.959  5.341.762.995  0.220526   \n",
            "237  6.466.346.175  7.661.075.163  8.279.447.732  8.350.990.204  0.263589   \n",
            "238  6.756.266.268     79.713.585  8.682.684.289  8.738.289.541  0.341671   \n",
            "239    631.963.574  7.502.467.149  8.162.330.602  8.241.153.803  0.253676   \n",
            "\n",
            "          DFA       PPE       GNE  \n",
            "0    0.599346  0.005397  0.900404  \n",
            "1    0.581242  0.075617  0.887042  \n",
            "2    0.600759  0.005283  0.889399  \n",
            "3    0.625216  0.030518  0.875984  \n",
            "4    0.602493  0.035602  0.902206  \n",
            "..        ...       ...       ...  \n",
            "235  0.593082  0.167809  0.930245  \n",
            "236  0.570358  0.246111  0.959233  \n",
            "237  0.652365  0.711209  0.914342  \n",
            "238  0.638666  0.736968  0.903977  \n",
            "239  0.623785  0.637331  0.921056  \n",
            "\n",
            "[240 rows x 21 columns]\n"
          ]
        }
      ],
      "source": [
        "print(X)"
      ]
    },
    {
      "cell_type": "code",
      "execution_count": 19,
      "metadata": {
        "colab": {
          "base_uri": "https://localhost:8080/"
        },
        "id": "xSNrvkJoG3cY",
        "outputId": "a9962d49-037d-495b-c934-809567955862"
      },
      "outputs": [
        {
          "name": "stdout",
          "output_type": "stream",
          "text": [
            "0      0\n",
            "1      0\n",
            "2      0\n",
            "3      0\n",
            "4      0\n",
            "      ..\n",
            "235    1\n",
            "236    1\n",
            "237    1\n",
            "238    1\n",
            "239    1\n",
            "Name: Status, Length: 240, dtype: int64\n"
          ]
        }
      ],
      "source": [
        "print(Y)"
      ]
    },
    {
      "cell_type": "markdown",
      "metadata": {
        "id": "WDeqEaaHHBAS"
      },
      "source": [
        "Splitting the data to training data & Test data"
      ]
    },
    {
      "cell_type": "code",
      "execution_count": 20,
      "metadata": {
        "id": "4c6nrCiVG6NB"
      },
      "outputs": [],
      "source": [
        "X_train, X_test, Y_train, Y_test = train_test_split(X, Y, test_size=0.2, random_state=2)"
      ]
    },
    {
      "cell_type": "code",
      "execution_count": 21,
      "metadata": {
        "colab": {
          "base_uri": "https://localhost:8080/"
        },
        "id": "6OqUka96H35c",
        "outputId": "d770b48c-ebae-48c8-e637-9df61230c03c"
      },
      "outputs": [
        {
          "name": "stdout",
          "output_type": "stream",
          "text": [
            "(240, 21) (192, 21) (48, 21)\n"
          ]
        }
      ],
      "source": [
        "print(X.shape, X_train.shape, X_test.shape)"
      ]
    },
    {
      "cell_type": "markdown",
      "metadata": {
        "id": "ACsXtFTGIFU-"
      },
      "source": [
        "Data Standardization"
      ]
    },
    {
      "cell_type": "code",
      "execution_count": 22,
      "metadata": {
        "id": "DbpeUHeUH-4A"
      },
      "outputs": [],
      "source": [
        "scaler = StandardScaler()"
      ]
    },
    {
      "cell_type": "code",
      "execution_count": 23,
      "metadata": {
        "colab": {
          "base_uri": "https://localhost:8080/"
        },
        "id": "MVkVqUbhIdBs",
        "outputId": "bddcf5c3-842a-4f92-cc63-813e13ad3b5d"
      },
      "outputs": [
        {
          "ename": "ValueError",
          "evalue": "could not convert string to float: 'PARK-34'",
          "output_type": "error",
          "traceback": [
            "\u001b[1;31m---------------------------------------------------------------------------\u001b[0m",
            "\u001b[1;31mValueError\u001b[0m                                Traceback (most recent call last)",
            "Cell \u001b[1;32mIn[23], line 1\u001b[0m\n\u001b[1;32m----> 1\u001b[0m scaler\u001b[39m.\u001b[39;49mfit(X_train)\n",
            "File \u001b[1;32mc:\\Users\\alech\\AppData\\Local\\Programs\\Python\\Python310\\lib\\site-packages\\sklearn\\preprocessing\\_data.py:806\u001b[0m, in \u001b[0;36mStandardScaler.fit\u001b[1;34m(self, X, y, sample_weight)\u001b[0m\n\u001b[0;32m    804\u001b[0m \u001b[39m# Reset internal state before fitting\u001b[39;00m\n\u001b[0;32m    805\u001b[0m \u001b[39mself\u001b[39m\u001b[39m.\u001b[39m_reset()\n\u001b[1;32m--> 806\u001b[0m \u001b[39mreturn\u001b[39;00m \u001b[39mself\u001b[39;49m\u001b[39m.\u001b[39;49mpartial_fit(X, y, sample_weight)\n",
            "File \u001b[1;32mc:\\Users\\alech\\AppData\\Local\\Programs\\Python\\Python310\\lib\\site-packages\\sklearn\\preprocessing\\_data.py:841\u001b[0m, in \u001b[0;36mStandardScaler.partial_fit\u001b[1;34m(self, X, y, sample_weight)\u001b[0m\n\u001b[0;32m    809\u001b[0m \u001b[39m\u001b[39m\u001b[39m\"\"\"Online computation of mean and std on X for later scaling.\u001b[39;00m\n\u001b[0;32m    810\u001b[0m \n\u001b[0;32m    811\u001b[0m \u001b[39mAll of X is processed as a single batch. This is intended for cases\u001b[39;00m\n\u001b[1;32m   (...)\u001b[0m\n\u001b[0;32m    838\u001b[0m \u001b[39m    Fitted scaler.\u001b[39;00m\n\u001b[0;32m    839\u001b[0m \u001b[39m\"\"\"\u001b[39;00m\n\u001b[0;32m    840\u001b[0m first_call \u001b[39m=\u001b[39m \u001b[39mnot\u001b[39;00m \u001b[39mhasattr\u001b[39m(\u001b[39mself\u001b[39m, \u001b[39m\"\u001b[39m\u001b[39mn_samples_seen_\u001b[39m\u001b[39m\"\u001b[39m)\n\u001b[1;32m--> 841\u001b[0m X \u001b[39m=\u001b[39m \u001b[39mself\u001b[39;49m\u001b[39m.\u001b[39;49m_validate_data(\n\u001b[0;32m    842\u001b[0m     X,\n\u001b[0;32m    843\u001b[0m     accept_sparse\u001b[39m=\u001b[39;49m(\u001b[39m\"\u001b[39;49m\u001b[39mcsr\u001b[39;49m\u001b[39m\"\u001b[39;49m, \u001b[39m\"\u001b[39;49m\u001b[39mcsc\u001b[39;49m\u001b[39m\"\u001b[39;49m),\n\u001b[0;32m    844\u001b[0m     estimator\u001b[39m=\u001b[39;49m\u001b[39mself\u001b[39;49m,\n\u001b[0;32m    845\u001b[0m     dtype\u001b[39m=\u001b[39;49mFLOAT_DTYPES,\n\u001b[0;32m    846\u001b[0m     force_all_finite\u001b[39m=\u001b[39;49m\u001b[39m\"\u001b[39;49m\u001b[39mallow-nan\u001b[39;49m\u001b[39m\"\u001b[39;49m,\n\u001b[0;32m    847\u001b[0m     reset\u001b[39m=\u001b[39;49mfirst_call,\n\u001b[0;32m    848\u001b[0m )\n\u001b[0;32m    849\u001b[0m n_features \u001b[39m=\u001b[39m X\u001b[39m.\u001b[39mshape[\u001b[39m1\u001b[39m]\n\u001b[0;32m    851\u001b[0m \u001b[39mif\u001b[39;00m sample_weight \u001b[39mis\u001b[39;00m \u001b[39mnot\u001b[39;00m \u001b[39mNone\u001b[39;00m:\n",
            "File \u001b[1;32mc:\\Users\\alech\\AppData\\Local\\Programs\\Python\\Python310\\lib\\site-packages\\sklearn\\base.py:566\u001b[0m, in \u001b[0;36mBaseEstimator._validate_data\u001b[1;34m(self, X, y, reset, validate_separately, **check_params)\u001b[0m\n\u001b[0;32m    564\u001b[0m     \u001b[39mraise\u001b[39;00m \u001b[39mValueError\u001b[39;00m(\u001b[39m\"\u001b[39m\u001b[39mValidation should be done on X, y or both.\u001b[39m\u001b[39m\"\u001b[39m)\n\u001b[0;32m    565\u001b[0m \u001b[39melif\u001b[39;00m \u001b[39mnot\u001b[39;00m no_val_X \u001b[39mand\u001b[39;00m no_val_y:\n\u001b[1;32m--> 566\u001b[0m     X \u001b[39m=\u001b[39m check_array(X, \u001b[39m*\u001b[39m\u001b[39m*\u001b[39mcheck_params)\n\u001b[0;32m    567\u001b[0m     out \u001b[39m=\u001b[39m X\n\u001b[0;32m    568\u001b[0m \u001b[39melif\u001b[39;00m no_val_X \u001b[39mand\u001b[39;00m \u001b[39mnot\u001b[39;00m no_val_y:\n",
            "File \u001b[1;32mc:\\Users\\alech\\AppData\\Local\\Programs\\Python\\Python310\\lib\\site-packages\\sklearn\\utils\\validation.py:746\u001b[0m, in \u001b[0;36mcheck_array\u001b[1;34m(array, accept_sparse, accept_large_sparse, dtype, order, copy, force_all_finite, ensure_2d, allow_nd, ensure_min_samples, ensure_min_features, estimator)\u001b[0m\n\u001b[0;32m    744\u001b[0m         array \u001b[39m=\u001b[39m array\u001b[39m.\u001b[39mastype(dtype, casting\u001b[39m=\u001b[39m\u001b[39m\"\u001b[39m\u001b[39munsafe\u001b[39m\u001b[39m\"\u001b[39m, copy\u001b[39m=\u001b[39m\u001b[39mFalse\u001b[39;00m)\n\u001b[0;32m    745\u001b[0m     \u001b[39melse\u001b[39;00m:\n\u001b[1;32m--> 746\u001b[0m         array \u001b[39m=\u001b[39m np\u001b[39m.\u001b[39;49masarray(array, order\u001b[39m=\u001b[39;49morder, dtype\u001b[39m=\u001b[39;49mdtype)\n\u001b[0;32m    747\u001b[0m \u001b[39mexcept\u001b[39;00m ComplexWarning \u001b[39mas\u001b[39;00m complex_warning:\n\u001b[0;32m    748\u001b[0m     \u001b[39mraise\u001b[39;00m \u001b[39mValueError\u001b[39;00m(\n\u001b[0;32m    749\u001b[0m         \u001b[39m\"\u001b[39m\u001b[39mComplex data not supported\u001b[39m\u001b[39m\\n\u001b[39;00m\u001b[39m{}\u001b[39;00m\u001b[39m\\n\u001b[39;00m\u001b[39m\"\u001b[39m\u001b[39m.\u001b[39mformat(array)\n\u001b[0;32m    750\u001b[0m     ) \u001b[39mfrom\u001b[39;00m \u001b[39mcomplex_warning\u001b[39;00m\n",
            "File \u001b[1;32mc:\\Users\\alech\\AppData\\Local\\Programs\\Python\\Python310\\lib\\site-packages\\pandas\\core\\generic.py:2072\u001b[0m, in \u001b[0;36mNDFrame.__array__\u001b[1;34m(self, dtype)\u001b[0m\n\u001b[0;32m   2071\u001b[0m \u001b[39mdef\u001b[39;00m \u001b[39m__array__\u001b[39m(\u001b[39mself\u001b[39m, dtype: npt\u001b[39m.\u001b[39mDTypeLike \u001b[39m|\u001b[39m \u001b[39mNone\u001b[39;00m \u001b[39m=\u001b[39m \u001b[39mNone\u001b[39;00m) \u001b[39m-\u001b[39m\u001b[39m>\u001b[39m np\u001b[39m.\u001b[39mndarray:\n\u001b[1;32m-> 2072\u001b[0m     \u001b[39mreturn\u001b[39;00m np\u001b[39m.\u001b[39;49masarray(\u001b[39mself\u001b[39;49m\u001b[39m.\u001b[39;49m_values, dtype\u001b[39m=\u001b[39;49mdtype)\n",
            "\u001b[1;31mValueError\u001b[0m: could not convert string to float: 'PARK-34'"
          ]
        }
      ],
      "source": [
        "scaler.fit(X_train)"
      ]
    },
    {
      "cell_type": "code",
      "execution_count": null,
      "metadata": {
        "id": "1FeONzpiInv5"
      },
      "outputs": [],
      "source": [
        "X_train = scaler.transform(X_train)\n",
        "\n",
        "X_test = scaler.transform(X_test)"
      ]
    },
    {
      "cell_type": "code",
      "execution_count": null,
      "metadata": {
        "colab": {
          "base_uri": "https://localhost:8080/"
        },
        "id": "OS2_4yaVJAiH",
        "outputId": "0c515226-8b53-4b03-928e-58edf30cc465"
      },
      "outputs": [
        {
          "name": "stdout",
          "output_type": "stream",
          "text": [
            "[[ 0.63239631 -0.02731081 -0.87985049 ... -0.97586547 -0.55160318\n",
            "   0.07769494]\n",
            " [-1.05512719 -0.83337041 -0.9284778  ...  0.3981808  -0.61014073\n",
            "   0.39291782]\n",
            " [ 0.02996187 -0.29531068 -1.12211107 ... -0.43937044 -0.62849605\n",
            "  -0.50948408]\n",
            " ...\n",
            " [-0.9096785  -0.6637302  -0.160638   ...  1.22001022 -0.47404629\n",
            "  -0.2159482 ]\n",
            " [-0.35977689  0.19731822 -0.79063679 ... -0.17896029 -0.47272835\n",
            "   0.28181221]\n",
            " [ 1.01957066  0.19922317 -0.61914972 ... -0.716232    1.23632066\n",
            "  -0.05829386]]\n"
          ]
        }
      ],
      "source": [
        "print(X_train)"
      ]
    },
    {
      "cell_type": "markdown",
      "metadata": {
        "id": "QIOAtx35JUMg"
      },
      "source": [
        "Model Training"
      ]
    },
    {
      "cell_type": "markdown",
      "metadata": {
        "id": "fWlsaBNuJV5g"
      },
      "source": [
        "Support Vector Machine Model"
      ]
    },
    {
      "cell_type": "code",
      "execution_count": null,
      "metadata": {
        "id": "IDInA1u5JCZ9"
      },
      "outputs": [],
      "source": [
        "model = svm.SVC(kernel='linear')"
      ]
    },
    {
      "cell_type": "code",
      "execution_count": null,
      "metadata": {
        "colab": {
          "base_uri": "https://localhost:8080/"
        },
        "id": "F01DNpqWKmaW",
        "outputId": "7b78fa09-3465-4765-d508-eb379733db15"
      },
      "outputs": [
        {
          "data": {
            "text/plain": [
              "SVC(C=1.0, break_ties=False, cache_size=200, class_weight=None, coef0=0.0,\n",
              "    decision_function_shape='ovr', degree=3, gamma='scale', kernel='linear',\n",
              "    max_iter=-1, probability=False, random_state=None, shrinking=True,\n",
              "    tol=0.001, verbose=False)"
            ]
          },
          "execution_count": 23,
          "metadata": {
            "tags": []
          },
          "output_type": "execute_result"
        }
      ],
      "source": [
        "# training the SVM model with training data\n",
        "model.fit(X_train, Y_train)"
      ]
    },
    {
      "cell_type": "markdown",
      "metadata": {
        "id": "1z_-nZfuLJrH"
      },
      "source": [
        "Model Evaluation"
      ]
    },
    {
      "cell_type": "markdown",
      "metadata": {
        "id": "Rj3XAnF8LMF4"
      },
      "source": [
        "Accuracy Score"
      ]
    },
    {
      "cell_type": "code",
      "execution_count": null,
      "metadata": {
        "id": "5LwxNgnqK1Za"
      },
      "outputs": [],
      "source": [
        "# accuracy score on training data\n",
        "X_train_prediction = model.predict(X_train)\n",
        "training_data_accuracy = accuracy_score(Y_train, X_train_prediction)"
      ]
    },
    {
      "cell_type": "code",
      "execution_count": null,
      "metadata": {
        "colab": {
          "base_uri": "https://localhost:8080/"
        },
        "id": "-dS9tcGdLm41",
        "outputId": "25767495-13bc-4040-c7ae-be89443cfe11"
      },
      "outputs": [
        {
          "name": "stdout",
          "output_type": "stream",
          "text": [
            "Accuracy score of training data :  0.8846153846153846\n"
          ]
        }
      ],
      "source": [
        "print('Accuracy score of training data : ', training_data_accuracy)"
      ]
    },
    {
      "cell_type": "code",
      "execution_count": null,
      "metadata": {
        "id": "rNUO2uHmLtjY"
      },
      "outputs": [],
      "source": [
        "# accuracy score on training data\n",
        "X_test_prediction = model.predict(X_test)\n",
        "test_data_accuracy = accuracy_score(Y_test, X_test_prediction)"
      ]
    },
    {
      "cell_type": "code",
      "execution_count": null,
      "metadata": {
        "colab": {
          "base_uri": "https://localhost:8080/"
        },
        "id": "BsF3UnQ2L_aR",
        "outputId": "b6d0d040-949e-4a71-ad1f-e4a7ea6102db"
      },
      "outputs": [
        {
          "name": "stdout",
          "output_type": "stream",
          "text": [
            "Accuracy score of test data :  0.8717948717948718\n"
          ]
        }
      ],
      "source": [
        "print('Accuracy score of test data : ', test_data_accuracy)"
      ]
    },
    {
      "cell_type": "markdown",
      "metadata": {
        "id": "QlR4JG4YMfOR"
      },
      "source": [
        "Building a Predictive System"
      ]
    },
    {
      "cell_type": "code",
      "execution_count": null,
      "metadata": {
        "colab": {
          "base_uri": "https://localhost:8080/"
        },
        "id": "w0FjSoO1MGBU",
        "outputId": "f2677b3a-c5c6-4719-b9ee-c361ec33dec9"
      },
      "outputs": [
        {
          "name": "stdout",
          "output_type": "stream",
          "text": [
            "[0]\n",
            "The Person does not have Parkinsons Disease\n"
          ]
        }
      ],
      "source": [
        "input_data = (197.07600,206.89600,192.05500,0.00289,0.00001,0.00166,0.00168,0.00498,0.01098,0.09700,0.00563,0.00680,0.00802,0.01689,0.00339,26.77500,0.422229,0.741367,-7.348300,0.177551,1.743867,0.085569)\n",
        "\n",
        "# changing input data to a numpy array\n",
        "input_data_as_numpy_array = np.asarray(input_data)\n",
        "\n",
        "# reshape the numpy array\n",
        "input_data_reshaped = input_data_as_numpy_array.reshape(1,-1)\n",
        "\n",
        "# standardize the data\n",
        "std_data = scaler.transform(input_data_reshaped)\n",
        "\n",
        "prediction = model.predict(std_data)\n",
        "print(prediction)\n",
        "\n",
        "\n",
        "if (prediction[0] == 0):\n",
        "  print(\"The Person does not have Parkinsons Disease\")\n",
        "\n",
        "else:\n",
        "  print(\"The Person has Parkinsons\")\n"
      ]
    }
  ],
  "metadata": {
    "colab": {
      "provenance": []
    },
    "kernelspec": {
      "display_name": "Python 3",
      "name": "python3"
    },
    "language_info": {
      "codemirror_mode": {
        "name": "ipython",
        "version": 3
      },
      "file_extension": ".py",
      "mimetype": "text/x-python",
      "name": "python",
      "nbconvert_exporter": "python",
      "pygments_lexer": "ipython3",
      "version": "3.10.0"
    }
  },
  "nbformat": 4,
  "nbformat_minor": 0
}
